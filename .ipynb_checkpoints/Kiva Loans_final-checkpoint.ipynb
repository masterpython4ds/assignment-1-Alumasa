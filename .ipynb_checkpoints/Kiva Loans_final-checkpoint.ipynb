{
 "cells": [
  {
   "cell_type": "markdown",
   "metadata": {},
   "source": [
    "Import python libraries."
   ]
  },
  {
   "cell_type": "code",
   "execution_count": 1,
   "metadata": {},
   "outputs": [],
   "source": [
    "import pandas as pd\n",
    "import numpy as np"
   ]
  },
  {
   "cell_type": "markdown",
   "metadata": {},
   "source": [
    "Read and preview the data."
   ]
  },
  {
   "cell_type": "code",
   "execution_count": 2,
   "metadata": {},
   "outputs": [
    {
     "data": {
      "text/html": [
       "<div>\n",
       "<style scoped>\n",
       "    .dataframe tbody tr th:only-of-type {\n",
       "        vertical-align: middle;\n",
       "    }\n",
       "\n",
       "    .dataframe tbody tr th {\n",
       "        vertical-align: top;\n",
       "    }\n",
       "\n",
       "    .dataframe thead th {\n",
       "        text-align: right;\n",
       "    }\n",
       "</style>\n",
       "<table border=\"1\" class=\"dataframe\">\n",
       "  <thead>\n",
       "    <tr style=\"text-align: right;\">\n",
       "      <th></th>\n",
       "      <th>id</th>\n",
       "      <th>funded_amount</th>\n",
       "      <th>loan_amount</th>\n",
       "      <th>activity</th>\n",
       "      <th>sector</th>\n",
       "      <th>use</th>\n",
       "      <th>country_code</th>\n",
       "      <th>country</th>\n",
       "      <th>region</th>\n",
       "      <th>currency</th>\n",
       "      <th>partner_id</th>\n",
       "      <th>posted_time</th>\n",
       "      <th>disbursed_time</th>\n",
       "      <th>funded_time</th>\n",
       "      <th>term_in_months</th>\n",
       "      <th>lender_count</th>\n",
       "      <th>tags</th>\n",
       "      <th>borrower_genders</th>\n",
       "      <th>repayment_interval</th>\n",
       "      <th>date</th>\n",
       "    </tr>\n",
       "  </thead>\n",
       "  <tbody>\n",
       "    <tr>\n",
       "      <th>0</th>\n",
       "      <td>653051</td>\n",
       "      <td>300.0</td>\n",
       "      <td>300.0</td>\n",
       "      <td>Fruits &amp; Vegetables</td>\n",
       "      <td>Food</td>\n",
       "      <td>To buy seasonal, fresh fruits to sell.</td>\n",
       "      <td>PK</td>\n",
       "      <td>Pakistan</td>\n",
       "      <td>Lahore</td>\n",
       "      <td>PKR</td>\n",
       "      <td>247.0</td>\n",
       "      <td>2014-01-01 06:12:39+00:00</td>\n",
       "      <td>2013-12-17 08:00:00+00:00</td>\n",
       "      <td>2014-01-02 10:06:32+00:00</td>\n",
       "      <td>12.0</td>\n",
       "      <td>12</td>\n",
       "      <td>NaN</td>\n",
       "      <td>female</td>\n",
       "      <td>irregular</td>\n",
       "      <td>2014-01-01</td>\n",
       "    </tr>\n",
       "    <tr>\n",
       "      <th>1</th>\n",
       "      <td>653053</td>\n",
       "      <td>575.0</td>\n",
       "      <td>575.0</td>\n",
       "      <td>Rickshaw</td>\n",
       "      <td>Transportation</td>\n",
       "      <td>to repair and maintain the auto rickshaw used ...</td>\n",
       "      <td>PK</td>\n",
       "      <td>Pakistan</td>\n",
       "      <td>Lahore</td>\n",
       "      <td>PKR</td>\n",
       "      <td>247.0</td>\n",
       "      <td>2014-01-01 06:51:08+00:00</td>\n",
       "      <td>2013-12-17 08:00:00+00:00</td>\n",
       "      <td>2014-01-02 09:17:23+00:00</td>\n",
       "      <td>11.0</td>\n",
       "      <td>14</td>\n",
       "      <td>NaN</td>\n",
       "      <td>female, female</td>\n",
       "      <td>irregular</td>\n",
       "      <td>2014-01-01</td>\n",
       "    </tr>\n",
       "    <tr>\n",
       "      <th>2</th>\n",
       "      <td>653068</td>\n",
       "      <td>150.0</td>\n",
       "      <td>150.0</td>\n",
       "      <td>Transportation</td>\n",
       "      <td>Transportation</td>\n",
       "      <td>To repair their old cycle-van and buy another ...</td>\n",
       "      <td>IN</td>\n",
       "      <td>India</td>\n",
       "      <td>Maynaguri</td>\n",
       "      <td>INR</td>\n",
       "      <td>334.0</td>\n",
       "      <td>2014-01-01 09:58:07+00:00</td>\n",
       "      <td>2013-12-17 08:00:00+00:00</td>\n",
       "      <td>2014-01-01 16:01:36+00:00</td>\n",
       "      <td>43.0</td>\n",
       "      <td>6</td>\n",
       "      <td>user_favorite, user_favorite</td>\n",
       "      <td>female</td>\n",
       "      <td>bullet</td>\n",
       "      <td>2014-01-01</td>\n",
       "    </tr>\n",
       "    <tr>\n",
       "      <th>3</th>\n",
       "      <td>653063</td>\n",
       "      <td>200.0</td>\n",
       "      <td>200.0</td>\n",
       "      <td>Embroidery</td>\n",
       "      <td>Arts</td>\n",
       "      <td>to purchase an embroidery machine and a variet...</td>\n",
       "      <td>PK</td>\n",
       "      <td>Pakistan</td>\n",
       "      <td>Lahore</td>\n",
       "      <td>PKR</td>\n",
       "      <td>247.0</td>\n",
       "      <td>2014-01-01 08:03:11+00:00</td>\n",
       "      <td>2013-12-24 08:00:00+00:00</td>\n",
       "      <td>2014-01-01 13:00:00+00:00</td>\n",
       "      <td>11.0</td>\n",
       "      <td>8</td>\n",
       "      <td>NaN</td>\n",
       "      <td>female</td>\n",
       "      <td>irregular</td>\n",
       "      <td>2014-01-01</td>\n",
       "    </tr>\n",
       "    <tr>\n",
       "      <th>4</th>\n",
       "      <td>653084</td>\n",
       "      <td>400.0</td>\n",
       "      <td>400.0</td>\n",
       "      <td>Milk Sales</td>\n",
       "      <td>Food</td>\n",
       "      <td>to purchase one buffalo.</td>\n",
       "      <td>PK</td>\n",
       "      <td>Pakistan</td>\n",
       "      <td>Abdul Hakeem</td>\n",
       "      <td>PKR</td>\n",
       "      <td>245.0</td>\n",
       "      <td>2014-01-01 11:53:19+00:00</td>\n",
       "      <td>2013-12-17 08:00:00+00:00</td>\n",
       "      <td>2014-01-01 19:18:51+00:00</td>\n",
       "      <td>14.0</td>\n",
       "      <td>16</td>\n",
       "      <td>NaN</td>\n",
       "      <td>female</td>\n",
       "      <td>monthly</td>\n",
       "      <td>2014-01-01</td>\n",
       "    </tr>\n",
       "  </tbody>\n",
       "</table>\n",
       "</div>"
      ],
      "text/plain": [
       "       id  funded_amount  loan_amount             activity          sector  \\\n",
       "0  653051          300.0        300.0  Fruits & Vegetables            Food   \n",
       "1  653053          575.0        575.0             Rickshaw  Transportation   \n",
       "2  653068          150.0        150.0       Transportation  Transportation   \n",
       "3  653063          200.0        200.0           Embroidery            Arts   \n",
       "4  653084          400.0        400.0           Milk Sales            Food   \n",
       "\n",
       "                                                 use country_code   country  \\\n",
       "0            To buy seasonal, fresh fruits to sell.            PK  Pakistan   \n",
       "1  to repair and maintain the auto rickshaw used ...           PK  Pakistan   \n",
       "2  To repair their old cycle-van and buy another ...           IN     India   \n",
       "3  to purchase an embroidery machine and a variet...           PK  Pakistan   \n",
       "4                           to purchase one buffalo.           PK  Pakistan   \n",
       "\n",
       "         region currency  partner_id                posted_time  \\\n",
       "0        Lahore      PKR       247.0  2014-01-01 06:12:39+00:00   \n",
       "1        Lahore      PKR       247.0  2014-01-01 06:51:08+00:00   \n",
       "2     Maynaguri      INR       334.0  2014-01-01 09:58:07+00:00   \n",
       "3        Lahore      PKR       247.0  2014-01-01 08:03:11+00:00   \n",
       "4  Abdul Hakeem      PKR       245.0  2014-01-01 11:53:19+00:00   \n",
       "\n",
       "              disbursed_time                funded_time  term_in_months  \\\n",
       "0  2013-12-17 08:00:00+00:00  2014-01-02 10:06:32+00:00            12.0   \n",
       "1  2013-12-17 08:00:00+00:00  2014-01-02 09:17:23+00:00            11.0   \n",
       "2  2013-12-17 08:00:00+00:00  2014-01-01 16:01:36+00:00            43.0   \n",
       "3  2013-12-24 08:00:00+00:00  2014-01-01 13:00:00+00:00            11.0   \n",
       "4  2013-12-17 08:00:00+00:00  2014-01-01 19:18:51+00:00            14.0   \n",
       "\n",
       "   lender_count                          tags borrower_genders  \\\n",
       "0            12                           NaN           female   \n",
       "1            14                           NaN   female, female   \n",
       "2             6  user_favorite, user_favorite           female   \n",
       "3             8                           NaN           female   \n",
       "4            16                           NaN           female   \n",
       "\n",
       "  repayment_interval        date  \n",
       "0          irregular  2014-01-01  \n",
       "1          irregular  2014-01-01  \n",
       "2             bullet  2014-01-01  \n",
       "3          irregular  2014-01-01  \n",
       "4            monthly  2014-01-01  "
      ]
     },
     "execution_count": 2,
     "metadata": {},
     "output_type": "execute_result"
    }
   ],
   "source": [
    "data = pd.read_csv('kiva_loans.csv')\n",
    "data.head()"
   ]
  },
  {
   "cell_type": "markdown",
   "metadata": {},
   "source": [
    "Look at data columns, null values and data types."
   ]
  },
  {
   "cell_type": "code",
   "execution_count": 3,
   "metadata": {},
   "outputs": [
    {
     "name": "stdout",
     "output_type": "stream",
     "text": [
      "<class 'pandas.core.frame.DataFrame'>\n",
      "RangeIndex: 671205 entries, 0 to 671204\n",
      "Data columns (total 20 columns):\n",
      " #   Column              Non-Null Count   Dtype  \n",
      "---  ------              --------------   -----  \n",
      " 0   id                  671205 non-null  int64  \n",
      " 1   funded_amount       671205 non-null  float64\n",
      " 2   loan_amount         671205 non-null  float64\n",
      " 3   activity            671205 non-null  object \n",
      " 4   sector              671205 non-null  object \n",
      " 5   use                 666973 non-null  object \n",
      " 6   country_code        671197 non-null  object \n",
      " 7   country             671205 non-null  object \n",
      " 8   region              614405 non-null  object \n",
      " 9   currency            671205 non-null  object \n",
      " 10  partner_id          657698 non-null  float64\n",
      " 11  posted_time         671205 non-null  object \n",
      " 12  disbursed_time      668809 non-null  object \n",
      " 13  funded_time         622874 non-null  object \n",
      " 14  term_in_months      671205 non-null  float64\n",
      " 15  lender_count        671205 non-null  int64  \n",
      " 16  tags                499789 non-null  object \n",
      " 17  borrower_genders    666984 non-null  object \n",
      " 18  repayment_interval  671205 non-null  object \n",
      " 19  date                671205 non-null  object \n",
      "dtypes: float64(4), int64(2), object(14)\n",
      "memory usage: 102.4+ MB\n"
     ]
    }
   ],
   "source": [
    "data.info()"
   ]
  },
  {
   "cell_type": "markdown",
   "metadata": {},
   "source": [
    "I will drop the following columns because they do not any information that will help in the analysis of Kiva borrowers."
   ]
  },
  {
   "cell_type": "code",
   "execution_count": 4,
   "metadata": {},
   "outputs": [],
   "source": [
    "#drop the following columns because they do not have a direct relationship with the borrowers of Kiva.\n",
    "data.drop(['funded_amount', 'activity', 'use', 'country_code', 'region', 'currency', 'partner_id', 'posted_time', 'disbursed_time', 'funded_time', 'lender_count', 'tags'], axis=1, inplace=True)"
   ]
  },
  {
   "cell_type": "code",
   "execution_count": 5,
   "metadata": {},
   "outputs": [
    {
     "name": "stdout",
     "output_type": "stream",
     "text": [
      "<class 'pandas.core.frame.DataFrame'>\n",
      "RangeIndex: 671205 entries, 0 to 671204\n",
      "Data columns (total 8 columns):\n",
      " #   Column              Non-Null Count   Dtype  \n",
      "---  ------              --------------   -----  \n",
      " 0   id                  671205 non-null  int64  \n",
      " 1   loan_amount         671205 non-null  float64\n",
      " 2   sector              671205 non-null  object \n",
      " 3   country             671205 non-null  object \n",
      " 4   term_in_months      671205 non-null  float64\n",
      " 5   borrower_genders    666984 non-null  object \n",
      " 6   repayment_interval  671205 non-null  object \n",
      " 7   date                671205 non-null  object \n",
      "dtypes: float64(2), int64(1), object(5)\n",
      "memory usage: 41.0+ MB\n"
     ]
    }
   ],
   "source": [
    "data.info()"
   ]
  },
  {
   "cell_type": "code",
   "execution_count": 6,
   "metadata": {},
   "outputs": [
    {
     "data": {
      "text/html": [
       "<div>\n",
       "<style scoped>\n",
       "    .dataframe tbody tr th:only-of-type {\n",
       "        vertical-align: middle;\n",
       "    }\n",
       "\n",
       "    .dataframe tbody tr th {\n",
       "        vertical-align: top;\n",
       "    }\n",
       "\n",
       "    .dataframe thead th {\n",
       "        text-align: right;\n",
       "    }\n",
       "</style>\n",
       "<table border=\"1\" class=\"dataframe\">\n",
       "  <thead>\n",
       "    <tr style=\"text-align: right;\">\n",
       "      <th></th>\n",
       "      <th>id</th>\n",
       "      <th>loan_amount</th>\n",
       "      <th>sector</th>\n",
       "      <th>country</th>\n",
       "      <th>term_in_months</th>\n",
       "      <th>borrower_genders</th>\n",
       "      <th>repayment_interval</th>\n",
       "      <th>date</th>\n",
       "    </tr>\n",
       "  </thead>\n",
       "  <tbody>\n",
       "    <tr>\n",
       "      <th>491842</th>\n",
       "      <td>1151487</td>\n",
       "      <td>750.0</td>\n",
       "      <td>Education</td>\n",
       "      <td>Tajikistan</td>\n",
       "      <td>20.0</td>\n",
       "      <td>female</td>\n",
       "      <td>monthly</td>\n",
       "      <td>2016-09-16</td>\n",
       "    </tr>\n",
       "    <tr>\n",
       "      <th>31287</th>\n",
       "      <td>684030</td>\n",
       "      <td>1500.0</td>\n",
       "      <td>Transportation</td>\n",
       "      <td>Bolivia</td>\n",
       "      <td>20.0</td>\n",
       "      <td>male</td>\n",
       "      <td>monthly</td>\n",
       "      <td>2014-03-14</td>\n",
       "    </tr>\n",
       "    <tr>\n",
       "      <th>668925</th>\n",
       "      <td>1333804</td>\n",
       "      <td>200.0</td>\n",
       "      <td>Services</td>\n",
       "      <td>Kenya</td>\n",
       "      <td>11.0</td>\n",
       "      <td>female</td>\n",
       "      <td>irregular</td>\n",
       "      <td>2017-07-05</td>\n",
       "    </tr>\n",
       "    <tr>\n",
       "      <th>43779</th>\n",
       "      <td>696217</td>\n",
       "      <td>2225.0</td>\n",
       "      <td>Food</td>\n",
       "      <td>Mali</td>\n",
       "      <td>7.0</td>\n",
       "      <td>female, female, female, female, female, female...</td>\n",
       "      <td>monthly</td>\n",
       "      <td>2014-04-10</td>\n",
       "    </tr>\n",
       "    <tr>\n",
       "      <th>613036</th>\n",
       "      <td>1275019</td>\n",
       "      <td>600.0</td>\n",
       "      <td>Food</td>\n",
       "      <td>El Salvador</td>\n",
       "      <td>17.0</td>\n",
       "      <td>female</td>\n",
       "      <td>monthly</td>\n",
       "      <td>2017-04-06</td>\n",
       "    </tr>\n",
       "    <tr>\n",
       "      <th>453041</th>\n",
       "      <td>1112540</td>\n",
       "      <td>550.0</td>\n",
       "      <td>Agriculture</td>\n",
       "      <td>Philippines</td>\n",
       "      <td>13.0</td>\n",
       "      <td>female</td>\n",
       "      <td>irregular</td>\n",
       "      <td>2016-07-07</td>\n",
       "    </tr>\n",
       "    <tr>\n",
       "      <th>663123</th>\n",
       "      <td>1325598</td>\n",
       "      <td>500.0</td>\n",
       "      <td>Retail</td>\n",
       "      <td>Pakistan</td>\n",
       "      <td>14.0</td>\n",
       "      <td>female</td>\n",
       "      <td>monthly</td>\n",
       "      <td>2017-06-22</td>\n",
       "    </tr>\n",
       "    <tr>\n",
       "      <th>245137</th>\n",
       "      <td>892992</td>\n",
       "      <td>1150.0</td>\n",
       "      <td>Agriculture</td>\n",
       "      <td>El Salvador</td>\n",
       "      <td>14.0</td>\n",
       "      <td>female</td>\n",
       "      <td>bullet</td>\n",
       "      <td>2015-05-27</td>\n",
       "    </tr>\n",
       "    <tr>\n",
       "      <th>178209</th>\n",
       "      <td>826932</td>\n",
       "      <td>575.0</td>\n",
       "      <td>Agriculture</td>\n",
       "      <td>Cambodia</td>\n",
       "      <td>14.0</td>\n",
       "      <td>female, female, female, female</td>\n",
       "      <td>monthly</td>\n",
       "      <td>2015-01-12</td>\n",
       "    </tr>\n",
       "    <tr>\n",
       "      <th>630931</th>\n",
       "      <td>1293497</td>\n",
       "      <td>675.0</td>\n",
       "      <td>Agriculture</td>\n",
       "      <td>Colombia</td>\n",
       "      <td>20.0</td>\n",
       "      <td>female</td>\n",
       "      <td>bullet</td>\n",
       "      <td>2017-05-05</td>\n",
       "    </tr>\n",
       "  </tbody>\n",
       "</table>\n",
       "</div>"
      ],
      "text/plain": [
       "             id  loan_amount          sector      country  term_in_months  \\\n",
       "491842  1151487        750.0       Education   Tajikistan            20.0   \n",
       "31287    684030       1500.0  Transportation      Bolivia            20.0   \n",
       "668925  1333804        200.0        Services        Kenya            11.0   \n",
       "43779    696217       2225.0            Food         Mali             7.0   \n",
       "613036  1275019        600.0            Food  El Salvador            17.0   \n",
       "453041  1112540        550.0     Agriculture  Philippines            13.0   \n",
       "663123  1325598        500.0          Retail     Pakistan            14.0   \n",
       "245137   892992       1150.0     Agriculture  El Salvador            14.0   \n",
       "178209   826932        575.0     Agriculture     Cambodia            14.0   \n",
       "630931  1293497        675.0     Agriculture     Colombia            20.0   \n",
       "\n",
       "                                         borrower_genders repayment_interval  \\\n",
       "491842                                             female            monthly   \n",
       "31287                                                male            monthly   \n",
       "668925                                             female          irregular   \n",
       "43779   female, female, female, female, female, female...            monthly   \n",
       "613036                                             female            monthly   \n",
       "453041                                             female          irregular   \n",
       "663123                                             female            monthly   \n",
       "245137                                             female             bullet   \n",
       "178209                     female, female, female, female            monthly   \n",
       "630931                                             female             bullet   \n",
       "\n",
       "              date  \n",
       "491842  2016-09-16  \n",
       "31287   2014-03-14  \n",
       "668925  2017-07-05  \n",
       "43779   2014-04-10  \n",
       "613036  2017-04-06  \n",
       "453041  2016-07-07  \n",
       "663123  2017-06-22  \n",
       "245137  2015-05-27  \n",
       "178209  2015-01-12  \n",
       "630931  2017-05-05  "
      ]
     },
     "execution_count": 6,
     "metadata": {},
     "output_type": "execute_result"
    }
   ],
   "source": [
    "data.sample(10)"
   ]
  },
  {
   "cell_type": "markdown",
   "metadata": {},
   "source": [
    "I'll change the date column to a datetime data type for easy time analysis."
   ]
  },
  {
   "cell_type": "code",
   "execution_count": 7,
   "metadata": {},
   "outputs": [],
   "source": [
    "data['date'] = pd.to_datetime(data['date'], format='%Y-%m-%d')"
   ]
  },
  {
   "cell_type": "markdown",
   "metadata": {},
   "source": [
    "I'll use isnull() method and chain it with sum() to find the total number of nulls in each column in the DataFrame"
   ]
  },
  {
   "cell_type": "code",
   "execution_count": 8,
   "metadata": {},
   "outputs": [
    {
     "data": {
      "text/plain": [
       "id                       0\n",
       "loan_amount              0\n",
       "sector                   0\n",
       "country                  0\n",
       "term_in_months           0\n",
       "borrower_genders      4221\n",
       "repayment_interval       0\n",
       "date                     0\n",
       "dtype: int64"
      ]
     },
     "execution_count": 8,
     "metadata": {},
     "output_type": "execute_result"
    }
   ],
   "source": [
    "data.isnull().sum()"
   ]
  },
  {
   "cell_type": "code",
   "execution_count": 9,
   "metadata": {},
   "outputs": [
    {
     "data": {
      "text/plain": [
       "(671205, 8)"
      ]
     },
     "execution_count": 9,
     "metadata": {},
     "output_type": "execute_result"
    }
   ],
   "source": [
    "data.shape"
   ]
  },
  {
   "cell_type": "markdown",
   "metadata": {},
   "source": [
    "I'll drop the rows with missing values, since 4221 is not such a significant number to do away with in my DataFrame."
   ]
  },
  {
   "cell_type": "code",
   "execution_count": 10,
   "metadata": {},
   "outputs": [],
   "source": [
    "#drop any row with a missing value\n",
    "data.dropna(axis=0, how='any', inplace=True)"
   ]
  },
  {
   "cell_type": "code",
   "execution_count": 11,
   "metadata": {},
   "outputs": [
    {
     "data": {
      "text/plain": [
       "(666984, 8)"
      ]
     },
     "execution_count": 11,
     "metadata": {},
     "output_type": "execute_result"
    }
   ],
   "source": [
    "data.shape"
   ]
  },
  {
   "cell_type": "markdown",
   "metadata": {},
   "source": [
    "I have noticed some anomalies in the gender column that could have occurred during data collection, so I'll clean it up."
   ]
  },
  {
   "cell_type": "code",
   "execution_count": 12,
   "metadata": {},
   "outputs": [
    {
     "data": {
      "text/plain": [
       "355990                    female\n",
       "269203            female, female\n",
       "216654                    female\n",
       "135012                    female\n",
       "50718     female, female, female\n",
       "172710                    female\n",
       "579792                    female\n",
       "88044                     female\n",
       "122181                      male\n",
       "108767                    female\n",
       "Name: borrower_genders, dtype: object"
      ]
     },
     "execution_count": 12,
     "metadata": {},
     "output_type": "execute_result"
    }
   ],
   "source": [
    "data['borrower_genders'].sample(10)"
   ]
  },
  {
   "cell_type": "markdown",
   "metadata": {},
   "source": [
    "I'll create a new column, of boolean type, to contain strings that contains female. True contains female, and False will hence contain male."
   ]
  },
  {
   "cell_type": "code",
   "execution_count": 13,
   "metadata": {},
   "outputs": [],
   "source": [
    "data['female_gender'] = data['borrower_genders'].str.contains('female')"
   ]
  },
  {
   "cell_type": "markdown",
   "metadata": {},
   "source": [
    "I'll create a gender column that encodes the above classification into 'F' and 'M'."
   ]
  },
  {
   "cell_type": "code",
   "execution_count": 14,
   "metadata": {},
   "outputs": [],
   "source": [
    "data.loc[data['female_gender'] == True, 'gender'] = 'F'\n",
    "data.loc[data['female_gender'] == False, 'gender'] ='M'"
   ]
  },
  {
   "cell_type": "markdown",
   "metadata": {},
   "source": [
    "I will drop the following columns since I now have a clean gender column. Using the drop() method, with axis and inplace arguments."
   ]
  },
  {
   "cell_type": "code",
   "execution_count": 15,
   "metadata": {},
   "outputs": [],
   "source": [
    "data.drop(['borrower_genders', 'female_gender'], axis=1, inplace=True)"
   ]
  },
  {
   "cell_type": "markdown",
   "metadata": {},
   "source": [
    "Now let's look at unique values and their counts in the gender column, using value_counts() method."
   ]
  },
  {
   "cell_type": "code",
   "execution_count": 16,
   "metadata": {},
   "outputs": [
    {
     "name": "stdout",
     "output_type": "stream",
     "text": [
      "F    528461\n",
      "M    138523\n",
      "Name: gender, dtype: int64\n"
     ]
    }
   ],
   "source": [
    "print(data['gender'].value_counts())"
   ]
  },
  {
   "cell_type": "markdown",
   "metadata": {},
   "source": [
    "I will convert the gender column into a category."
   ]
  },
  {
   "cell_type": "code",
   "execution_count": 17,
   "metadata": {},
   "outputs": [
    {
     "name": "stdout",
     "output_type": "stream",
     "text": [
      "60157     F\n",
      "80458     M\n",
      "440130    F\n",
      "3690      F\n",
      "610442    F\n",
      "Name: gender, dtype: category\n",
      "Categories (2, object): [F < M]\n"
     ]
    }
   ],
   "source": [
    "category = ['F', 'M']\n",
    "cat_dtype = pd.api.types.CategoricalDtype(categories=category, ordered=True)\n",
    "data['gender'] = data['gender'].astype(cat_dtype)\n",
    "\n",
    "print(data.gender.sample(5))"
   ]
  },
  {
   "cell_type": "markdown",
   "metadata": {},
   "source": [
    "Let's look at the repayment_interval column.\n",
    "Use value_counts() to find counts of unique values in the column."
   ]
  },
  {
   "cell_type": "code",
   "execution_count": 18,
   "metadata": {},
   "outputs": [
    {
     "name": "stdout",
     "output_type": "stream",
     "text": [
      "monthly      340171\n",
      "irregular    256573\n",
      "bullet        69638\n",
      "weekly          602\n",
      "Name: repayment_interval, dtype: int64\n"
     ]
    }
   ],
   "source": [
    "print(data['repayment_interval'].value_counts())"
   ]
  },
  {
   "cell_type": "markdown",
   "metadata": {},
   "source": [
    "bullet could mean daily, so I'll change it."
   ]
  },
  {
   "cell_type": "code",
   "execution_count": 19,
   "metadata": {},
   "outputs": [],
   "source": [
    "data.loc[data['repayment_interval'] == 'bullet', 'repayment_interval'] = 'daily'"
   ]
  },
  {
   "cell_type": "markdown",
   "metadata": {},
   "source": [
    "I'll change the repayment_interval column to a category too. Directly, using astype() method, with category as an argument."
   ]
  },
  {
   "cell_type": "code",
   "execution_count": 20,
   "metadata": {},
   "outputs": [
    {
     "name": "stdout",
     "output_type": "stream",
     "text": [
      "category\n",
      "monthly      340171\n",
      "irregular    256573\n",
      "daily         69638\n",
      "weekly          602\n",
      "Name: repayment_interval, dtype: int64\n"
     ]
    }
   ],
   "source": [
    "data['repayment_interval'] = data['repayment_interval'].astype('category')\n",
    "print(data['repayment_interval'].dtype)\n",
    "print(data.repayment_interval.value_counts())"
   ]
  },
  {
   "cell_type": "markdown",
   "metadata": {},
   "source": [
    "Let's look at the country column"
   ]
  },
  {
   "cell_type": "code",
   "execution_count": 21,
   "metadata": {},
   "outputs": [
    {
     "data": {
      "text/plain": [
       "0    Pakistan\n",
       "1    Pakistan\n",
       "2       India\n",
       "3    Pakistan\n",
       "4    Pakistan\n",
       "Name: country, dtype: object"
      ]
     },
     "execution_count": 21,
     "metadata": {},
     "output_type": "execute_result"
    }
   ],
   "source": [
    "data.country.head()"
   ]
  },
  {
   "cell_type": "code",
   "execution_count": 22,
   "metadata": {},
   "outputs": [
    {
     "name": "stdout",
     "output_type": "stream",
     "text": [
      "['Pakistan' 'India' 'Kenya' 'Nicaragua' 'El Salvador' 'Tanzania'\n",
      " 'Philippines' 'Peru' 'Senegal' 'Cambodia' 'Liberia' 'Vietnam' 'Iraq'\n",
      " 'Honduras' 'Palestine' 'Mongolia' 'United States' 'Mali' 'Colombia'\n",
      " 'Tajikistan' 'Guatemala' 'Ecuador' 'Bolivia' 'Yemen' 'Ghana'\n",
      " 'Sierra Leone' 'Haiti' 'Chile' 'Jordan' 'Uganda' 'Burundi' 'Burkina Faso'\n",
      " 'Timor-Leste' 'Indonesia' 'Georgia' 'Ukraine' 'Kosovo' 'Albania'\n",
      " 'The Democratic Republic of the Congo' 'Costa Rica' 'Somalia' 'Zimbabwe'\n",
      " 'Cameroon' 'Turkey' 'Azerbaijan' 'Dominican Republic' 'Brazil' 'Mexico'\n",
      " 'Kyrgyzstan' 'Armenia' 'Paraguay' 'Lebanon' 'Samoa' 'Israel' 'Rwanda'\n",
      " 'Zambia' 'Nepal' 'Congo' 'Mozambique' 'South Africa' 'Togo' 'Benin'\n",
      " 'Belize' 'Suriname' 'Thailand' 'Nigeria' 'Mauritania' 'Vanuatu' 'Panama'\n",
      " 'Virgin Islands' 'Saint Vincent and the Grenadines'\n",
      " \"Lao People's Democratic Republic\" 'Myanmar (Burma)' 'Malawi' 'Moldova'\n",
      " 'South Sudan' 'Solomon Islands' 'China' 'Egypt' 'Guam' 'Afghanistan'\n",
      " 'Madagascar' 'Namibia' 'Puerto Rico' 'Lesotho' \"Cote D'Ivoire\" 'Bhutan']\n",
      "87\n"
     ]
    }
   ],
   "source": [
    "print(data.country.unique())\n",
    "print(data.country.nunique())"
   ]
  },
  {
   "cell_type": "markdown",
   "metadata": {},
   "source": [
    "Let's also look at the sector column"
   ]
  },
  {
   "cell_type": "code",
   "execution_count": 23,
   "metadata": {},
   "outputs": [
    {
     "name": "stdout",
     "output_type": "stream",
     "text": [
      "['Food' 'Transportation' 'Arts' 'Services' 'Agriculture' 'Manufacturing'\n",
      " 'Wholesale' 'Retail' 'Clothing' 'Construction' 'Health' 'Education'\n",
      " 'Personal Use' 'Housing' 'Entertainment']\n",
      "15\n"
     ]
    },
    {
     "data": {
      "text/plain": [
       "Agriculture       179224\n",
       "Food              135749\n",
       "Retail            123758\n",
       "Services           44699\n",
       "Personal Use       36247\n",
       "Housing            33571\n",
       "Clothing           32480\n",
       "Education          30837\n",
       "Transportation     15455\n",
       "Arts               11994\n",
       "Health              9172\n",
       "Construction        6194\n",
       "Manufacturing       6158\n",
       "Entertainment        820\n",
       "Wholesale            626\n",
       "Name: sector, dtype: int64"
      ]
     },
     "execution_count": 23,
     "metadata": {},
     "output_type": "execute_result"
    }
   ],
   "source": [
    "print(data.sector.unique())\n",
    "print(data.sector.nunique())\n",
    "data.sector.value_counts()"
   ]
  },
  {
   "cell_type": "markdown",
   "metadata": {},
   "source": [
    "Because Food and Agriculture are directly related, I have changed them to one: Agriculture"
   ]
  },
  {
   "cell_type": "code",
   "execution_count": 24,
   "metadata": {},
   "outputs": [
    {
     "data": {
      "text/plain": [
       "array(['Agriculture', 'Transportation', 'Arts', 'Services',\n",
       "       'Manufacturing', 'Wholesale', 'Retail', 'Clothing', 'Construction',\n",
       "       'Health', 'Education', 'Personal Use', 'Housing', 'Entertainment'],\n",
       "      dtype=object)"
      ]
     },
     "execution_count": 24,
     "metadata": {},
     "output_type": "execute_result"
    }
   ],
   "source": [
    "data.loc[data['sector'] == 'Food', 'sector'] = 'Agriculture'\n",
    "data.sector.unique()"
   ]
  },
  {
   "cell_type": "markdown",
   "metadata": {},
   "source": [
    "Check for duplicates in the whole DataFrame using the duplicated() method."
   ]
  },
  {
   "cell_type": "code",
   "execution_count": 25,
   "metadata": {},
   "outputs": [
    {
     "data": {
      "text/plain": [
       "0"
      ]
     },
     "execution_count": 25,
     "metadata": {},
     "output_type": "execute_result"
    }
   ],
   "source": [
    "data.duplicated().sum()"
   ]
  },
  {
   "cell_type": "markdown",
   "metadata": {},
   "source": [
    "### Testing hypothesis towards finding out about the borrowers in Kiva.\n",
    "\n",
    "\n",
    "1.Who are they?-Gender.\n",
    "2.What do they do?-Sector\n",
    "3.Where do they come from?-Country\n",
    "4.How long have they borrowed?-term in months\n",
    "5.How do they pay? Poverty levels? -repayment intervals\n",
    "6.Which country borrows the most or the least? & In which sector?\n"
   ]
  },
  {
   "cell_type": "markdown",
   "metadata": {},
   "source": [
    "#### 1.What is the gender of most borrowers in Kiva? "
   ]
  },
  {
   "cell_type": "markdown",
   "metadata": {},
   "source": [
    "###### My hypothesis is that most borrowers in Kiva are female."
   ]
  },
  {
   "cell_type": "markdown",
   "metadata": {},
   "source": [
    "I will create variables with counts of each gender and use the total to calculate the percentage of each gender."
   ]
  },
  {
   "cell_type": "code",
   "execution_count": 26,
   "metadata": {},
   "outputs": [
    {
     "name": "stdout",
     "output_type": "stream",
     "text": [
      "The female borrowers are: 79%\n",
      "The male borrowers are: 21%\n"
     ]
    }
   ],
   "source": [
    "female_borrowers = data.gender[data['gender'] == 'F'].count()\n",
    "male_borrowers = data.gender[data['gender'] == 'M'].count()\n",
    "total_borrowers = data.shape[0]\n",
    "print('The female borrowers are: {:.0%}'.format(female_borrowers /total_borrowers))\n",
    "print('The male borrowers are: {:.0%}'.format(male_borrowers /total_borrowers))"
   ]
  },
  {
   "cell_type": "markdown",
   "metadata": {},
   "source": [
    "##### Female borrowers, at 79% are more than male borrowers at 21%."
   ]
  },
  {
   "cell_type": "markdown",
   "metadata": {},
   "source": [
    "#### 2.In which sector are the female and male genders involved in respectively?"
   ]
  },
  {
   "cell_type": "markdown",
   "metadata": {},
   "source": [
    "###### My hypothesis is that most female are in the Agriculture sector, and male in the Transportation sector."
   ]
  },
  {
   "cell_type": "code",
   "execution_count": 27,
   "metadata": {},
   "outputs": [
    {
     "data": {
      "text/html": [
       "<div>\n",
       "<style scoped>\n",
       "    .dataframe tbody tr th:only-of-type {\n",
       "        vertical-align: middle;\n",
       "    }\n",
       "\n",
       "    .dataframe tbody tr th {\n",
       "        vertical-align: top;\n",
       "    }\n",
       "\n",
       "    .dataframe thead th {\n",
       "        text-align: right;\n",
       "    }\n",
       "</style>\n",
       "<table border=\"1\" class=\"dataframe\">\n",
       "  <thead>\n",
       "    <tr style=\"text-align: right;\">\n",
       "      <th></th>\n",
       "      <th>id</th>\n",
       "      <th>loan_amount</th>\n",
       "      <th>sector</th>\n",
       "      <th>country</th>\n",
       "      <th>term_in_months</th>\n",
       "      <th>repayment_interval</th>\n",
       "      <th>date</th>\n",
       "      <th>gender</th>\n",
       "    </tr>\n",
       "  </thead>\n",
       "  <tbody>\n",
       "    <tr>\n",
       "      <th>0</th>\n",
       "      <td>653051</td>\n",
       "      <td>300.0</td>\n",
       "      <td>Agriculture</td>\n",
       "      <td>Pakistan</td>\n",
       "      <td>12.0</td>\n",
       "      <td>irregular</td>\n",
       "      <td>2014-01-01</td>\n",
       "      <td>F</td>\n",
       "    </tr>\n",
       "    <tr>\n",
       "      <th>1</th>\n",
       "      <td>653053</td>\n",
       "      <td>575.0</td>\n",
       "      <td>Transportation</td>\n",
       "      <td>Pakistan</td>\n",
       "      <td>11.0</td>\n",
       "      <td>irregular</td>\n",
       "      <td>2014-01-01</td>\n",
       "      <td>F</td>\n",
       "    </tr>\n",
       "    <tr>\n",
       "      <th>2</th>\n",
       "      <td>653068</td>\n",
       "      <td>150.0</td>\n",
       "      <td>Transportation</td>\n",
       "      <td>India</td>\n",
       "      <td>43.0</td>\n",
       "      <td>daily</td>\n",
       "      <td>2014-01-01</td>\n",
       "      <td>F</td>\n",
       "    </tr>\n",
       "    <tr>\n",
       "      <th>3</th>\n",
       "      <td>653063</td>\n",
       "      <td>200.0</td>\n",
       "      <td>Arts</td>\n",
       "      <td>Pakistan</td>\n",
       "      <td>11.0</td>\n",
       "      <td>irregular</td>\n",
       "      <td>2014-01-01</td>\n",
       "      <td>F</td>\n",
       "    </tr>\n",
       "    <tr>\n",
       "      <th>4</th>\n",
       "      <td>653084</td>\n",
       "      <td>400.0</td>\n",
       "      <td>Agriculture</td>\n",
       "      <td>Pakistan</td>\n",
       "      <td>14.0</td>\n",
       "      <td>monthly</td>\n",
       "      <td>2014-01-01</td>\n",
       "      <td>F</td>\n",
       "    </tr>\n",
       "  </tbody>\n",
       "</table>\n",
       "</div>"
      ],
      "text/plain": [
       "       id  loan_amount          sector   country  term_in_months  \\\n",
       "0  653051        300.0     Agriculture  Pakistan            12.0   \n",
       "1  653053        575.0  Transportation  Pakistan            11.0   \n",
       "2  653068        150.0  Transportation     India            43.0   \n",
       "3  653063        200.0            Arts  Pakistan            11.0   \n",
       "4  653084        400.0     Agriculture  Pakistan            14.0   \n",
       "\n",
       "  repayment_interval       date gender  \n",
       "0          irregular 2014-01-01      F  \n",
       "1          irregular 2014-01-01      F  \n",
       "2              daily 2014-01-01      F  \n",
       "3          irregular 2014-01-01      F  \n",
       "4            monthly 2014-01-01      F  "
      ]
     },
     "execution_count": 27,
     "metadata": {},
     "output_type": "execute_result"
    }
   ],
   "source": [
    "female_data = data[data['gender'] == 'F']\n",
    "male_data = data[data['gender'] == 'M']\n",
    "female_data.head(5)\n",
    "#male_data.sample(10)"
   ]
  },
  {
   "cell_type": "code",
   "execution_count": 28,
   "metadata": {},
   "outputs": [
    {
     "data": {
      "text/plain": [
       "Agriculture       250078\n",
       "Retail            109244\n",
       "Services           34512\n",
       "Clothing           29752\n",
       "Personal Use       27580\n",
       "Housing            25177\n",
       "Education          19008\n",
       "Arts               10758\n",
       "Transportation      8521\n",
       "Health              6203\n",
       "Manufacturing       3799\n",
       "Construction        3047\n",
       "Entertainment        424\n",
       "Wholesale            358\n",
       "Name: sector, dtype: int64"
      ]
     },
     "execution_count": 28,
     "metadata": {},
     "output_type": "execute_result"
    }
   ],
   "source": [
    "female_data['sector'].value_counts()"
   ]
  },
  {
   "cell_type": "markdown",
   "metadata": {},
   "source": [
    "Most female borrowers are in the Agriculture sector."
   ]
  },
  {
   "cell_type": "code",
   "execution_count": 29,
   "metadata": {},
   "outputs": [
    {
     "name": "stdout",
     "output_type": "stream",
     "text": [
      "The sector with the most amount of loan borrowed: Agriculture\n",
      "The highest loan amount borrowed per sector:262627050\n"
     ]
    }
   ],
   "source": [
    "print('The sector with the most amount of loan borrowed:', data.groupby('sector')['loan_amount'].sum().idxmax())\n",
    "print('The highest loan amount borrowed per sector:{:.0f}'.format(data.groupby('sector')['loan_amount'].sum().max()))"
   ]
  },
  {
   "cell_type": "code",
   "execution_count": 30,
   "metadata": {},
   "outputs": [
    {
     "data": {
      "text/plain": [
       "Agriculture       64895\n",
       "Retail            14514\n",
       "Education         11829\n",
       "Services          10187\n",
       "Personal Use       8667\n",
       "Housing            8394\n",
       "Transportation     6934\n",
       "Construction       3147\n",
       "Health             2969\n",
       "Clothing           2728\n",
       "Manufacturing      2359\n",
       "Arts               1236\n",
       "Entertainment       396\n",
       "Wholesale           268\n",
       "Name: sector, dtype: int64"
      ]
     },
     "execution_count": 30,
     "metadata": {},
     "output_type": "execute_result"
    }
   ],
   "source": [
    "male_data['sector'].value_counts()"
   ]
  },
  {
   "cell_type": "markdown",
   "metadata": {},
   "source": [
    "Most male borrowers are also in the Agriculture sector."
   ]
  },
  {
   "cell_type": "markdown",
   "metadata": {},
   "source": [
    "##### Both male and female borrowers are in the agricultural sector."
   ]
  },
  {
   "cell_type": "markdown",
   "metadata": {},
   "source": [
    "#### 3. In which country do most borrowers come from?"
   ]
  },
  {
   "cell_type": "markdown",
   "metadata": {},
   "source": [
    "I will use the groupby() method to group my data by country,  and the agg() method to find the value counts in the female column."
   ]
  },
  {
   "cell_type": "code",
   "execution_count": 31,
   "metadata": {},
   "outputs": [
    {
     "data": {
      "text/html": [
       "<div>\n",
       "<style scoped>\n",
       "    .dataframe tbody tr th:only-of-type {\n",
       "        vertical-align: middle;\n",
       "    }\n",
       "\n",
       "    .dataframe tbody tr th {\n",
       "        vertical-align: top;\n",
       "    }\n",
       "\n",
       "    .dataframe thead tr th {\n",
       "        text-align: left;\n",
       "    }\n",
       "\n",
       "    .dataframe thead tr:last-of-type th {\n",
       "        text-align: right;\n",
       "    }\n",
       "</style>\n",
       "<table border=\"1\" class=\"dataframe\">\n",
       "  <thead>\n",
       "    <tr>\n",
       "      <th></th>\n",
       "      <th></th>\n",
       "      <th>gender</th>\n",
       "    </tr>\n",
       "    <tr>\n",
       "      <th></th>\n",
       "      <th></th>\n",
       "      <th>value_counts</th>\n",
       "    </tr>\n",
       "    <tr>\n",
       "      <th>country</th>\n",
       "      <th>gender</th>\n",
       "      <th></th>\n",
       "    </tr>\n",
       "  </thead>\n",
       "  <tbody>\n",
       "    <tr>\n",
       "      <th>Afghanistan</th>\n",
       "      <th>F</th>\n",
       "      <td>2</td>\n",
       "    </tr>\n",
       "    <tr>\n",
       "      <th rowspan=\"2\" valign=\"top\">Albania</th>\n",
       "      <th>F</th>\n",
       "      <td>1018</td>\n",
       "    </tr>\n",
       "    <tr>\n",
       "      <th>M</th>\n",
       "      <td>899</td>\n",
       "    </tr>\n",
       "    <tr>\n",
       "      <th rowspan=\"2\" valign=\"top\">Armenia</th>\n",
       "      <th>F</th>\n",
       "      <td>5383</td>\n",
       "    </tr>\n",
       "    <tr>\n",
       "      <th>M</th>\n",
       "      <td>3245</td>\n",
       "    </tr>\n",
       "  </tbody>\n",
       "</table>\n",
       "</div>"
      ],
      "text/plain": [
       "                         gender\n",
       "                   value_counts\n",
       "country     gender             \n",
       "Afghanistan F                 2\n",
       "Albania     F              1018\n",
       "            M               899\n",
       "Armenia     F              5383\n",
       "            M              3245"
      ]
     },
     "execution_count": 31,
     "metadata": {},
     "output_type": "execute_result"
    }
   ],
   "source": [
    "country_grouped = data.groupby('country').agg({'gender': ['value_counts']})\n",
    "country_grouped.head(5)"
   ]
  },
  {
   "cell_type": "code",
   "execution_count": 32,
   "metadata": {},
   "outputs": [
    {
     "data": {
      "text/plain": [
       "pandas.core.frame.DataFrame"
      ]
     },
     "execution_count": 32,
     "metadata": {},
     "output_type": "execute_result"
    }
   ],
   "source": [
    "type(country_grouped)"
   ]
  },
  {
   "cell_type": "code",
   "execution_count": 33,
   "metadata": {},
   "outputs": [
    {
     "name": "stdout",
     "output_type": "stream",
     "text": [
      "value_counts    (Bhutan, F)\n",
      "dtype: object value_counts    1\n",
      "dtype: int64\n"
     ]
    }
   ],
   "source": [
    "print(country_grouped['gender'].idxmin(), country_grouped['gender'].min())"
   ]
  },
  {
   "cell_type": "code",
   "execution_count": 34,
   "metadata": {},
   "outputs": [
    {
     "name": "stdout",
     "output_type": "stream",
     "text": [
      "value_counts    (Philippines, F)\n",
      "dtype: object value_counts    151984\n",
      "dtype: int64\n"
     ]
    }
   ],
   "source": [
    "print(country_grouped['gender'].idxmax(), country_grouped['gender'].max())"
   ]
  },
  {
   "cell_type": "markdown",
   "metadata": {},
   "source": [
    "##### The highest country borrrower is Phillipines. In Phillippines, the female gender borrows the most.\n",
    "##### The lowest country borrower is Bhutan. With one female borrower.\n",
    "\n",
    "Why Phillipines? Is Kiva a Phillipines' company? Have more financial campaigns been done in Phillipines?"
   ]
  },
  {
   "cell_type": "markdown",
   "metadata": {},
   "source": [
    "#### 4. How long have they borrowed?\n",
    "Which is the longest borrowing gender?\n",
    "Which is the longest borrowing country?"
   ]
  },
  {
   "cell_type": "code",
   "execution_count": 35,
   "metadata": {},
   "outputs": [
    {
     "data": {
      "text/plain": [
       "count    666984.000000\n",
       "mean         13.730235\n",
       "std           8.596158\n",
       "min           1.000000\n",
       "25%           8.000000\n",
       "50%          13.000000\n",
       "75%          14.000000\n",
       "max         158.000000\n",
       "Name: term_in_months, dtype: float64"
      ]
     },
     "execution_count": 35,
     "metadata": {},
     "output_type": "execute_result"
    }
   ],
   "source": [
    "data.term_in_months.sample(5)\n",
    "data.term_in_months.describe()"
   ]
  },
  {
   "cell_type": "markdown",
   "metadata": {},
   "source": [
    "The mean and the median are the same, so there are no outliers affecting the mean.\n",
    "\n",
    "Although the standard deviation is too high, this means that some values are too far from the mean."
   ]
  },
  {
   "cell_type": "markdown",
   "metadata": {},
   "source": [
    "I'll group by gender to find the maximum term in months for each gender."
   ]
  },
  {
   "cell_type": "code",
   "execution_count": 36,
   "metadata": {},
   "outputs": [
    {
     "name": "stdout",
     "output_type": "stream",
     "text": [
      "gender\n",
      "F    158.0\n",
      "M    154.0\n",
      "Name: term_in_months, dtype: float64\n"
     ]
    }
   ],
   "source": [
    "term_gender = data.groupby('gender')['term_in_months'].max()\n",
    "print(term_gender)"
   ]
  },
  {
   "cell_type": "markdown",
   "metadata": {},
   "source": [
    "Grouping by country and then sorting in descending order to find which country has the longest borrower."
   ]
  },
  {
   "cell_type": "code",
   "execution_count": 37,
   "metadata": {},
   "outputs": [
    {
     "name": "stdout",
     "output_type": "stream",
     "text": [
      "country\n",
      "Dominican Republic    158.0\n",
      "Mexico                144.0\n",
      "South Africa          141.0\n",
      "Kenya                 122.0\n",
      "Cambodia              120.0\n",
      "                      ...  \n",
      "Lesotho                12.0\n",
      "Cote D'Ivoire          10.0\n",
      "Congo                   8.0\n",
      "Afghanistan             8.0\n",
      "Namibia                 7.0\n",
      "Name: term_in_months, Length: 87, dtype: float64\n"
     ]
    }
   ],
   "source": [
    "term_country = data.groupby('country')['term_in_months'].max()\n",
    "print(term_country.sort_values(ascending=False))"
   ]
  },
  {
   "cell_type": "markdown",
   "metadata": {},
   "source": [
    "I will access the row with full details of the borrower with the longest and shortest term, using the .loc() access method"
   ]
  },
  {
   "cell_type": "code",
   "execution_count": 38,
   "metadata": {},
   "outputs": [
    {
     "data": {
      "text/html": [
       "<div>\n",
       "<style scoped>\n",
       "    .dataframe tbody tr th:only-of-type {\n",
       "        vertical-align: middle;\n",
       "    }\n",
       "\n",
       "    .dataframe tbody tr th {\n",
       "        vertical-align: top;\n",
       "    }\n",
       "\n",
       "    .dataframe thead th {\n",
       "        text-align: right;\n",
       "    }\n",
       "</style>\n",
       "<table border=\"1\" class=\"dataframe\">\n",
       "  <thead>\n",
       "    <tr style=\"text-align: right;\">\n",
       "      <th></th>\n",
       "      <th>id</th>\n",
       "      <th>loan_amount</th>\n",
       "      <th>sector</th>\n",
       "      <th>country</th>\n",
       "      <th>term_in_months</th>\n",
       "      <th>repayment_interval</th>\n",
       "      <th>date</th>\n",
       "      <th>gender</th>\n",
       "    </tr>\n",
       "  </thead>\n",
       "  <tbody>\n",
       "    <tr>\n",
       "      <th>215863</th>\n",
       "      <td>863993</td>\n",
       "      <td>6725.0</td>\n",
       "      <td>Education</td>\n",
       "      <td>Dominican Republic</td>\n",
       "      <td>158.0</td>\n",
       "      <td>irregular</td>\n",
       "      <td>2015-03-30</td>\n",
       "      <td>F</td>\n",
       "    </tr>\n",
       "  </tbody>\n",
       "</table>\n",
       "</div>"
      ],
      "text/plain": [
       "            id  loan_amount     sector             country  term_in_months  \\\n",
       "215863  863993       6725.0  Education  Dominican Republic           158.0   \n",
       "\n",
       "       repayment_interval       date gender  \n",
       "215863          irregular 2015-03-30      F  "
      ]
     },
     "execution_count": 38,
     "metadata": {},
     "output_type": "execute_result"
    }
   ],
   "source": [
    "(data.loc[data['term_in_months'] == 158])"
   ]
  },
  {
   "cell_type": "code",
   "execution_count": 39,
   "metadata": {
    "scrolled": true
   },
   "outputs": [
    {
     "data": {
      "text/html": [
       "<div>\n",
       "<style scoped>\n",
       "    .dataframe tbody tr th:only-of-type {\n",
       "        vertical-align: middle;\n",
       "    }\n",
       "\n",
       "    .dataframe tbody tr th {\n",
       "        vertical-align: top;\n",
       "    }\n",
       "\n",
       "    .dataframe thead th {\n",
       "        text-align: right;\n",
       "    }\n",
       "</style>\n",
       "<table border=\"1\" class=\"dataframe\">\n",
       "  <thead>\n",
       "    <tr style=\"text-align: right;\">\n",
       "      <th></th>\n",
       "      <th>id</th>\n",
       "      <th>loan_amount</th>\n",
       "      <th>sector</th>\n",
       "      <th>country</th>\n",
       "      <th>term_in_months</th>\n",
       "      <th>repayment_interval</th>\n",
       "      <th>date</th>\n",
       "      <th>gender</th>\n",
       "    </tr>\n",
       "  </thead>\n",
       "  <tbody>\n",
       "    <tr>\n",
       "      <th>1877</th>\n",
       "      <td>1080189</td>\n",
       "      <td>125.0</td>\n",
       "      <td>Services</td>\n",
       "      <td>Kenya</td>\n",
       "      <td>1.0</td>\n",
       "      <td>irregular</td>\n",
       "      <td>2014-01-08</td>\n",
       "      <td>M</td>\n",
       "    </tr>\n",
       "    <tr>\n",
       "      <th>2915</th>\n",
       "      <td>1080219</td>\n",
       "      <td>250.0</td>\n",
       "      <td>Clothing</td>\n",
       "      <td>Kenya</td>\n",
       "      <td>1.0</td>\n",
       "      <td>irregular</td>\n",
       "      <td>2014-01-10</td>\n",
       "      <td>F</td>\n",
       "    </tr>\n",
       "    <tr>\n",
       "      <th>4277</th>\n",
       "      <td>1080268</td>\n",
       "      <td>125.0</td>\n",
       "      <td>Agriculture</td>\n",
       "      <td>Kenya</td>\n",
       "      <td>1.0</td>\n",
       "      <td>irregular</td>\n",
       "      <td>2014-01-15</td>\n",
       "      <td>M</td>\n",
       "    </tr>\n",
       "    <tr>\n",
       "      <th>6772</th>\n",
       "      <td>1080311</td>\n",
       "      <td>125.0</td>\n",
       "      <td>Clothing</td>\n",
       "      <td>Kenya</td>\n",
       "      <td>1.0</td>\n",
       "      <td>irregular</td>\n",
       "      <td>2014-01-21</td>\n",
       "      <td>F</td>\n",
       "    </tr>\n",
       "    <tr>\n",
       "      <th>7851</th>\n",
       "      <td>1080328</td>\n",
       "      <td>125.0</td>\n",
       "      <td>Services</td>\n",
       "      <td>Kenya</td>\n",
       "      <td>1.0</td>\n",
       "      <td>weekly</td>\n",
       "      <td>2014-01-23</td>\n",
       "      <td>M</td>\n",
       "    </tr>\n",
       "    <tr>\n",
       "      <th>10478</th>\n",
       "      <td>1080374</td>\n",
       "      <td>125.0</td>\n",
       "      <td>Clothing</td>\n",
       "      <td>Kenya</td>\n",
       "      <td>1.0</td>\n",
       "      <td>irregular</td>\n",
       "      <td>2014-01-29</td>\n",
       "      <td>F</td>\n",
       "    </tr>\n",
       "    <tr>\n",
       "      <th>11319</th>\n",
       "      <td>1080391</td>\n",
       "      <td>250.0</td>\n",
       "      <td>Transportation</td>\n",
       "      <td>Kenya</td>\n",
       "      <td>1.0</td>\n",
       "      <td>irregular</td>\n",
       "      <td>2014-01-31</td>\n",
       "      <td>F</td>\n",
       "    </tr>\n",
       "    <tr>\n",
       "      <th>11410</th>\n",
       "      <td>1080393</td>\n",
       "      <td>250.0</td>\n",
       "      <td>Retail</td>\n",
       "      <td>Kenya</td>\n",
       "      <td>1.0</td>\n",
       "      <td>irregular</td>\n",
       "      <td>2014-01-31</td>\n",
       "      <td>F</td>\n",
       "    </tr>\n",
       "    <tr>\n",
       "      <th>11488</th>\n",
       "      <td>1080392</td>\n",
       "      <td>250.0</td>\n",
       "      <td>Agriculture</td>\n",
       "      <td>Kenya</td>\n",
       "      <td>1.0</td>\n",
       "      <td>irregular</td>\n",
       "      <td>2014-01-31</td>\n",
       "      <td>F</td>\n",
       "    </tr>\n",
       "    <tr>\n",
       "      <th>11599</th>\n",
       "      <td>1080394</td>\n",
       "      <td>250.0</td>\n",
       "      <td>Agriculture</td>\n",
       "      <td>Kenya</td>\n",
       "      <td>1.0</td>\n",
       "      <td>irregular</td>\n",
       "      <td>2014-01-31</td>\n",
       "      <td>F</td>\n",
       "    </tr>\n",
       "    <tr>\n",
       "      <th>11617</th>\n",
       "      <td>1080388</td>\n",
       "      <td>250.0</td>\n",
       "      <td>Services</td>\n",
       "      <td>Kenya</td>\n",
       "      <td>1.0</td>\n",
       "      <td>irregular</td>\n",
       "      <td>2014-01-31</td>\n",
       "      <td>M</td>\n",
       "    </tr>\n",
       "    <tr>\n",
       "      <th>11800</th>\n",
       "      <td>1080405</td>\n",
       "      <td>250.0</td>\n",
       "      <td>Services</td>\n",
       "      <td>Kenya</td>\n",
       "      <td>1.0</td>\n",
       "      <td>irregular</td>\n",
       "      <td>2014-02-02</td>\n",
       "      <td>F</td>\n",
       "    </tr>\n",
       "    <tr>\n",
       "      <th>11803</th>\n",
       "      <td>1080404</td>\n",
       "      <td>250.0</td>\n",
       "      <td>Retail</td>\n",
       "      <td>Kenya</td>\n",
       "      <td>1.0</td>\n",
       "      <td>irregular</td>\n",
       "      <td>2014-02-02</td>\n",
       "      <td>F</td>\n",
       "    </tr>\n",
       "    <tr>\n",
       "      <th>12178</th>\n",
       "      <td>1080420</td>\n",
       "      <td>250.0</td>\n",
       "      <td>Retail</td>\n",
       "      <td>Kenya</td>\n",
       "      <td>1.0</td>\n",
       "      <td>irregular</td>\n",
       "      <td>2014-02-03</td>\n",
       "      <td>F</td>\n",
       "    </tr>\n",
       "    <tr>\n",
       "      <th>12453</th>\n",
       "      <td>1080434</td>\n",
       "      <td>250.0</td>\n",
       "      <td>Clothing</td>\n",
       "      <td>Kenya</td>\n",
       "      <td>1.0</td>\n",
       "      <td>irregular</td>\n",
       "      <td>2014-02-04</td>\n",
       "      <td>F</td>\n",
       "    </tr>\n",
       "    <tr>\n",
       "      <th>14310</th>\n",
       "      <td>1080473</td>\n",
       "      <td>125.0</td>\n",
       "      <td>Retail</td>\n",
       "      <td>Kenya</td>\n",
       "      <td>1.0</td>\n",
       "      <td>irregular</td>\n",
       "      <td>2014-02-09</td>\n",
       "      <td>F</td>\n",
       "    </tr>\n",
       "    <tr>\n",
       "      <th>15542</th>\n",
       "      <td>1080489</td>\n",
       "      <td>125.0</td>\n",
       "      <td>Clothing</td>\n",
       "      <td>Kenya</td>\n",
       "      <td>1.0</td>\n",
       "      <td>irregular</td>\n",
       "      <td>2014-02-11</td>\n",
       "      <td>F</td>\n",
       "    </tr>\n",
       "    <tr>\n",
       "      <th>29016</th>\n",
       "      <td>1080675</td>\n",
       "      <td>250.0</td>\n",
       "      <td>Retail</td>\n",
       "      <td>Kenya</td>\n",
       "      <td>1.0</td>\n",
       "      <td>irregular</td>\n",
       "      <td>2014-03-11</td>\n",
       "      <td>F</td>\n",
       "    </tr>\n",
       "    <tr>\n",
       "      <th>29789</th>\n",
       "      <td>1080683</td>\n",
       "      <td>250.0</td>\n",
       "      <td>Clothing</td>\n",
       "      <td>Kenya</td>\n",
       "      <td>1.0</td>\n",
       "      <td>irregular</td>\n",
       "      <td>2014-03-12</td>\n",
       "      <td>F</td>\n",
       "    </tr>\n",
       "    <tr>\n",
       "      <th>39694</th>\n",
       "      <td>1080894</td>\n",
       "      <td>250.0</td>\n",
       "      <td>Construction</td>\n",
       "      <td>Kenya</td>\n",
       "      <td>1.0</td>\n",
       "      <td>irregular</td>\n",
       "      <td>2014-04-02</td>\n",
       "      <td>F</td>\n",
       "    </tr>\n",
       "    <tr>\n",
       "      <th>45830</th>\n",
       "      <td>1081076</td>\n",
       "      <td>125.0</td>\n",
       "      <td>Clothing</td>\n",
       "      <td>Kenya</td>\n",
       "      <td>1.0</td>\n",
       "      <td>irregular</td>\n",
       "      <td>2014-04-16</td>\n",
       "      <td>F</td>\n",
       "    </tr>\n",
       "    <tr>\n",
       "      <th>45986</th>\n",
       "      <td>1081078</td>\n",
       "      <td>125.0</td>\n",
       "      <td>Retail</td>\n",
       "      <td>Kenya</td>\n",
       "      <td>1.0</td>\n",
       "      <td>irregular</td>\n",
       "      <td>2014-04-16</td>\n",
       "      <td>F</td>\n",
       "    </tr>\n",
       "    <tr>\n",
       "      <th>48474</th>\n",
       "      <td>1081137</td>\n",
       "      <td>250.0</td>\n",
       "      <td>Agriculture</td>\n",
       "      <td>Kenya</td>\n",
       "      <td>1.0</td>\n",
       "      <td>irregular</td>\n",
       "      <td>2014-04-23</td>\n",
       "      <td>M</td>\n",
       "    </tr>\n",
       "    <tr>\n",
       "      <th>49396</th>\n",
       "      <td>1081156</td>\n",
       "      <td>250.0</td>\n",
       "      <td>Clothing</td>\n",
       "      <td>Kenya</td>\n",
       "      <td>1.0</td>\n",
       "      <td>irregular</td>\n",
       "      <td>2014-04-24</td>\n",
       "      <td>F</td>\n",
       "    </tr>\n",
       "    <tr>\n",
       "      <th>53098</th>\n",
       "      <td>1081263</td>\n",
       "      <td>125.0</td>\n",
       "      <td>Agriculture</td>\n",
       "      <td>Kenya</td>\n",
       "      <td>1.0</td>\n",
       "      <td>weekly</td>\n",
       "      <td>2014-05-03</td>\n",
       "      <td>F</td>\n",
       "    </tr>\n",
       "    <tr>\n",
       "      <th>81739</th>\n",
       "      <td>1082038</td>\n",
       "      <td>250.0</td>\n",
       "      <td>Transportation</td>\n",
       "      <td>Kenya</td>\n",
       "      <td>1.0</td>\n",
       "      <td>irregular</td>\n",
       "      <td>2014-07-02</td>\n",
       "      <td>F</td>\n",
       "    </tr>\n",
       "    <tr>\n",
       "      <th>82547</th>\n",
       "      <td>1082049</td>\n",
       "      <td>250.0</td>\n",
       "      <td>Agriculture</td>\n",
       "      <td>Kenya</td>\n",
       "      <td>1.0</td>\n",
       "      <td>irregular</td>\n",
       "      <td>2014-07-03</td>\n",
       "      <td>F</td>\n",
       "    </tr>\n",
       "    <tr>\n",
       "      <th>121850</th>\n",
       "      <td>1083671</td>\n",
       "      <td>100.0</td>\n",
       "      <td>Agriculture</td>\n",
       "      <td>Kenya</td>\n",
       "      <td>1.0</td>\n",
       "      <td>irregular</td>\n",
       "      <td>2014-09-22</td>\n",
       "      <td>F</td>\n",
       "    </tr>\n",
       "    <tr>\n",
       "      <th>196159</th>\n",
       "      <td>1087579</td>\n",
       "      <td>75.0</td>\n",
       "      <td>Agriculture</td>\n",
       "      <td>Kenya</td>\n",
       "      <td>1.0</td>\n",
       "      <td>irregular</td>\n",
       "      <td>2015-02-20</td>\n",
       "      <td>F</td>\n",
       "    </tr>\n",
       "    <tr>\n",
       "      <th>199098</th>\n",
       "      <td>1087727</td>\n",
       "      <td>75.0</td>\n",
       "      <td>Agriculture</td>\n",
       "      <td>Kenya</td>\n",
       "      <td>1.0</td>\n",
       "      <td>irregular</td>\n",
       "      <td>2015-02-26</td>\n",
       "      <td>F</td>\n",
       "    </tr>\n",
       "    <tr>\n",
       "      <th>208871</th>\n",
       "      <td>1088074</td>\n",
       "      <td>75.0</td>\n",
       "      <td>Agriculture</td>\n",
       "      <td>Kenya</td>\n",
       "      <td>1.0</td>\n",
       "      <td>irregular</td>\n",
       "      <td>2015-03-17</td>\n",
       "      <td>F</td>\n",
       "    </tr>\n",
       "  </tbody>\n",
       "</table>\n",
       "</div>"
      ],
      "text/plain": [
       "             id  loan_amount          sector country  term_in_months  \\\n",
       "1877    1080189        125.0        Services   Kenya             1.0   \n",
       "2915    1080219        250.0        Clothing   Kenya             1.0   \n",
       "4277    1080268        125.0     Agriculture   Kenya             1.0   \n",
       "6772    1080311        125.0        Clothing   Kenya             1.0   \n",
       "7851    1080328        125.0        Services   Kenya             1.0   \n",
       "10478   1080374        125.0        Clothing   Kenya             1.0   \n",
       "11319   1080391        250.0  Transportation   Kenya             1.0   \n",
       "11410   1080393        250.0          Retail   Kenya             1.0   \n",
       "11488   1080392        250.0     Agriculture   Kenya             1.0   \n",
       "11599   1080394        250.0     Agriculture   Kenya             1.0   \n",
       "11617   1080388        250.0        Services   Kenya             1.0   \n",
       "11800   1080405        250.0        Services   Kenya             1.0   \n",
       "11803   1080404        250.0          Retail   Kenya             1.0   \n",
       "12178   1080420        250.0          Retail   Kenya             1.0   \n",
       "12453   1080434        250.0        Clothing   Kenya             1.0   \n",
       "14310   1080473        125.0          Retail   Kenya             1.0   \n",
       "15542   1080489        125.0        Clothing   Kenya             1.0   \n",
       "29016   1080675        250.0          Retail   Kenya             1.0   \n",
       "29789   1080683        250.0        Clothing   Kenya             1.0   \n",
       "39694   1080894        250.0    Construction   Kenya             1.0   \n",
       "45830   1081076        125.0        Clothing   Kenya             1.0   \n",
       "45986   1081078        125.0          Retail   Kenya             1.0   \n",
       "48474   1081137        250.0     Agriculture   Kenya             1.0   \n",
       "49396   1081156        250.0        Clothing   Kenya             1.0   \n",
       "53098   1081263        125.0     Agriculture   Kenya             1.0   \n",
       "81739   1082038        250.0  Transportation   Kenya             1.0   \n",
       "82547   1082049        250.0     Agriculture   Kenya             1.0   \n",
       "121850  1083671        100.0     Agriculture   Kenya             1.0   \n",
       "196159  1087579         75.0     Agriculture   Kenya             1.0   \n",
       "199098  1087727         75.0     Agriculture   Kenya             1.0   \n",
       "208871  1088074         75.0     Agriculture   Kenya             1.0   \n",
       "\n",
       "       repayment_interval       date gender  \n",
       "1877            irregular 2014-01-08      M  \n",
       "2915            irregular 2014-01-10      F  \n",
       "4277            irregular 2014-01-15      M  \n",
       "6772            irregular 2014-01-21      F  \n",
       "7851               weekly 2014-01-23      M  \n",
       "10478           irregular 2014-01-29      F  \n",
       "11319           irregular 2014-01-31      F  \n",
       "11410           irregular 2014-01-31      F  \n",
       "11488           irregular 2014-01-31      F  \n",
       "11599           irregular 2014-01-31      F  \n",
       "11617           irregular 2014-01-31      M  \n",
       "11800           irregular 2014-02-02      F  \n",
       "11803           irregular 2014-02-02      F  \n",
       "12178           irregular 2014-02-03      F  \n",
       "12453           irregular 2014-02-04      F  \n",
       "14310           irregular 2014-02-09      F  \n",
       "15542           irregular 2014-02-11      F  \n",
       "29016           irregular 2014-03-11      F  \n",
       "29789           irregular 2014-03-12      F  \n",
       "39694           irregular 2014-04-02      F  \n",
       "45830           irregular 2014-04-16      F  \n",
       "45986           irregular 2014-04-16      F  \n",
       "48474           irregular 2014-04-23      M  \n",
       "49396           irregular 2014-04-24      F  \n",
       "53098              weekly 2014-05-03      F  \n",
       "81739           irregular 2014-07-02      F  \n",
       "82547           irregular 2014-07-03      F  \n",
       "121850          irregular 2014-09-22      F  \n",
       "196159          irregular 2015-02-20      F  \n",
       "199098          irregular 2015-02-26      F  \n",
       "208871          irregular 2015-03-17      F  "
      ]
     },
     "execution_count": 39,
     "metadata": {},
     "output_type": "execute_result"
    }
   ],
   "source": [
    "data.loc[data['term_in_months']== 1]"
   ]
  },
  {
   "cell_type": "markdown",
   "metadata": {},
   "source": [
    "###### I have discovered that the Dominican Republic hosts the longest borrower, while Kenya hosts the shortest borrowers!\n",
    "\n",
    "###### This could be most likely that Kiva started its operations earlier in Dominican Republic than in Kenya.\n",
    "\n",
    "Or that the borrower with the longest term is an outlier. Let's find out."
   ]
  },
  {
   "cell_type": "markdown",
   "metadata": {},
   "source": [
    "I'll slice my data set to find out how many customers have been borrowers for more than 5 years i.e 60 months."
   ]
  },
  {
   "cell_type": "code",
   "execution_count": 40,
   "metadata": {},
   "outputs": [
    {
     "name": "stdout",
     "output_type": "stream",
     "text": [
      "3361\n"
     ]
    }
   ],
   "source": [
    "long = data[data['term_in_months'] >60]\n",
    "print(long['term_in_months'].count())"
   ]
  },
  {
   "cell_type": "markdown",
   "metadata": {},
   "source": [
    "Well, only 3000 out of 660000 customers have borrowed for more than 5 years. Seems insignificant enough that i might do away with them...\n",
    "\n",
    "I'll visulaize first to see how they affect histograms and other distribution curves."
   ]
  },
  {
   "cell_type": "markdown",
   "metadata": {},
   "source": [
    "#### 5. At what intervals do they pay?\n",
    "    How do they pay? Poverty levels? -repayment intervals"
   ]
  },
  {
   "cell_type": "code",
   "execution_count": 41,
   "metadata": {},
   "outputs": [
    {
     "data": {
      "text/plain": [
       "monthly      340171\n",
       "irregular    256573\n",
       "daily         69638\n",
       "weekly          602\n",
       "Name: repayment_interval, dtype: int64"
      ]
     },
     "execution_count": 41,
     "metadata": {},
     "output_type": "execute_result"
    }
   ],
   "source": [
    "data['repayment_interval'].value_counts()"
   ]
  },
  {
   "cell_type": "code",
   "execution_count": 62,
   "metadata": {},
   "outputs": [
    {
     "name": "stdout",
     "output_type": "stream",
     "text": [
      "monthly 340171\n"
     ]
    }
   ],
   "source": [
    "print(data['repayment_interval'].value_counts().idxmax(), data['repayment_interval'].value_counts().max())"
   ]
  },
  {
   "cell_type": "markdown",
   "metadata": {},
   "source": [
    "Monthly repayments are the highest, closely followed by irregular payments."
   ]
  },
  {
   "cell_type": "markdown",
   "metadata": {},
   "source": [
    "Create a pivot table to find the count of repayment intervals by grouping by sector, using the loan amount values."
   ]
  },
  {
   "cell_type": "code",
   "execution_count": 81,
   "metadata": {},
   "outputs": [
    {
     "data": {
      "text/html": [
       "<div>\n",
       "<style scoped>\n",
       "    .dataframe tbody tr th:only-of-type {\n",
       "        vertical-align: middle;\n",
       "    }\n",
       "\n",
       "    .dataframe tbody tr th {\n",
       "        vertical-align: top;\n",
       "    }\n",
       "\n",
       "    .dataframe thead th {\n",
       "        text-align: right;\n",
       "    }\n",
       "</style>\n",
       "<table border=\"1\" class=\"dataframe\">\n",
       "  <thead>\n",
       "    <tr style=\"text-align: right;\">\n",
       "      <th></th>\n",
       "      <th>daily</th>\n",
       "      <th>irregular</th>\n",
       "      <th>monthly</th>\n",
       "      <th>weekly</th>\n",
       "    </tr>\n",
       "    <tr>\n",
       "      <th>sector</th>\n",
       "      <th></th>\n",
       "      <th></th>\n",
       "      <th></th>\n",
       "      <th></th>\n",
       "    </tr>\n",
       "  </thead>\n",
       "  <tbody>\n",
       "    <tr>\n",
       "      <th>Agriculture</th>\n",
       "      <td>47955.0</td>\n",
       "      <td>123152.0</td>\n",
       "      <td>143730.0</td>\n",
       "      <td>136.0</td>\n",
       "    </tr>\n",
       "    <tr>\n",
       "      <th>Retail</th>\n",
       "      <td>4764.0</td>\n",
       "      <td>73519.0</td>\n",
       "      <td>45351.0</td>\n",
       "      <td>124.0</td>\n",
       "    </tr>\n",
       "    <tr>\n",
       "      <th>Personal Use</th>\n",
       "      <td>4790.0</td>\n",
       "      <td>4048.0</td>\n",
       "      <td>27409.0</td>\n",
       "      <td>0.0</td>\n",
       "    </tr>\n",
       "    <tr>\n",
       "      <th>Services</th>\n",
       "      <td>4940.0</td>\n",
       "      <td>12518.0</td>\n",
       "      <td>27088.0</td>\n",
       "      <td>153.0</td>\n",
       "    </tr>\n",
       "    <tr>\n",
       "      <th>Housing</th>\n",
       "      <td>870.0</td>\n",
       "      <td>8442.0</td>\n",
       "      <td>24259.0</td>\n",
       "      <td>0.0</td>\n",
       "    </tr>\n",
       "    <tr>\n",
       "      <th>Education</th>\n",
       "      <td>2430.0</td>\n",
       "      <td>4331.0</td>\n",
       "      <td>24076.0</td>\n",
       "      <td>0.0</td>\n",
       "    </tr>\n",
       "    <tr>\n",
       "      <th>Clothing</th>\n",
       "      <td>976.0</td>\n",
       "      <td>13521.0</td>\n",
       "      <td>17845.0</td>\n",
       "      <td>138.0</td>\n",
       "    </tr>\n",
       "    <tr>\n",
       "      <th>Transportation</th>\n",
       "      <td>398.0</td>\n",
       "      <td>6394.0</td>\n",
       "      <td>8651.0</td>\n",
       "      <td>12.0</td>\n",
       "    </tr>\n",
       "    <tr>\n",
       "      <th>Health</th>\n",
       "      <td>131.0</td>\n",
       "      <td>1654.0</td>\n",
       "      <td>7374.0</td>\n",
       "      <td>13.0</td>\n",
       "    </tr>\n",
       "    <tr>\n",
       "      <th>Arts</th>\n",
       "      <td>1454.0</td>\n",
       "      <td>4627.0</td>\n",
       "      <td>5898.0</td>\n",
       "      <td>15.0</td>\n",
       "    </tr>\n",
       "    <tr>\n",
       "      <th>Construction</th>\n",
       "      <td>280.0</td>\n",
       "      <td>1545.0</td>\n",
       "      <td>4358.0</td>\n",
       "      <td>11.0</td>\n",
       "    </tr>\n",
       "    <tr>\n",
       "      <th>Manufacturing</th>\n",
       "      <td>441.0</td>\n",
       "      <td>2433.0</td>\n",
       "      <td>3284.0</td>\n",
       "      <td>0.0</td>\n",
       "    </tr>\n",
       "    <tr>\n",
       "      <th>Entertainment</th>\n",
       "      <td>155.0</td>\n",
       "      <td>226.0</td>\n",
       "      <td>439.0</td>\n",
       "      <td>0.0</td>\n",
       "    </tr>\n",
       "    <tr>\n",
       "      <th>Wholesale</th>\n",
       "      <td>54.0</td>\n",
       "      <td>163.0</td>\n",
       "      <td>409.0</td>\n",
       "      <td>0.0</td>\n",
       "    </tr>\n",
       "  </tbody>\n",
       "</table>\n",
       "</div>"
      ],
      "text/plain": [
       "                  daily  irregular   monthly  weekly\n",
       "sector                                              \n",
       "Agriculture     47955.0   123152.0  143730.0   136.0\n",
       "Retail           4764.0    73519.0   45351.0   124.0\n",
       "Personal Use     4790.0     4048.0   27409.0     0.0\n",
       "Services         4940.0    12518.0   27088.0   153.0\n",
       "Housing           870.0     8442.0   24259.0     0.0\n",
       "Education        2430.0     4331.0   24076.0     0.0\n",
       "Clothing          976.0    13521.0   17845.0   138.0\n",
       "Transportation    398.0     6394.0    8651.0    12.0\n",
       "Health            131.0     1654.0    7374.0    13.0\n",
       "Arts             1454.0     4627.0    5898.0    15.0\n",
       "Construction      280.0     1545.0    4358.0    11.0\n",
       "Manufacturing     441.0     2433.0    3284.0     0.0\n",
       "Entertainment     155.0      226.0     439.0     0.0\n",
       "Wholesale          54.0      163.0     409.0     0.0"
      ]
     },
     "execution_count": 81,
     "metadata": {},
     "output_type": "execute_result"
    }
   ],
   "source": [
    "repayment_sector = data.pivot_table(index='sector', values='loan_amount',columns='repayment_interval', aggfunc=['count'])\n",
    "\n",
    "repayment_sector.columns = ['daily', 'irregular', 'monthly', 'weekly']\n",
    "repayment_sector.fillna(value=0, inplace=True)\n",
    "repayment_sector.sort_values(by='monthly', ascending=False)"
   ]
  },
  {
   "cell_type": "markdown",
   "metadata": {},
   "source": [
    "Since most repayment intervals in general are done monthly, I have decided to sort the values by the monthly column.\n",
    "I can deduce that Agriculture, Retail and Personal Use are the top three sectors in the monthly repayment interval.\n",
    "This could mean that these sectors have a return period of a month."
   ]
  },
  {
   "cell_type": "code",
   "execution_count": 86,
   "metadata": {},
   "outputs": [
    {
     "data": {
      "text/plain": [
       "('Philippines', 'irregular')"
      ]
     },
     "execution_count": 86,
     "metadata": {},
     "output_type": "execute_result"
    }
   ],
   "source": [
    "data.groupby('country')['repayment_interval'].value_counts().idxmax()"
   ]
  },
  {
   "cell_type": "code",
   "execution_count": 125,
   "metadata": {},
   "outputs": [
    {
     "data": {
      "text/html": [
       "<div>\n",
       "<style scoped>\n",
       "    .dataframe tbody tr th:only-of-type {\n",
       "        vertical-align: middle;\n",
       "    }\n",
       "\n",
       "    .dataframe tbody tr th {\n",
       "        vertical-align: top;\n",
       "    }\n",
       "\n",
       "    .dataframe thead th {\n",
       "        text-align: right;\n",
       "    }\n",
       "</style>\n",
       "<table border=\"1\" class=\"dataframe\">\n",
       "  <thead>\n",
       "    <tr style=\"text-align: right;\">\n",
       "      <th></th>\n",
       "      <th>daily</th>\n",
       "      <th>irregular</th>\n",
       "      <th>monthly</th>\n",
       "      <th>weekly</th>\n",
       "    </tr>\n",
       "    <tr>\n",
       "      <th>country</th>\n",
       "      <th></th>\n",
       "      <th></th>\n",
       "      <th></th>\n",
       "      <th></th>\n",
       "    </tr>\n",
       "  </thead>\n",
       "  <tbody>\n",
       "    <tr>\n",
       "      <th>Afghanistan</th>\n",
       "      <td>2.0</td>\n",
       "      <td>0.0</td>\n",
       "      <td>0.0</td>\n",
       "      <td>0.0</td>\n",
       "    </tr>\n",
       "    <tr>\n",
       "      <th>Albania</th>\n",
       "      <td>23.0</td>\n",
       "      <td>26.0</td>\n",
       "      <td>1868.0</td>\n",
       "      <td>0.0</td>\n",
       "    </tr>\n",
       "    <tr>\n",
       "      <th>Armenia</th>\n",
       "      <td>43.0</td>\n",
       "      <td>170.0</td>\n",
       "      <td>8415.0</td>\n",
       "      <td>0.0</td>\n",
       "    </tr>\n",
       "    <tr>\n",
       "      <th>Azerbaijan</th>\n",
       "      <td>0.0</td>\n",
       "      <td>12.0</td>\n",
       "      <td>1893.0</td>\n",
       "      <td>0.0</td>\n",
       "    </tr>\n",
       "    <tr>\n",
       "      <th>Belize</th>\n",
       "      <td>0.0</td>\n",
       "      <td>0.0</td>\n",
       "      <td>123.0</td>\n",
       "      <td>0.0</td>\n",
       "    </tr>\n",
       "  </tbody>\n",
       "</table>\n",
       "</div>"
      ],
      "text/plain": [
       "             daily  irregular  monthly  weekly\n",
       "country                                       \n",
       "Afghanistan    2.0        0.0      0.0     0.0\n",
       "Albania       23.0       26.0   1868.0     0.0\n",
       "Armenia       43.0      170.0   8415.0     0.0\n",
       "Azerbaijan     0.0       12.0   1893.0     0.0\n",
       "Belize         0.0        0.0    123.0     0.0"
      ]
     },
     "execution_count": 125,
     "metadata": {},
     "output_type": "execute_result"
    }
   ],
   "source": [
    "repayment_country = data.pivot_table(index='country', values='loan_amount',columns='repayment_interval', aggfunc=['count'])\n",
    "repayment_country[repayment_country.index == 'Philippines']\n",
    "repayment_country.columns = ['daily', 'irregular', 'monthly', 'weekly']\n",
    "repayment_country.fillna(value=0, inplace=True)\n",
    "repayment_country.head()"
   ]
  },
  {
   "cell_type": "markdown",
   "metadata": {},
   "source": [
    "Let's look at each sorted repayment_interval category, and identify countries that are in the top5."
   ]
  },
  {
   "cell_type": "code",
   "execution_count": 124,
   "metadata": {
    "scrolled": true
   },
   "outputs": [
    {
     "name": "stdout",
     "output_type": "stream",
     "text": [
      "country\n",
      "Colombia       13382.0\n",
      "Nigeria        10129.0\n",
      "Kenya           9183.0\n",
      "El Salvador     8083.0\n",
      "India           6532.0\n",
      "Name: daily, dtype: float64\n"
     ]
    }
   ],
   "source": [
    "print(repayment_country['daily'].sort_values(ascending=False).head())"
   ]
  },
  {
   "cell_type": "code",
   "execution_count": 123,
   "metadata": {},
   "outputs": [
    {
     "data": {
      "text/plain": [
       "country\n",
       "Kenya       602.0\n",
       "Zimbabwe      0.0\n",
       "Iraq          0.0\n",
       "Georgia       0.0\n",
       "Ghana         0.0\n",
       "Name: weekly, dtype: float64"
      ]
     },
     "execution_count": 123,
     "metadata": {},
     "output_type": "execute_result"
    }
   ],
   "source": [
    "repayment_country['weekly'].sort_values(ascending=False).head()"
   ]
  },
  {
   "cell_type": "code",
   "execution_count": 121,
   "metadata": {},
   "outputs": [
    {
     "data": {
      "text/plain": [
       "country\n",
       "Kenya          45927.0\n",
       "Cambodia       34382.0\n",
       "El Salvador    29329.0\n",
       "Pakistan       20555.0\n",
       "Tajikistan     19355.0\n",
       "Name: monthly, dtype: float64"
      ]
     },
     "execution_count": 121,
     "metadata": {},
     "output_type": "execute_result"
    }
   ],
   "source": [
    "repayment_country['monthly'].sort_values(ascending=False).head()"
   ]
  },
  {
   "cell_type": "code",
   "execution_count": 122,
   "metadata": {},
   "outputs": [
    {
     "data": {
      "text/plain": [
       "country\n",
       "Philippines    144899.0\n",
       "Kenya           19401.0\n",
       "Peru             7452.0\n",
       "Samoa            7365.0\n",
       "Uganda           7230.0\n",
       "Name: irregular, dtype: float64"
      ]
     },
     "execution_count": 122,
     "metadata": {},
     "output_type": "execute_result"
    }
   ],
   "source": [
    "repayment_country['irregular'].sort_values(ascending=False).head()"
   ]
  },
  {
   "cell_type": "markdown",
   "metadata": {},
   "source": [
    "###### Philippines has the highest counts of repayments in general, and it is also leading in irregular repayments by a very big margin.\n",
    "\n",
    "###### Kenya has the highest weekly and monthly repayments.\n",
    "\n",
    "###### Colombia has the highest daily repayments.\n",
    "\n",
    "##### Kenya appears top3 in every repayment interval category. This means that irrespective of time, most Kenyans repay their loans."
   ]
  },
  {
   "cell_type": "code",
   "execution_count": 127,
   "metadata": {},
   "outputs": [
    {
     "data": {
      "text/html": [
       "<div>\n",
       "<style scoped>\n",
       "    .dataframe tbody tr th:only-of-type {\n",
       "        vertical-align: middle;\n",
       "    }\n",
       "\n",
       "    .dataframe tbody tr th {\n",
       "        vertical-align: top;\n",
       "    }\n",
       "\n",
       "    .dataframe thead th {\n",
       "        text-align: right;\n",
       "    }\n",
       "</style>\n",
       "<table border=\"1\" class=\"dataframe\">\n",
       "  <thead>\n",
       "    <tr style=\"text-align: right;\">\n",
       "      <th>gender</th>\n",
       "      <th>F</th>\n",
       "      <th>M</th>\n",
       "    </tr>\n",
       "    <tr>\n",
       "      <th>repayment_interval</th>\n",
       "      <th></th>\n",
       "      <th></th>\n",
       "    </tr>\n",
       "  </thead>\n",
       "  <tbody>\n",
       "    <tr>\n",
       "      <th>monthly</th>\n",
       "      <td>250967</td>\n",
       "      <td>89204</td>\n",
       "    </tr>\n",
       "    <tr>\n",
       "      <th>irregular</th>\n",
       "      <td>237896</td>\n",
       "      <td>18677</td>\n",
       "    </tr>\n",
       "    <tr>\n",
       "      <th>daily</th>\n",
       "      <td>39027</td>\n",
       "      <td>30611</td>\n",
       "    </tr>\n",
       "    <tr>\n",
       "      <th>weekly</th>\n",
       "      <td>571</td>\n",
       "      <td>31</td>\n",
       "    </tr>\n",
       "  </tbody>\n",
       "</table>\n",
       "</div>"
      ],
      "text/plain": [
       "gender                   F      M\n",
       "repayment_interval               \n",
       "monthly             250967  89204\n",
       "irregular           237896  18677\n",
       "daily                39027  30611\n",
       "weekly                 571     31"
      ]
     },
     "execution_count": 127,
     "metadata": {},
     "output_type": "execute_result"
    }
   ],
   "source": [
    "repayment_gender = data.pivot_table(index='repayment_interval', values='loan_amount', columns='gender', aggfunc='count')\n",
    "repayment_gender.sort_values(by='F', ascending=False)"
   ]
  },
  {
   "cell_type": "markdown",
   "metadata": {},
   "source": [
    "Female customers have the highest repaymnet intervals in all categories, compared to male customers.\n",
    "\n",
    "Monthly repayment intervals are highly done by both male and female.\n",
    "This could mean that most sector activities customers are involved in are able to provide a returns on a monthly basis."
   ]
  },
  {
   "cell_type": "code",
   "execution_count": 68,
   "metadata": {},
   "outputs": [],
   "source": [
    "#which year,month were most loans taken?\n",
    "#filter by year or month. How?"
   ]
  },
  {
   "cell_type": "markdown",
   "metadata": {},
   "source": [
    "A temporary conclusion(some questions still unanswered):\n",
    "Most Kiva borrowers are female.\n",
    "Most borrowers(male and female) come from the Phillipines.\n",
    "Phillipines is also the country with the highest total loan amount borrowed.\n",
    "Phillipines is also the country that repaid the most loans, irregularly.\n",
    "I think it's safe to say that Phillipines is an outlier.\n",
    "The agriculture sector contibutes highly to most loans borrowed and repaid.\n",
    "Most loan repaymnet intervals are monthly, followed closely by irregularly.\n",
    "Therefore, poverty levels of Kiva borrowers are low since most people borrow loans to sustain the most basic and largest economic activity- Agriculture."
   ]
  }
 ],
 "metadata": {
  "kernelspec": {
   "display_name": "Python 3",
   "language": "python",
   "name": "python3"
  },
  "language_info": {
   "codemirror_mode": {
    "name": "ipython",
    "version": 3
   },
   "file_extension": ".py",
   "mimetype": "text/x-python",
   "name": "python",
   "nbconvert_exporter": "python",
   "pygments_lexer": "ipython3",
   "version": "3.7.6"
  }
 },
 "nbformat": 4,
 "nbformat_minor": 4
}
