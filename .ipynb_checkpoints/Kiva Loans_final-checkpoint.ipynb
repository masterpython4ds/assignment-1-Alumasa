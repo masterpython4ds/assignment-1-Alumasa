{
 "cells": [
  {
   "cell_type": "code",
   "execution_count": 70,
   "metadata": {},
   "outputs": [],
   "source": [
    "import pandas as pd\n",
    "import numpy as np"
   ]
  },
  {
   "cell_type": "code",
   "execution_count": 71,
   "metadata": {},
   "outputs": [
    {
     "data": {
      "text/html": [
       "<div>\n",
       "<style scoped>\n",
       "    .dataframe tbody tr th:only-of-type {\n",
       "        vertical-align: middle;\n",
       "    }\n",
       "\n",
       "    .dataframe tbody tr th {\n",
       "        vertical-align: top;\n",
       "    }\n",
       "\n",
       "    .dataframe thead th {\n",
       "        text-align: right;\n",
       "    }\n",
       "</style>\n",
       "<table border=\"1\" class=\"dataframe\">\n",
       "  <thead>\n",
       "    <tr style=\"text-align: right;\">\n",
       "      <th></th>\n",
       "      <th>id</th>\n",
       "      <th>funded_amount</th>\n",
       "      <th>loan_amount</th>\n",
       "      <th>activity</th>\n",
       "      <th>sector</th>\n",
       "      <th>use</th>\n",
       "      <th>country_code</th>\n",
       "      <th>country</th>\n",
       "      <th>region</th>\n",
       "      <th>currency</th>\n",
       "      <th>partner_id</th>\n",
       "      <th>posted_time</th>\n",
       "      <th>disbursed_time</th>\n",
       "      <th>funded_time</th>\n",
       "      <th>term_in_months</th>\n",
       "      <th>lender_count</th>\n",
       "      <th>tags</th>\n",
       "      <th>borrower_genders</th>\n",
       "      <th>repayment_interval</th>\n",
       "      <th>date</th>\n",
       "    </tr>\n",
       "  </thead>\n",
       "  <tbody>\n",
       "    <tr>\n",
       "      <th>0</th>\n",
       "      <td>653051</td>\n",
       "      <td>300.0</td>\n",
       "      <td>300.0</td>\n",
       "      <td>Fruits &amp; Vegetables</td>\n",
       "      <td>Food</td>\n",
       "      <td>To buy seasonal, fresh fruits to sell.</td>\n",
       "      <td>PK</td>\n",
       "      <td>Pakistan</td>\n",
       "      <td>Lahore</td>\n",
       "      <td>PKR</td>\n",
       "      <td>247.0</td>\n",
       "      <td>2014-01-01 06:12:39+00:00</td>\n",
       "      <td>2013-12-17 08:00:00+00:00</td>\n",
       "      <td>2014-01-02 10:06:32+00:00</td>\n",
       "      <td>12.0</td>\n",
       "      <td>12</td>\n",
       "      <td>NaN</td>\n",
       "      <td>female</td>\n",
       "      <td>irregular</td>\n",
       "      <td>2014-01-01</td>\n",
       "    </tr>\n",
       "    <tr>\n",
       "      <th>1</th>\n",
       "      <td>653053</td>\n",
       "      <td>575.0</td>\n",
       "      <td>575.0</td>\n",
       "      <td>Rickshaw</td>\n",
       "      <td>Transportation</td>\n",
       "      <td>to repair and maintain the auto rickshaw used ...</td>\n",
       "      <td>PK</td>\n",
       "      <td>Pakistan</td>\n",
       "      <td>Lahore</td>\n",
       "      <td>PKR</td>\n",
       "      <td>247.0</td>\n",
       "      <td>2014-01-01 06:51:08+00:00</td>\n",
       "      <td>2013-12-17 08:00:00+00:00</td>\n",
       "      <td>2014-01-02 09:17:23+00:00</td>\n",
       "      <td>11.0</td>\n",
       "      <td>14</td>\n",
       "      <td>NaN</td>\n",
       "      <td>female, female</td>\n",
       "      <td>irregular</td>\n",
       "      <td>2014-01-01</td>\n",
       "    </tr>\n",
       "    <tr>\n",
       "      <th>2</th>\n",
       "      <td>653068</td>\n",
       "      <td>150.0</td>\n",
       "      <td>150.0</td>\n",
       "      <td>Transportation</td>\n",
       "      <td>Transportation</td>\n",
       "      <td>To repair their old cycle-van and buy another ...</td>\n",
       "      <td>IN</td>\n",
       "      <td>India</td>\n",
       "      <td>Maynaguri</td>\n",
       "      <td>INR</td>\n",
       "      <td>334.0</td>\n",
       "      <td>2014-01-01 09:58:07+00:00</td>\n",
       "      <td>2013-12-17 08:00:00+00:00</td>\n",
       "      <td>2014-01-01 16:01:36+00:00</td>\n",
       "      <td>43.0</td>\n",
       "      <td>6</td>\n",
       "      <td>user_favorite, user_favorite</td>\n",
       "      <td>female</td>\n",
       "      <td>bullet</td>\n",
       "      <td>2014-01-01</td>\n",
       "    </tr>\n",
       "    <tr>\n",
       "      <th>3</th>\n",
       "      <td>653063</td>\n",
       "      <td>200.0</td>\n",
       "      <td>200.0</td>\n",
       "      <td>Embroidery</td>\n",
       "      <td>Arts</td>\n",
       "      <td>to purchase an embroidery machine and a variet...</td>\n",
       "      <td>PK</td>\n",
       "      <td>Pakistan</td>\n",
       "      <td>Lahore</td>\n",
       "      <td>PKR</td>\n",
       "      <td>247.0</td>\n",
       "      <td>2014-01-01 08:03:11+00:00</td>\n",
       "      <td>2013-12-24 08:00:00+00:00</td>\n",
       "      <td>2014-01-01 13:00:00+00:00</td>\n",
       "      <td>11.0</td>\n",
       "      <td>8</td>\n",
       "      <td>NaN</td>\n",
       "      <td>female</td>\n",
       "      <td>irregular</td>\n",
       "      <td>2014-01-01</td>\n",
       "    </tr>\n",
       "    <tr>\n",
       "      <th>4</th>\n",
       "      <td>653084</td>\n",
       "      <td>400.0</td>\n",
       "      <td>400.0</td>\n",
       "      <td>Milk Sales</td>\n",
       "      <td>Food</td>\n",
       "      <td>to purchase one buffalo.</td>\n",
       "      <td>PK</td>\n",
       "      <td>Pakistan</td>\n",
       "      <td>Abdul Hakeem</td>\n",
       "      <td>PKR</td>\n",
       "      <td>245.0</td>\n",
       "      <td>2014-01-01 11:53:19+00:00</td>\n",
       "      <td>2013-12-17 08:00:00+00:00</td>\n",
       "      <td>2014-01-01 19:18:51+00:00</td>\n",
       "      <td>14.0</td>\n",
       "      <td>16</td>\n",
       "      <td>NaN</td>\n",
       "      <td>female</td>\n",
       "      <td>monthly</td>\n",
       "      <td>2014-01-01</td>\n",
       "    </tr>\n",
       "  </tbody>\n",
       "</table>\n",
       "</div>"
      ],
      "text/plain": [
       "       id  funded_amount  loan_amount             activity          sector  \\\n",
       "0  653051          300.0        300.0  Fruits & Vegetables            Food   \n",
       "1  653053          575.0        575.0             Rickshaw  Transportation   \n",
       "2  653068          150.0        150.0       Transportation  Transportation   \n",
       "3  653063          200.0        200.0           Embroidery            Arts   \n",
       "4  653084          400.0        400.0           Milk Sales            Food   \n",
       "\n",
       "                                                 use country_code   country  \\\n",
       "0            To buy seasonal, fresh fruits to sell.            PK  Pakistan   \n",
       "1  to repair and maintain the auto rickshaw used ...           PK  Pakistan   \n",
       "2  To repair their old cycle-van and buy another ...           IN     India   \n",
       "3  to purchase an embroidery machine and a variet...           PK  Pakistan   \n",
       "4                           to purchase one buffalo.           PK  Pakistan   \n",
       "\n",
       "         region currency  partner_id                posted_time  \\\n",
       "0        Lahore      PKR       247.0  2014-01-01 06:12:39+00:00   \n",
       "1        Lahore      PKR       247.0  2014-01-01 06:51:08+00:00   \n",
       "2     Maynaguri      INR       334.0  2014-01-01 09:58:07+00:00   \n",
       "3        Lahore      PKR       247.0  2014-01-01 08:03:11+00:00   \n",
       "4  Abdul Hakeem      PKR       245.0  2014-01-01 11:53:19+00:00   \n",
       "\n",
       "              disbursed_time                funded_time  term_in_months  \\\n",
       "0  2013-12-17 08:00:00+00:00  2014-01-02 10:06:32+00:00            12.0   \n",
       "1  2013-12-17 08:00:00+00:00  2014-01-02 09:17:23+00:00            11.0   \n",
       "2  2013-12-17 08:00:00+00:00  2014-01-01 16:01:36+00:00            43.0   \n",
       "3  2013-12-24 08:00:00+00:00  2014-01-01 13:00:00+00:00            11.0   \n",
       "4  2013-12-17 08:00:00+00:00  2014-01-01 19:18:51+00:00            14.0   \n",
       "\n",
       "   lender_count                          tags borrower_genders  \\\n",
       "0            12                           NaN           female   \n",
       "1            14                           NaN   female, female   \n",
       "2             6  user_favorite, user_favorite           female   \n",
       "3             8                           NaN           female   \n",
       "4            16                           NaN           female   \n",
       "\n",
       "  repayment_interval        date  \n",
       "0          irregular  2014-01-01  \n",
       "1          irregular  2014-01-01  \n",
       "2             bullet  2014-01-01  \n",
       "3          irregular  2014-01-01  \n",
       "4            monthly  2014-01-01  "
      ]
     },
     "execution_count": 71,
     "metadata": {},
     "output_type": "execute_result"
    }
   ],
   "source": [
    "data = pd.read_csv('kiva_loans.csv')\n",
    "data.head()"
   ]
  },
  {
   "cell_type": "code",
   "execution_count": 72,
   "metadata": {},
   "outputs": [
    {
     "name": "stdout",
     "output_type": "stream",
     "text": [
      "<class 'pandas.core.frame.DataFrame'>\n",
      "RangeIndex: 671205 entries, 0 to 671204\n",
      "Data columns (total 20 columns):\n",
      " #   Column              Non-Null Count   Dtype  \n",
      "---  ------              --------------   -----  \n",
      " 0   id                  671205 non-null  int64  \n",
      " 1   funded_amount       671205 non-null  float64\n",
      " 2   loan_amount         671205 non-null  float64\n",
      " 3   activity            671205 non-null  object \n",
      " 4   sector              671205 non-null  object \n",
      " 5   use                 666973 non-null  object \n",
      " 6   country_code        671197 non-null  object \n",
      " 7   country             671205 non-null  object \n",
      " 8   region              614405 non-null  object \n",
      " 9   currency            671205 non-null  object \n",
      " 10  partner_id          657698 non-null  float64\n",
      " 11  posted_time         671205 non-null  object \n",
      " 12  disbursed_time      668809 non-null  object \n",
      " 13  funded_time         622874 non-null  object \n",
      " 14  term_in_months      671205 non-null  float64\n",
      " 15  lender_count        671205 non-null  int64  \n",
      " 16  tags                499789 non-null  object \n",
      " 17  borrower_genders    666984 non-null  object \n",
      " 18  repayment_interval  671205 non-null  object \n",
      " 19  date                671205 non-null  object \n",
      "dtypes: float64(4), int64(2), object(14)\n",
      "memory usage: 102.4+ MB\n"
     ]
    }
   ],
   "source": [
    "data.info()"
   ]
  },
  {
   "cell_type": "code",
   "execution_count": 73,
   "metadata": {},
   "outputs": [],
   "source": [
    "data.drop(['funded_amount', 'activity', 'use', 'country_code', 'region', 'currency', 'partner_id', 'posted_time', 'disbursed_time', 'funded_time', 'lender_count', 'tags'], axis=1, inplace=True)"
   ]
  },
  {
   "cell_type": "code",
   "execution_count": 74,
   "metadata": {},
   "outputs": [
    {
     "name": "stdout",
     "output_type": "stream",
     "text": [
      "<class 'pandas.core.frame.DataFrame'>\n",
      "RangeIndex: 671205 entries, 0 to 671204\n",
      "Data columns (total 8 columns):\n",
      " #   Column              Non-Null Count   Dtype  \n",
      "---  ------              --------------   -----  \n",
      " 0   id                  671205 non-null  int64  \n",
      " 1   loan_amount         671205 non-null  float64\n",
      " 2   sector              671205 non-null  object \n",
      " 3   country             671205 non-null  object \n",
      " 4   term_in_months      671205 non-null  float64\n",
      " 5   borrower_genders    666984 non-null  object \n",
      " 6   repayment_interval  671205 non-null  object \n",
      " 7   date                671205 non-null  object \n",
      "dtypes: float64(2), int64(1), object(5)\n",
      "memory usage: 41.0+ MB\n"
     ]
    }
   ],
   "source": [
    "data.info()"
   ]
  },
  {
   "cell_type": "code",
   "execution_count": 75,
   "metadata": {},
   "outputs": [
    {
     "data": {
      "text/html": [
       "<div>\n",
       "<style scoped>\n",
       "    .dataframe tbody tr th:only-of-type {\n",
       "        vertical-align: middle;\n",
       "    }\n",
       "\n",
       "    .dataframe tbody tr th {\n",
       "        vertical-align: top;\n",
       "    }\n",
       "\n",
       "    .dataframe thead th {\n",
       "        text-align: right;\n",
       "    }\n",
       "</style>\n",
       "<table border=\"1\" class=\"dataframe\">\n",
       "  <thead>\n",
       "    <tr style=\"text-align: right;\">\n",
       "      <th></th>\n",
       "      <th>id</th>\n",
       "      <th>loan_amount</th>\n",
       "      <th>sector</th>\n",
       "      <th>country</th>\n",
       "      <th>term_in_months</th>\n",
       "      <th>borrower_genders</th>\n",
       "      <th>repayment_interval</th>\n",
       "      <th>date</th>\n",
       "    </tr>\n",
       "  </thead>\n",
       "  <tbody>\n",
       "    <tr>\n",
       "      <th>379892</th>\n",
       "      <td>1026276</td>\n",
       "      <td>3300.0</td>\n",
       "      <td>Food</td>\n",
       "      <td>Paraguay</td>\n",
       "      <td>8.0</td>\n",
       "      <td>female, female, female, female, female, female...</td>\n",
       "      <td>monthly</td>\n",
       "      <td>2016-02-22</td>\n",
       "    </tr>\n",
       "    <tr>\n",
       "      <th>630730</th>\n",
       "      <td>1292076</td>\n",
       "      <td>175.0</td>\n",
       "      <td>Housing</td>\n",
       "      <td>Philippines</td>\n",
       "      <td>13.0</td>\n",
       "      <td>female</td>\n",
       "      <td>irregular</td>\n",
       "      <td>2017-05-04</td>\n",
       "    </tr>\n",
       "    <tr>\n",
       "      <th>470906</th>\n",
       "      <td>1130481</td>\n",
       "      <td>450.0</td>\n",
       "      <td>Food</td>\n",
       "      <td>Philippines</td>\n",
       "      <td>11.0</td>\n",
       "      <td>female</td>\n",
       "      <td>irregular</td>\n",
       "      <td>2016-08-09</td>\n",
       "    </tr>\n",
       "    <tr>\n",
       "      <th>251643</th>\n",
       "      <td>898591</td>\n",
       "      <td>250.0</td>\n",
       "      <td>Clothing</td>\n",
       "      <td>Philippines</td>\n",
       "      <td>11.0</td>\n",
       "      <td>female</td>\n",
       "      <td>irregular</td>\n",
       "      <td>2015-06-09</td>\n",
       "    </tr>\n",
       "    <tr>\n",
       "      <th>429154</th>\n",
       "      <td>1076418</td>\n",
       "      <td>350.0</td>\n",
       "      <td>Agriculture</td>\n",
       "      <td>Colombia</td>\n",
       "      <td>18.0</td>\n",
       "      <td>female</td>\n",
       "      <td>bullet</td>\n",
       "      <td>2016-05-26</td>\n",
       "    </tr>\n",
       "    <tr>\n",
       "      <th>39868</th>\n",
       "      <td>692525</td>\n",
       "      <td>1000.0</td>\n",
       "      <td>Agriculture</td>\n",
       "      <td>Albania</td>\n",
       "      <td>27.0</td>\n",
       "      <td>female</td>\n",
       "      <td>monthly</td>\n",
       "      <td>2014-04-02</td>\n",
       "    </tr>\n",
       "    <tr>\n",
       "      <th>628651</th>\n",
       "      <td>1290232</td>\n",
       "      <td>600.0</td>\n",
       "      <td>Agriculture</td>\n",
       "      <td>Philippines</td>\n",
       "      <td>7.0</td>\n",
       "      <td>female</td>\n",
       "      <td>irregular</td>\n",
       "      <td>2017-05-02</td>\n",
       "    </tr>\n",
       "    <tr>\n",
       "      <th>571354</th>\n",
       "      <td>1232144</td>\n",
       "      <td>775.0</td>\n",
       "      <td>Agriculture</td>\n",
       "      <td>Peru</td>\n",
       "      <td>9.0</td>\n",
       "      <td>female</td>\n",
       "      <td>bullet</td>\n",
       "      <td>2017-02-05</td>\n",
       "    </tr>\n",
       "    <tr>\n",
       "      <th>661203</th>\n",
       "      <td>1324050</td>\n",
       "      <td>1375.0</td>\n",
       "      <td>Agriculture</td>\n",
       "      <td>Honduras</td>\n",
       "      <td>14.0</td>\n",
       "      <td>male</td>\n",
       "      <td>bullet</td>\n",
       "      <td>2017-06-20</td>\n",
       "    </tr>\n",
       "    <tr>\n",
       "      <th>239731</th>\n",
       "      <td>887213</td>\n",
       "      <td>500.0</td>\n",
       "      <td>Housing</td>\n",
       "      <td>Ukraine</td>\n",
       "      <td>26.0</td>\n",
       "      <td>female</td>\n",
       "      <td>monthly</td>\n",
       "      <td>2015-05-18</td>\n",
       "    </tr>\n",
       "  </tbody>\n",
       "</table>\n",
       "</div>"
      ],
      "text/plain": [
       "             id  loan_amount       sector      country  term_in_months  \\\n",
       "379892  1026276       3300.0         Food     Paraguay             8.0   \n",
       "630730  1292076        175.0      Housing  Philippines            13.0   \n",
       "470906  1130481        450.0         Food  Philippines            11.0   \n",
       "251643   898591        250.0     Clothing  Philippines            11.0   \n",
       "429154  1076418        350.0  Agriculture     Colombia            18.0   \n",
       "39868    692525       1000.0  Agriculture      Albania            27.0   \n",
       "628651  1290232        600.0  Agriculture  Philippines             7.0   \n",
       "571354  1232144        775.0  Agriculture         Peru             9.0   \n",
       "661203  1324050       1375.0  Agriculture     Honduras            14.0   \n",
       "239731   887213        500.0      Housing      Ukraine            26.0   \n",
       "\n",
       "                                         borrower_genders repayment_interval  \\\n",
       "379892  female, female, female, female, female, female...            monthly   \n",
       "630730                                             female          irregular   \n",
       "470906                                             female          irregular   \n",
       "251643                                             female          irregular   \n",
       "429154                                             female             bullet   \n",
       "39868                                              female            monthly   \n",
       "628651                                             female          irregular   \n",
       "571354                                             female             bullet   \n",
       "661203                                               male             bullet   \n",
       "239731                                             female            monthly   \n",
       "\n",
       "              date  \n",
       "379892  2016-02-22  \n",
       "630730  2017-05-04  \n",
       "470906  2016-08-09  \n",
       "251643  2015-06-09  \n",
       "429154  2016-05-26  \n",
       "39868   2014-04-02  \n",
       "628651  2017-05-02  \n",
       "571354  2017-02-05  \n",
       "661203  2017-06-20  \n",
       "239731  2015-05-18  "
      ]
     },
     "execution_count": 75,
     "metadata": {},
     "output_type": "execute_result"
    }
   ],
   "source": [
    "data.sample(10)"
   ]
  },
  {
   "cell_type": "code",
   "execution_count": 76,
   "metadata": {},
   "outputs": [],
   "source": [
    "#change data column to datetime\n",
    "data['date'] = pd.to_datetime(data['date'], format='%Y-%m-%d')\n"
   ]
  },
  {
   "cell_type": "code",
   "execution_count": 77,
   "metadata": {},
   "outputs": [],
   "source": [
    "#drop any row with a missing value\n",
    "data.dropna(axis=0, how='any', inplace=True)"
   ]
  },
  {
   "cell_type": "code",
   "execution_count": 78,
   "metadata": {},
   "outputs": [
    {
     "data": {
      "text/plain": [
       "(666984, 8)"
      ]
     },
     "execution_count": 78,
     "metadata": {},
     "output_type": "execute_result"
    }
   ],
   "source": [
    "data.shape"
   ]
  },
  {
   "cell_type": "code",
   "execution_count": 79,
   "metadata": {},
   "outputs": [
    {
     "data": {
      "text/plain": [
       "587141                                               female\n",
       "536453                                               female\n",
       "45996                                                female\n",
       "196828                                               female\n",
       "372648               female, female, female, female, female\n",
       "234869                                                 male\n",
       "125487                                               female\n",
       "552948    female, female, female, female, female, female...\n",
       "551659                 male, female, female, female, female\n",
       "51879                                                female\n",
       "Name: borrower_genders, dtype: object"
      ]
     },
     "execution_count": 79,
     "metadata": {},
     "output_type": "execute_result"
    }
   ],
   "source": [
    "#Let's look at the gender column, and clean it up\n",
    "data['borrower_genders'].sample(10)"
   ]
  },
  {
   "cell_type": "code",
   "execution_count": 80,
   "metadata": {},
   "outputs": [],
   "source": [
    "data['female_gender'] = data['borrower_genders'].str.contains('female')"
   ]
  },
  {
   "cell_type": "code",
   "execution_count": 81,
   "metadata": {},
   "outputs": [],
   "source": [
    "#create a gender column and encode in 'F' and 'M'\n",
    "data.loc[data['female_gender'] == True, 'gender'] = 'F'\n",
    "data.loc[data['female_gender'] == False, 'gender'] ='M'"
   ]
  },
  {
   "cell_type": "code",
   "execution_count": 82,
   "metadata": {},
   "outputs": [],
   "source": [
    "data.drop(['borrower_genders', 'female_gender'], axis=1, inplace=True)"
   ]
  },
  {
   "cell_type": "code",
   "execution_count": 83,
   "metadata": {},
   "outputs": [
    {
     "name": "stdout",
     "output_type": "stream",
     "text": [
      "F    528461\n",
      "M    138523\n",
      "Name: gender, dtype: int64\n"
     ]
    }
   ],
   "source": [
    "print(data['gender'].value_counts())"
   ]
  },
  {
   "cell_type": "code",
   "execution_count": 84,
   "metadata": {},
   "outputs": [
    {
     "name": "stdout",
     "output_type": "stream",
     "text": [
      "119237    F\n",
      "619680    M\n",
      "352782    F\n",
      "514959    M\n",
      "587285    F\n",
      "Name: gender, dtype: category\n",
      "Categories (2, object): [F < M]\n"
     ]
    }
   ],
   "source": [
    "#change the gender column to a category\n",
    "category = ['F', 'M']\n",
    "cat_dtype = pd.api.types.CategoricalDtype(categories=category, ordered=True)\n",
    "data['gender'] = data['gender'].astype(cat_dtype)\n",
    "\n",
    "print(data.gender.sample(5))"
   ]
  },
  {
   "cell_type": "code",
   "execution_count": 85,
   "metadata": {},
   "outputs": [
    {
     "name": "stdout",
     "output_type": "stream",
     "text": [
      "monthly      340171\n",
      "irregular    256573\n",
      "bullet        69638\n",
      "weekly          602\n",
      "Name: repayment_interval, dtype: int64\n"
     ]
    }
   ],
   "source": [
    "#data.loc[data['repayment_interval'] == 'bullet'] = 'daily'\n",
    "print(data['repayment_interval'].value_counts())"
   ]
  },
  {
   "cell_type": "code",
   "execution_count": 86,
   "metadata": {},
   "outputs": [
    {
     "name": "stdout",
     "output_type": "stream",
     "text": [
      "category\n",
      "monthly      340171\n",
      "irregular    256573\n",
      "bullet        69638\n",
      "weekly          602\n",
      "Name: repayment_interval, dtype: int64\n"
     ]
    }
   ],
   "source": [
    "#Change the repayment_interval column to a category too.\n",
    "#Directly: .astype()\n",
    "data['repayment_interval'] = data['repayment_interval'].astype('category')\n",
    "print(data['repayment_interval'].dtype)\n",
    "print(data.repayment_interval.value_counts())"
   ]
  },
  {
   "cell_type": "code",
   "execution_count": 87,
   "metadata": {},
   "outputs": [
    {
     "name": "stdout",
     "output_type": "stream",
     "text": [
      "51312        bullet\n",
      "342634    irregular\n",
      "90685     irregular\n",
      "136702      monthly\n",
      "625383      monthly\n",
      "Name: repayment_interval, dtype: category\n",
      "Categories (4, object): [bullet, irregular, monthly, weekly]\n"
     ]
    }
   ],
   "source": [
    "print(data.repayment_interval.sample(5))"
   ]
  },
  {
   "cell_type": "code",
   "execution_count": 88,
   "metadata": {},
   "outputs": [
    {
     "data": {
      "text/plain": [
       "0    Pakistan\n",
       "1    Pakistan\n",
       "2       India\n",
       "3    Pakistan\n",
       "4    Pakistan\n",
       "Name: country, dtype: object"
      ]
     },
     "execution_count": 88,
     "metadata": {},
     "output_type": "execute_result"
    }
   ],
   "source": [
    "#Look at the country column:\n",
    "data.country.head()"
   ]
  },
  {
   "cell_type": "code",
   "execution_count": 89,
   "metadata": {},
   "outputs": [],
   "source": [
    "#There's an error where instead of India, it's daily.\n",
    "#What caused this error, I don't know. Yet.\n",
    "#print(data.country[data['country'] == 'daily'].count())"
   ]
  },
  {
   "cell_type": "code",
   "execution_count": 90,
   "metadata": {},
   "outputs": [],
   "source": [
    "#Change 'daily' to 'India' in the country column\n",
    "#data.loc[data['country'] == 'daily'] = 'India'"
   ]
  },
  {
   "cell_type": "code",
   "execution_count": 96,
   "metadata": {},
   "outputs": [
    {
     "name": "stdout",
     "output_type": "stream",
     "text": [
      "['Pakistan' 'India' 'Kenya' 'Nicaragua' 'El Salvador' 'Tanzania'\n",
      " 'Philippines' 'Peru' 'Senegal' 'Cambodia' 'Liberia' 'Vietnam' 'Iraq'\n",
      " 'Honduras' 'Palestine' 'Mongolia' 'United States' 'Mali' 'Colombia'\n",
      " 'Tajikistan' 'Guatemala' 'Ecuador' 'Bolivia' 'Yemen' 'Ghana'\n",
      " 'Sierra Leone' 'Haiti' 'Chile' 'Jordan' 'Uganda' 'Burundi' 'Burkina Faso'\n",
      " 'Timor-Leste' 'Indonesia' 'Georgia' 'Ukraine' 'Kosovo' 'Albania'\n",
      " 'The Democratic Republic of the Congo' 'Costa Rica' 'Somalia' 'Zimbabwe'\n",
      " 'Cameroon' 'Turkey' 'Azerbaijan' 'Dominican Republic' 'Brazil' 'Mexico'\n",
      " 'Kyrgyzstan' 'Armenia' 'Paraguay' 'Lebanon' 'Samoa' 'Israel' 'Rwanda'\n",
      " 'Zambia' 'Nepal' 'Congo' 'Mozambique' 'South Africa' 'Togo' 'Benin'\n",
      " 'Belize' 'Suriname' 'Thailand' 'Nigeria' 'Mauritania' 'Vanuatu' 'Panama'\n",
      " 'Virgin Islands' 'Saint Vincent and the Grenadines'\n",
      " \"Lao People's Democratic Republic\" 'Myanmar (Burma)' 'Malawi' 'Moldova'\n",
      " 'South Sudan' 'Solomon Islands' 'China' 'Egypt' 'Guam' 'Afghanistan'\n",
      " 'Madagascar' 'Namibia' 'Puerto Rico' 'Lesotho' \"Cote D'Ivoire\" 'Bhutan']\n",
      "87\n"
     ]
    }
   ],
   "source": [
    "#print(data.country[data['country'] == 'India'].count())\n",
    "print(data.country.unique())\n",
    "print(data.country.nunique())"
   ]
  },
  {
   "cell_type": "code",
   "execution_count": 98,
   "metadata": {},
   "outputs": [
    {
     "name": "stdout",
     "output_type": "stream",
     "text": [
      "['Food' 'Transportation' 'Arts' 'Services' 'Agriculture' 'Manufacturing'\n",
      " 'Wholesale' 'Retail' 'Clothing' 'Construction' 'Health' 'Education'\n",
      " 'Personal Use' 'Housing' 'Entertainment']\n",
      "15\n"
     ]
    }
   ],
   "source": [
    "print(data.sector.unique())\n",
    "print(data.sector.nunique())"
   ]
  },
  {
   "cell_type": "markdown",
   "metadata": {},
   "source": [
    "#Testing hypothesis towards finding out about the borrowers in Kiva.\n",
    "1.Who are they?-Gender.\n",
    "2.What do they do?-Sector\n",
    "3.Where do they come from?-Country\n",
    "4.How long have they borrowed?-term in months\n",
    "5.How do they pay?-repayment intervals\n",
    "6.Which country borrows the most or the least? & In which sector?\n"
   ]
  },
  {
   "cell_type": "markdown",
   "metadata": {},
   "source": [
    "1.What is the gender of most borrowers in Kiva? "
   ]
  },
  {
   "cell_type": "markdown",
   "metadata": {},
   "source": [
    "My hypothesis is that most borrowers in Kiva are female."
   ]
  },
  {
   "cell_type": "code",
   "execution_count": 100,
   "metadata": {},
   "outputs": [
    {
     "name": "stdout",
     "output_type": "stream",
     "text": [
      "F    528461\n",
      "M    138523\n",
      "Name: gender, dtype: int64\n"
     ]
    }
   ],
   "source": [
    "borrower_genders = data['gender'].value_counts()\n",
    "print(borrower_genders)"
   ]
  },
  {
   "cell_type": "code",
   "execution_count": null,
   "metadata": {},
   "outputs": [],
   "source": [
    "female_borrowers = data[data['gender'] == 'F'].sum()\n",
    "print(female_borrowers)"
   ]
  },
  {
   "cell_type": "code",
   "execution_count": null,
   "metadata": {},
   "outputs": [],
   "source": []
  }
 ],
 "metadata": {
  "kernelspec": {
   "display_name": "Python 3",
   "language": "python",
   "name": "python3"
  },
  "language_info": {
   "codemirror_mode": {
    "name": "ipython",
    "version": 3
   },
   "file_extension": ".py",
   "mimetype": "text/x-python",
   "name": "python",
   "nbconvert_exporter": "python",
   "pygments_lexer": "ipython3",
   "version": "3.7.6"
  }
 },
 "nbformat": 4,
 "nbformat_minor": 4
}
