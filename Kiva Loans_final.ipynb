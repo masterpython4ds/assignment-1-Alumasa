{
 "cells": [
  {
   "cell_type": "markdown",
   "metadata": {},
   "source": [
    "Import python libraries."
   ]
  },
  {
   "cell_type": "code",
   "execution_count": 70,
   "metadata": {},
   "outputs": [],
   "source": [
    "import pandas as pd\n",
    "import numpy as np"
   ]
  },
  {
   "cell_type": "markdown",
   "metadata": {},
   "source": [
    "Read and preview the data."
   ]
  },
  {
   "cell_type": "code",
   "execution_count": 71,
   "metadata": {},
   "outputs": [
    {
     "data": {
      "text/html": [
       "<div>\n",
       "<style scoped>\n",
       "    .dataframe tbody tr th:only-of-type {\n",
       "        vertical-align: middle;\n",
       "    }\n",
       "\n",
       "    .dataframe tbody tr th {\n",
       "        vertical-align: top;\n",
       "    }\n",
       "\n",
       "    .dataframe thead th {\n",
       "        text-align: right;\n",
       "    }\n",
       "</style>\n",
       "<table border=\"1\" class=\"dataframe\">\n",
       "  <thead>\n",
       "    <tr style=\"text-align: right;\">\n",
       "      <th></th>\n",
       "      <th>id</th>\n",
       "      <th>funded_amount</th>\n",
       "      <th>loan_amount</th>\n",
       "      <th>activity</th>\n",
       "      <th>sector</th>\n",
       "      <th>use</th>\n",
       "      <th>country_code</th>\n",
       "      <th>country</th>\n",
       "      <th>region</th>\n",
       "      <th>currency</th>\n",
       "      <th>partner_id</th>\n",
       "      <th>posted_time</th>\n",
       "      <th>disbursed_time</th>\n",
       "      <th>funded_time</th>\n",
       "      <th>term_in_months</th>\n",
       "      <th>lender_count</th>\n",
       "      <th>tags</th>\n",
       "      <th>borrower_genders</th>\n",
       "      <th>repayment_interval</th>\n",
       "      <th>date</th>\n",
       "    </tr>\n",
       "  </thead>\n",
       "  <tbody>\n",
       "    <tr>\n",
       "      <th>0</th>\n",
       "      <td>653051</td>\n",
       "      <td>300.0</td>\n",
       "      <td>300.0</td>\n",
       "      <td>Fruits &amp; Vegetables</td>\n",
       "      <td>Food</td>\n",
       "      <td>To buy seasonal, fresh fruits to sell.</td>\n",
       "      <td>PK</td>\n",
       "      <td>Pakistan</td>\n",
       "      <td>Lahore</td>\n",
       "      <td>PKR</td>\n",
       "      <td>247.0</td>\n",
       "      <td>2014-01-01 06:12:39+00:00</td>\n",
       "      <td>2013-12-17 08:00:00+00:00</td>\n",
       "      <td>2014-01-02 10:06:32+00:00</td>\n",
       "      <td>12.0</td>\n",
       "      <td>12</td>\n",
       "      <td>NaN</td>\n",
       "      <td>female</td>\n",
       "      <td>irregular</td>\n",
       "      <td>2014-01-01</td>\n",
       "    </tr>\n",
       "    <tr>\n",
       "      <th>1</th>\n",
       "      <td>653053</td>\n",
       "      <td>575.0</td>\n",
       "      <td>575.0</td>\n",
       "      <td>Rickshaw</td>\n",
       "      <td>Transportation</td>\n",
       "      <td>to repair and maintain the auto rickshaw used ...</td>\n",
       "      <td>PK</td>\n",
       "      <td>Pakistan</td>\n",
       "      <td>Lahore</td>\n",
       "      <td>PKR</td>\n",
       "      <td>247.0</td>\n",
       "      <td>2014-01-01 06:51:08+00:00</td>\n",
       "      <td>2013-12-17 08:00:00+00:00</td>\n",
       "      <td>2014-01-02 09:17:23+00:00</td>\n",
       "      <td>11.0</td>\n",
       "      <td>14</td>\n",
       "      <td>NaN</td>\n",
       "      <td>female, female</td>\n",
       "      <td>irregular</td>\n",
       "      <td>2014-01-01</td>\n",
       "    </tr>\n",
       "    <tr>\n",
       "      <th>2</th>\n",
       "      <td>653068</td>\n",
       "      <td>150.0</td>\n",
       "      <td>150.0</td>\n",
       "      <td>Transportation</td>\n",
       "      <td>Transportation</td>\n",
       "      <td>To repair their old cycle-van and buy another ...</td>\n",
       "      <td>IN</td>\n",
       "      <td>India</td>\n",
       "      <td>Maynaguri</td>\n",
       "      <td>INR</td>\n",
       "      <td>334.0</td>\n",
       "      <td>2014-01-01 09:58:07+00:00</td>\n",
       "      <td>2013-12-17 08:00:00+00:00</td>\n",
       "      <td>2014-01-01 16:01:36+00:00</td>\n",
       "      <td>43.0</td>\n",
       "      <td>6</td>\n",
       "      <td>user_favorite, user_favorite</td>\n",
       "      <td>female</td>\n",
       "      <td>bullet</td>\n",
       "      <td>2014-01-01</td>\n",
       "    </tr>\n",
       "    <tr>\n",
       "      <th>3</th>\n",
       "      <td>653063</td>\n",
       "      <td>200.0</td>\n",
       "      <td>200.0</td>\n",
       "      <td>Embroidery</td>\n",
       "      <td>Arts</td>\n",
       "      <td>to purchase an embroidery machine and a variet...</td>\n",
       "      <td>PK</td>\n",
       "      <td>Pakistan</td>\n",
       "      <td>Lahore</td>\n",
       "      <td>PKR</td>\n",
       "      <td>247.0</td>\n",
       "      <td>2014-01-01 08:03:11+00:00</td>\n",
       "      <td>2013-12-24 08:00:00+00:00</td>\n",
       "      <td>2014-01-01 13:00:00+00:00</td>\n",
       "      <td>11.0</td>\n",
       "      <td>8</td>\n",
       "      <td>NaN</td>\n",
       "      <td>female</td>\n",
       "      <td>irregular</td>\n",
       "      <td>2014-01-01</td>\n",
       "    </tr>\n",
       "    <tr>\n",
       "      <th>4</th>\n",
       "      <td>653084</td>\n",
       "      <td>400.0</td>\n",
       "      <td>400.0</td>\n",
       "      <td>Milk Sales</td>\n",
       "      <td>Food</td>\n",
       "      <td>to purchase one buffalo.</td>\n",
       "      <td>PK</td>\n",
       "      <td>Pakistan</td>\n",
       "      <td>Abdul Hakeem</td>\n",
       "      <td>PKR</td>\n",
       "      <td>245.0</td>\n",
       "      <td>2014-01-01 11:53:19+00:00</td>\n",
       "      <td>2013-12-17 08:00:00+00:00</td>\n",
       "      <td>2014-01-01 19:18:51+00:00</td>\n",
       "      <td>14.0</td>\n",
       "      <td>16</td>\n",
       "      <td>NaN</td>\n",
       "      <td>female</td>\n",
       "      <td>monthly</td>\n",
       "      <td>2014-01-01</td>\n",
       "    </tr>\n",
       "  </tbody>\n",
       "</table>\n",
       "</div>"
      ],
      "text/plain": [
       "       id  funded_amount  loan_amount             activity          sector  \\\n",
       "0  653051          300.0        300.0  Fruits & Vegetables            Food   \n",
       "1  653053          575.0        575.0             Rickshaw  Transportation   \n",
       "2  653068          150.0        150.0       Transportation  Transportation   \n",
       "3  653063          200.0        200.0           Embroidery            Arts   \n",
       "4  653084          400.0        400.0           Milk Sales            Food   \n",
       "\n",
       "                                                 use country_code   country  \\\n",
       "0            To buy seasonal, fresh fruits to sell.            PK  Pakistan   \n",
       "1  to repair and maintain the auto rickshaw used ...           PK  Pakistan   \n",
       "2  To repair their old cycle-van and buy another ...           IN     India   \n",
       "3  to purchase an embroidery machine and a variet...           PK  Pakistan   \n",
       "4                           to purchase one buffalo.           PK  Pakistan   \n",
       "\n",
       "         region currency  partner_id                posted_time  \\\n",
       "0        Lahore      PKR       247.0  2014-01-01 06:12:39+00:00   \n",
       "1        Lahore      PKR       247.0  2014-01-01 06:51:08+00:00   \n",
       "2     Maynaguri      INR       334.0  2014-01-01 09:58:07+00:00   \n",
       "3        Lahore      PKR       247.0  2014-01-01 08:03:11+00:00   \n",
       "4  Abdul Hakeem      PKR       245.0  2014-01-01 11:53:19+00:00   \n",
       "\n",
       "              disbursed_time                funded_time  term_in_months  \\\n",
       "0  2013-12-17 08:00:00+00:00  2014-01-02 10:06:32+00:00            12.0   \n",
       "1  2013-12-17 08:00:00+00:00  2014-01-02 09:17:23+00:00            11.0   \n",
       "2  2013-12-17 08:00:00+00:00  2014-01-01 16:01:36+00:00            43.0   \n",
       "3  2013-12-24 08:00:00+00:00  2014-01-01 13:00:00+00:00            11.0   \n",
       "4  2013-12-17 08:00:00+00:00  2014-01-01 19:18:51+00:00            14.0   \n",
       "\n",
       "   lender_count                          tags borrower_genders  \\\n",
       "0            12                           NaN           female   \n",
       "1            14                           NaN   female, female   \n",
       "2             6  user_favorite, user_favorite           female   \n",
       "3             8                           NaN           female   \n",
       "4            16                           NaN           female   \n",
       "\n",
       "  repayment_interval        date  \n",
       "0          irregular  2014-01-01  \n",
       "1          irregular  2014-01-01  \n",
       "2             bullet  2014-01-01  \n",
       "3          irregular  2014-01-01  \n",
       "4            monthly  2014-01-01  "
      ]
     },
     "execution_count": 71,
     "metadata": {},
     "output_type": "execute_result"
    }
   ],
   "source": [
    "data = pd.read_csv('kiva_loans.csv')\n",
    "data.head()"
   ]
  },
  {
   "cell_type": "markdown",
   "metadata": {},
   "source": [
    "Look at data columns, null values and data types."
   ]
  },
  {
   "cell_type": "code",
   "execution_count": 72,
   "metadata": {},
   "outputs": [
    {
     "name": "stdout",
     "output_type": "stream",
     "text": [
      "<class 'pandas.core.frame.DataFrame'>\n",
      "RangeIndex: 671205 entries, 0 to 671204\n",
      "Data columns (total 20 columns):\n",
      " #   Column              Non-Null Count   Dtype  \n",
      "---  ------              --------------   -----  \n",
      " 0   id                  671205 non-null  int64  \n",
      " 1   funded_amount       671205 non-null  float64\n",
      " 2   loan_amount         671205 non-null  float64\n",
      " 3   activity            671205 non-null  object \n",
      " 4   sector              671205 non-null  object \n",
      " 5   use                 666973 non-null  object \n",
      " 6   country_code        671197 non-null  object \n",
      " 7   country             671205 non-null  object \n",
      " 8   region              614405 non-null  object \n",
      " 9   currency            671205 non-null  object \n",
      " 10  partner_id          657698 non-null  float64\n",
      " 11  posted_time         671205 non-null  object \n",
      " 12  disbursed_time      668809 non-null  object \n",
      " 13  funded_time         622874 non-null  object \n",
      " 14  term_in_months      671205 non-null  float64\n",
      " 15  lender_count        671205 non-null  int64  \n",
      " 16  tags                499789 non-null  object \n",
      " 17  borrower_genders    666984 non-null  object \n",
      " 18  repayment_interval  671205 non-null  object \n",
      " 19  date                671205 non-null  object \n",
      "dtypes: float64(4), int64(2), object(14)\n",
      "memory usage: 102.4+ MB\n"
     ]
    }
   ],
   "source": [
    "data.info()"
   ]
  },
  {
   "cell_type": "markdown",
   "metadata": {},
   "source": [
    "I will drop the following columns because they do not contain any information that will help in the analysis of Kiva borrowers."
   ]
  },
  {
   "cell_type": "code",
   "execution_count": 73,
   "metadata": {},
   "outputs": [],
   "source": [
    "#drop the following columns because they do not have a direct relationship with the borrowers of Kiva.\n",
    "data.drop(['funded_amount', 'activity', 'use', 'country_code', 'region', 'currency', 'partner_id', 'posted_time', 'disbursed_time', 'funded_time', 'lender_count', 'tags'], axis=1, inplace=True)"
   ]
  },
  {
   "cell_type": "code",
   "execution_count": 74,
   "metadata": {},
   "outputs": [
    {
     "name": "stdout",
     "output_type": "stream",
     "text": [
      "<class 'pandas.core.frame.DataFrame'>\n",
      "RangeIndex: 671205 entries, 0 to 671204\n",
      "Data columns (total 8 columns):\n",
      " #   Column              Non-Null Count   Dtype  \n",
      "---  ------              --------------   -----  \n",
      " 0   id                  671205 non-null  int64  \n",
      " 1   loan_amount         671205 non-null  float64\n",
      " 2   sector              671205 non-null  object \n",
      " 3   country             671205 non-null  object \n",
      " 4   term_in_months      671205 non-null  float64\n",
      " 5   borrower_genders    666984 non-null  object \n",
      " 6   repayment_interval  671205 non-null  object \n",
      " 7   date                671205 non-null  object \n",
      "dtypes: float64(2), int64(1), object(5)\n",
      "memory usage: 41.0+ MB\n"
     ]
    }
   ],
   "source": [
    "data.info()"
   ]
  },
  {
   "cell_type": "code",
   "execution_count": 75,
   "metadata": {},
   "outputs": [
    {
     "data": {
      "text/html": [
       "<div>\n",
       "<style scoped>\n",
       "    .dataframe tbody tr th:only-of-type {\n",
       "        vertical-align: middle;\n",
       "    }\n",
       "\n",
       "    .dataframe tbody tr th {\n",
       "        vertical-align: top;\n",
       "    }\n",
       "\n",
       "    .dataframe thead th {\n",
       "        text-align: right;\n",
       "    }\n",
       "</style>\n",
       "<table border=\"1\" class=\"dataframe\">\n",
       "  <thead>\n",
       "    <tr style=\"text-align: right;\">\n",
       "      <th></th>\n",
       "      <th>id</th>\n",
       "      <th>loan_amount</th>\n",
       "      <th>sector</th>\n",
       "      <th>country</th>\n",
       "      <th>term_in_months</th>\n",
       "      <th>borrower_genders</th>\n",
       "      <th>repayment_interval</th>\n",
       "      <th>date</th>\n",
       "    </tr>\n",
       "  </thead>\n",
       "  <tbody>\n",
       "    <tr>\n",
       "      <th>58043</th>\n",
       "      <td>710645</td>\n",
       "      <td>575.0</td>\n",
       "      <td>Food</td>\n",
       "      <td>Kenya</td>\n",
       "      <td>14.0</td>\n",
       "      <td>female</td>\n",
       "      <td>irregular</td>\n",
       "      <td>2014-05-15</td>\n",
       "    </tr>\n",
       "    <tr>\n",
       "      <th>270147</th>\n",
       "      <td>917473</td>\n",
       "      <td>750.0</td>\n",
       "      <td>Housing</td>\n",
       "      <td>Cambodia</td>\n",
       "      <td>14.0</td>\n",
       "      <td>female</td>\n",
       "      <td>monthly</td>\n",
       "      <td>2015-07-15</td>\n",
       "    </tr>\n",
       "    <tr>\n",
       "      <th>76328</th>\n",
       "      <td>728312</td>\n",
       "      <td>2500.0</td>\n",
       "      <td>Retail</td>\n",
       "      <td>Zimbabwe</td>\n",
       "      <td>11.0</td>\n",
       "      <td>female, female, female, female, female</td>\n",
       "      <td>monthly</td>\n",
       "      <td>2014-06-20</td>\n",
       "    </tr>\n",
       "    <tr>\n",
       "      <th>58838</th>\n",
       "      <td>710902</td>\n",
       "      <td>100.0</td>\n",
       "      <td>Food</td>\n",
       "      <td>Philippines</td>\n",
       "      <td>8.0</td>\n",
       "      <td>female</td>\n",
       "      <td>irregular</td>\n",
       "      <td>2014-05-16</td>\n",
       "    </tr>\n",
       "    <tr>\n",
       "      <th>434421</th>\n",
       "      <td>1094205</td>\n",
       "      <td>200.0</td>\n",
       "      <td>Personal Use</td>\n",
       "      <td>Cambodia</td>\n",
       "      <td>8.0</td>\n",
       "      <td>female, female, female, female, female</td>\n",
       "      <td>monthly</td>\n",
       "      <td>2016-06-03</td>\n",
       "    </tr>\n",
       "    <tr>\n",
       "      <th>215824</th>\n",
       "      <td>863960</td>\n",
       "      <td>1150.0</td>\n",
       "      <td>Food</td>\n",
       "      <td>Sierra Leone</td>\n",
       "      <td>8.0</td>\n",
       "      <td>male</td>\n",
       "      <td>monthly</td>\n",
       "      <td>2015-03-30</td>\n",
       "    </tr>\n",
       "    <tr>\n",
       "      <th>233414</th>\n",
       "      <td>881264</td>\n",
       "      <td>125.0</td>\n",
       "      <td>Personal Use</td>\n",
       "      <td>Lao People's Democratic Republic</td>\n",
       "      <td>9.0</td>\n",
       "      <td>male, male</td>\n",
       "      <td>bullet</td>\n",
       "      <td>2015-05-07</td>\n",
       "    </tr>\n",
       "    <tr>\n",
       "      <th>374077</th>\n",
       "      <td>1020907</td>\n",
       "      <td>2000.0</td>\n",
       "      <td>Education</td>\n",
       "      <td>Kenya</td>\n",
       "      <td>25.0</td>\n",
       "      <td>male</td>\n",
       "      <td>monthly</td>\n",
       "      <td>2016-02-10</td>\n",
       "    </tr>\n",
       "    <tr>\n",
       "      <th>45989</th>\n",
       "      <td>698212</td>\n",
       "      <td>225.0</td>\n",
       "      <td>Housing</td>\n",
       "      <td>Philippines</td>\n",
       "      <td>60.0</td>\n",
       "      <td>female</td>\n",
       "      <td>irregular</td>\n",
       "      <td>2014-04-16</td>\n",
       "    </tr>\n",
       "    <tr>\n",
       "      <th>544964</th>\n",
       "      <td>1205935</td>\n",
       "      <td>175.0</td>\n",
       "      <td>Personal Use</td>\n",
       "      <td>Cambodia</td>\n",
       "      <td>8.0</td>\n",
       "      <td>male, male, male, male</td>\n",
       "      <td>monthly</td>\n",
       "      <td>2016-12-19</td>\n",
       "    </tr>\n",
       "  </tbody>\n",
       "</table>\n",
       "</div>"
      ],
      "text/plain": [
       "             id  loan_amount        sector                           country  \\\n",
       "58043    710645        575.0          Food                             Kenya   \n",
       "270147   917473        750.0       Housing                          Cambodia   \n",
       "76328    728312       2500.0        Retail                          Zimbabwe   \n",
       "58838    710902        100.0          Food                       Philippines   \n",
       "434421  1094205        200.0  Personal Use                          Cambodia   \n",
       "215824   863960       1150.0          Food                      Sierra Leone   \n",
       "233414   881264        125.0  Personal Use  Lao People's Democratic Republic   \n",
       "374077  1020907       2000.0     Education                             Kenya   \n",
       "45989    698212        225.0       Housing                       Philippines   \n",
       "544964  1205935        175.0  Personal Use                          Cambodia   \n",
       "\n",
       "        term_in_months                        borrower_genders  \\\n",
       "58043             14.0                                  female   \n",
       "270147            14.0                                  female   \n",
       "76328             11.0  female, female, female, female, female   \n",
       "58838              8.0                                  female   \n",
       "434421             8.0  female, female, female, female, female   \n",
       "215824             8.0                                    male   \n",
       "233414             9.0                              male, male   \n",
       "374077            25.0                                    male   \n",
       "45989             60.0                                  female   \n",
       "544964             8.0                  male, male, male, male   \n",
       "\n",
       "       repayment_interval        date  \n",
       "58043           irregular  2014-05-15  \n",
       "270147            monthly  2015-07-15  \n",
       "76328             monthly  2014-06-20  \n",
       "58838           irregular  2014-05-16  \n",
       "434421            monthly  2016-06-03  \n",
       "215824            monthly  2015-03-30  \n",
       "233414             bullet  2015-05-07  \n",
       "374077            monthly  2016-02-10  \n",
       "45989           irregular  2014-04-16  \n",
       "544964            monthly  2016-12-19  "
      ]
     },
     "execution_count": 75,
     "metadata": {},
     "output_type": "execute_result"
    }
   ],
   "source": [
    "data.sample(10)"
   ]
  },
  {
   "cell_type": "markdown",
   "metadata": {},
   "source": [
    "I'll change the date column to a datetime data type for easy time analysis."
   ]
  },
  {
   "cell_type": "code",
   "execution_count": 76,
   "metadata": {},
   "outputs": [],
   "source": [
    "data['date'] = pd.to_datetime(data['date'], format='%Y-%m-%d')"
   ]
  },
  {
   "cell_type": "markdown",
   "metadata": {},
   "source": [
    "I'll use isnull() method and chain it with sum() to find the total number of nulls in each column in the DataFrame"
   ]
  },
  {
   "cell_type": "code",
   "execution_count": 77,
   "metadata": {},
   "outputs": [
    {
     "data": {
      "text/plain": [
       "id                       0\n",
       "loan_amount              0\n",
       "sector                   0\n",
       "country                  0\n",
       "term_in_months           0\n",
       "borrower_genders      4221\n",
       "repayment_interval       0\n",
       "date                     0\n",
       "dtype: int64"
      ]
     },
     "execution_count": 77,
     "metadata": {},
     "output_type": "execute_result"
    }
   ],
   "source": [
    "data.isnull().sum()"
   ]
  },
  {
   "cell_type": "code",
   "execution_count": 78,
   "metadata": {},
   "outputs": [
    {
     "data": {
      "text/plain": [
       "(671205, 8)"
      ]
     },
     "execution_count": 78,
     "metadata": {},
     "output_type": "execute_result"
    }
   ],
   "source": [
    "data.shape"
   ]
  },
  {
   "cell_type": "markdown",
   "metadata": {},
   "source": [
    "I have noticed some anomalies in the gender column that could have occurred during data collection, so I'll clean it up."
   ]
  },
  {
   "cell_type": "code",
   "execution_count": 79,
   "metadata": {},
   "outputs": [
    {
     "data": {
      "text/plain": [
       "66245                   female\n",
       "64492                   female\n",
       "150527                  female\n",
       "381259    female, female, male\n",
       "609778            male, female\n",
       "360755                  female\n",
       "67008                   female\n",
       "486648                  female\n",
       "242162                  female\n",
       "382780                  female\n",
       "Name: borrower_genders, dtype: object"
      ]
     },
     "execution_count": 79,
     "metadata": {},
     "output_type": "execute_result"
    }
   ],
   "source": [
    "data['borrower_genders'].sample(10)"
   ]
  },
  {
   "cell_type": "markdown",
   "metadata": {},
   "source": [
    "I'll create a new column, of boolean type, to contain strings that contains female. True contains female, and False will hence contain male."
   ]
  },
  {
   "cell_type": "code",
   "execution_count": 80,
   "metadata": {},
   "outputs": [],
   "source": [
    "data['female_gender'] = data['borrower_genders'].str.contains('female')"
   ]
  },
  {
   "cell_type": "markdown",
   "metadata": {},
   "source": [
    "I'll create a gender column that encodes the above classification into 'F' and 'M'."
   ]
  },
  {
   "cell_type": "code",
   "execution_count": 81,
   "metadata": {},
   "outputs": [],
   "source": [
    "data.loc[data['female_gender'] == True, 'gender'] = 'F'\n",
    "data.loc[data['female_gender'] == False, 'gender'] ='M'"
   ]
  },
  {
   "cell_type": "markdown",
   "metadata": {},
   "source": [
    "I will drop the following columns since I now have a clean gender column. Using the drop() method, with axis and inplace arguments."
   ]
  },
  {
   "cell_type": "code",
   "execution_count": 82,
   "metadata": {},
   "outputs": [],
   "source": [
    "data.drop(['borrower_genders', 'female_gender'], axis=1, inplace=True)"
   ]
  },
  {
   "cell_type": "markdown",
   "metadata": {},
   "source": [
    "Now let's look at unique values and their counts in the gender column, using value_counts() method."
   ]
  },
  {
   "cell_type": "code",
   "execution_count": 83,
   "metadata": {},
   "outputs": [
    {
     "name": "stdout",
     "output_type": "stream",
     "text": [
      "F    528461\n",
      "M    138523\n",
      "Name: gender, dtype: int64\n"
     ]
    }
   ],
   "source": [
    "print(data['gender'].value_counts())"
   ]
  },
  {
   "cell_type": "markdown",
   "metadata": {},
   "source": [
    "I'll fill in the rows with missing values, with the gender that has the least counts, since 4221 is a significant number to do away with in my DataFrame.\n",
    "\n",
    "I will use the fillna() method, with value, axis and inplace as keyword arguments."
   ]
  },
  {
   "cell_type": "code",
   "execution_count": 84,
   "metadata": {},
   "outputs": [
    {
     "name": "stdout",
     "output_type": "stream",
     "text": [
      "<class 'pandas.core.frame.DataFrame'>\n",
      "RangeIndex: 671205 entries, 0 to 671204\n",
      "Data columns (total 8 columns):\n",
      " #   Column              Non-Null Count   Dtype         \n",
      "---  ------              --------------   -----         \n",
      " 0   id                  671205 non-null  int64         \n",
      " 1   loan_amount         671205 non-null  float64       \n",
      " 2   sector              671205 non-null  object        \n",
      " 3   country             671205 non-null  object        \n",
      " 4   term_in_months      671205 non-null  float64       \n",
      " 5   repayment_interval  671205 non-null  object        \n",
      " 6   date                671205 non-null  datetime64[ns]\n",
      " 7   gender              671205 non-null  object        \n",
      "dtypes: datetime64[ns](1), float64(2), int64(1), object(4)\n",
      "memory usage: 41.0+ MB\n"
     ]
    }
   ],
   "source": [
    "#fill any gender row with a missing value\n",
    "data.fillna(value='M', axis=1, inplace=True)\n",
    "data.info()"
   ]
  },
  {
   "cell_type": "markdown",
   "metadata": {},
   "source": [
    "I will convert the gender column into a category."
   ]
  },
  {
   "cell_type": "code",
   "execution_count": 85,
   "metadata": {},
   "outputs": [
    {
     "name": "stdout",
     "output_type": "stream",
     "text": [
      "101611    F\n",
      "515709    F\n",
      "435874    F\n",
      "213948    F\n",
      "541139    F\n",
      "Name: gender, dtype: category\n",
      "Categories (2, object): [F < M]\n"
     ]
    }
   ],
   "source": [
    "category = ['F', 'M']\n",
    "cat_dtype = pd.api.types.CategoricalDtype(categories=category, ordered=True)\n",
    "data['gender'] = data['gender'].astype(cat_dtype)\n",
    "\n",
    "print(data.gender.sample(5))"
   ]
  },
  {
   "cell_type": "markdown",
   "metadata": {},
   "source": [
    "Let's look at the repayment_interval column.\n",
    "Use value_counts() to find counts of unique values in the column."
   ]
  },
  {
   "cell_type": "code",
   "execution_count": 86,
   "metadata": {},
   "outputs": [
    {
     "name": "stdout",
     "output_type": "stream",
     "text": [
      "monthly      342717\n",
      "irregular    257158\n",
      "bullet        70728\n",
      "weekly          602\n",
      "Name: repayment_interval, dtype: int64\n"
     ]
    }
   ],
   "source": [
    "print(data['repayment_interval'].value_counts())"
   ]
  },
  {
   "cell_type": "markdown",
   "metadata": {},
   "source": [
    "bullet could mean daily, so I'll change it."
   ]
  },
  {
   "cell_type": "code",
   "execution_count": 87,
   "metadata": {},
   "outputs": [],
   "source": [
    "data.loc[data['repayment_interval'] == 'bullet', 'repayment_interval'] = 'daily'"
   ]
  },
  {
   "cell_type": "markdown",
   "metadata": {},
   "source": [
    "I'll change the repayment_interval column to a category too. Directly, using astype() method, with category as an argument."
   ]
  },
  {
   "cell_type": "code",
   "execution_count": 88,
   "metadata": {},
   "outputs": [
    {
     "name": "stdout",
     "output_type": "stream",
     "text": [
      "category\n",
      "monthly      342717\n",
      "irregular    257158\n",
      "daily         70728\n",
      "weekly          602\n",
      "Name: repayment_interval, dtype: int64\n"
     ]
    }
   ],
   "source": [
    "data['repayment_interval'] = data['repayment_interval'].astype('category')\n",
    "print(data['repayment_interval'].dtype)\n",
    "print(data.repayment_interval.value_counts())"
   ]
  },
  {
   "cell_type": "markdown",
   "metadata": {},
   "source": [
    "Let's look at the country column"
   ]
  },
  {
   "cell_type": "code",
   "execution_count": 89,
   "metadata": {},
   "outputs": [
    {
     "data": {
      "text/plain": [
       "0    Pakistan\n",
       "1    Pakistan\n",
       "2       India\n",
       "3    Pakistan\n",
       "4    Pakistan\n",
       "Name: country, dtype: object"
      ]
     },
     "execution_count": 89,
     "metadata": {},
     "output_type": "execute_result"
    }
   ],
   "source": [
    "data.country.head()"
   ]
  },
  {
   "cell_type": "code",
   "execution_count": 90,
   "metadata": {},
   "outputs": [
    {
     "name": "stdout",
     "output_type": "stream",
     "text": [
      "['Pakistan' 'India' 'Kenya' 'Nicaragua' 'El Salvador' 'Tanzania'\n",
      " 'Philippines' 'Peru' 'Senegal' 'Cambodia' 'Liberia' 'Vietnam' 'Iraq'\n",
      " 'Honduras' 'Palestine' 'Mongolia' 'United States' 'Mali' 'Colombia'\n",
      " 'Tajikistan' 'Guatemala' 'Ecuador' 'Bolivia' 'Yemen' 'Ghana'\n",
      " 'Sierra Leone' 'Haiti' 'Chile' 'Jordan' 'Uganda' 'Burundi' 'Burkina Faso'\n",
      " 'Timor-Leste' 'Indonesia' 'Georgia' 'Ukraine' 'Kosovo' 'Albania'\n",
      " 'The Democratic Republic of the Congo' 'Costa Rica' 'Somalia' 'Zimbabwe'\n",
      " 'Cameroon' 'Turkey' 'Azerbaijan' 'Dominican Republic' 'Brazil' 'Mexico'\n",
      " 'Kyrgyzstan' 'Armenia' 'Paraguay' 'Lebanon' 'Samoa' 'Israel' 'Rwanda'\n",
      " 'Zambia' 'Nepal' 'Congo' 'Mozambique' 'South Africa' 'Togo' 'Benin'\n",
      " 'Belize' 'Suriname' 'Thailand' 'Nigeria' 'Mauritania' 'Vanuatu' 'Panama'\n",
      " 'Virgin Islands' 'Saint Vincent and the Grenadines'\n",
      " \"Lao People's Democratic Republic\" 'Malawi' 'Myanmar (Burma)' 'Moldova'\n",
      " 'South Sudan' 'Solomon Islands' 'China' 'Egypt' 'Guam' 'Afghanistan'\n",
      " 'Madagascar' 'Namibia' 'Puerto Rico' 'Lesotho' \"Cote D'Ivoire\" 'Bhutan']\n",
      "87\n"
     ]
    }
   ],
   "source": [
    "print(data.country.unique())\n",
    "print(data.country.nunique())"
   ]
  },
  {
   "cell_type": "markdown",
   "metadata": {},
   "source": [
    "Let's also look at the sector column"
   ]
  },
  {
   "cell_type": "code",
   "execution_count": 91,
   "metadata": {},
   "outputs": [
    {
     "name": "stdout",
     "output_type": "stream",
     "text": [
      "['Food' 'Transportation' 'Arts' 'Services' 'Agriculture' 'Manufacturing'\n",
      " 'Wholesale' 'Retail' 'Clothing' 'Construction' 'Health' 'Education'\n",
      " 'Personal Use' 'Housing' 'Entertainment']\n",
      "15\n"
     ]
    },
    {
     "data": {
      "text/plain": [
       "Agriculture       180302\n",
       "Food              136657\n",
       "Retail            124494\n",
       "Services           45140\n",
       "Personal Use       36385\n",
       "Housing            33731\n",
       "Clothing           32742\n",
       "Education          31013\n",
       "Transportation     15518\n",
       "Arts               12060\n",
       "Health              9223\n",
       "Construction        6268\n",
       "Manufacturing       6208\n",
       "Entertainment        830\n",
       "Wholesale            634\n",
       "Name: sector, dtype: int64"
      ]
     },
     "execution_count": 91,
     "metadata": {},
     "output_type": "execute_result"
    }
   ],
   "source": [
    "print(data.sector.unique())\n",
    "print(data.sector.nunique())\n",
    "data.sector.value_counts()"
   ]
  },
  {
   "cell_type": "markdown",
   "metadata": {},
   "source": [
    "Because Food and Agriculture are directly related, I have changed them to one: Agriculture"
   ]
  },
  {
   "cell_type": "code",
   "execution_count": 92,
   "metadata": {},
   "outputs": [
    {
     "data": {
      "text/plain": [
       "array(['Agriculture', 'Transportation', 'Arts', 'Services',\n",
       "       'Manufacturing', 'Wholesale', 'Retail', 'Clothing', 'Construction',\n",
       "       'Health', 'Education', 'Personal Use', 'Housing', 'Entertainment'],\n",
       "      dtype=object)"
      ]
     },
     "execution_count": 92,
     "metadata": {},
     "output_type": "execute_result"
    }
   ],
   "source": [
    "data.loc[data['sector'] == 'Food', 'sector'] = 'Agriculture'\n",
    "data.sector.unique()"
   ]
  },
  {
   "cell_type": "markdown",
   "metadata": {},
   "source": [
    "Check for duplicates in the whole DataFrame using the duplicated() method."
   ]
  },
  {
   "cell_type": "code",
   "execution_count": 93,
   "metadata": {},
   "outputs": [
    {
     "data": {
      "text/plain": [
       "0"
      ]
     },
     "execution_count": 93,
     "metadata": {},
     "output_type": "execute_result"
    }
   ],
   "source": [
    "data.duplicated().sum()"
   ]
  },
  {
   "cell_type": "markdown",
   "metadata": {},
   "source": [
    "### Testing hypothesis towards finding out about the borrowers in Kiva.\n",
    "\n",
    "\n",
    "1.Who are they?-Gender.\n",
    "2.What do they do?-Sector\n",
    "3.Where do they come from?-Country\n",
    "4.How long have they borrowed?-term in months\n",
    "5.How do they pay? Poverty levels? -repayment intervals\n",
    "6.Which country borrows the most or the least? & In which sector?\n"
   ]
  },
  {
   "cell_type": "markdown",
   "metadata": {},
   "source": [
    "#### 1.What is the gender of most borrowers in Kiva? "
   ]
  },
  {
   "cell_type": "markdown",
   "metadata": {},
   "source": [
    "###### My hypothesis is that most borrowers in Kiva are female."
   ]
  },
  {
   "cell_type": "markdown",
   "metadata": {},
   "source": [
    "I will create variables with counts of each gender and use the total to calculate the percentage of each gender."
   ]
  },
  {
   "cell_type": "code",
   "execution_count": 94,
   "metadata": {},
   "outputs": [
    {
     "name": "stdout",
     "output_type": "stream",
     "text": [
      "The female borrowers are: 79%\n",
      "The male borrowers are: 21%\n"
     ]
    }
   ],
   "source": [
    "female_borrowers = data.gender[data['gender'] == 'F'].count()\n",
    "male_borrowers = data.gender[data['gender'] == 'M'].count()\n",
    "total_borrowers = data.shape[0]\n",
    "print('The female borrowers are: {:.0%}'.format(female_borrowers /total_borrowers))\n",
    "print('The male borrowers are: {:.0%}'.format(male_borrowers /total_borrowers))"
   ]
  },
  {
   "cell_type": "markdown",
   "metadata": {},
   "source": [
    "##### Female borrowers, at 79% are more than male borrowers at 21%."
   ]
  },
  {
   "cell_type": "markdown",
   "metadata": {},
   "source": [
    "#### 2.In which sector are the female and male genders involved in respectively?"
   ]
  },
  {
   "cell_type": "markdown",
   "metadata": {},
   "source": [
    "###### My hypothesis is that most female are in the Agriculture sector, and male in the Transportation sector."
   ]
  },
  {
   "cell_type": "code",
   "execution_count": 95,
   "metadata": {},
   "outputs": [
    {
     "data": {
      "text/html": [
       "<div>\n",
       "<style scoped>\n",
       "    .dataframe tbody tr th:only-of-type {\n",
       "        vertical-align: middle;\n",
       "    }\n",
       "\n",
       "    .dataframe tbody tr th {\n",
       "        vertical-align: top;\n",
       "    }\n",
       "\n",
       "    .dataframe thead th {\n",
       "        text-align: right;\n",
       "    }\n",
       "</style>\n",
       "<table border=\"1\" class=\"dataframe\">\n",
       "  <thead>\n",
       "    <tr style=\"text-align: right;\">\n",
       "      <th></th>\n",
       "      <th>id</th>\n",
       "      <th>loan_amount</th>\n",
       "      <th>sector</th>\n",
       "      <th>country</th>\n",
       "      <th>term_in_months</th>\n",
       "      <th>repayment_interval</th>\n",
       "      <th>date</th>\n",
       "      <th>gender</th>\n",
       "    </tr>\n",
       "  </thead>\n",
       "  <tbody>\n",
       "    <tr>\n",
       "      <th>0</th>\n",
       "      <td>653051</td>\n",
       "      <td>300.0</td>\n",
       "      <td>Agriculture</td>\n",
       "      <td>Pakistan</td>\n",
       "      <td>12.0</td>\n",
       "      <td>irregular</td>\n",
       "      <td>2014-01-01</td>\n",
       "      <td>F</td>\n",
       "    </tr>\n",
       "    <tr>\n",
       "      <th>1</th>\n",
       "      <td>653053</td>\n",
       "      <td>575.0</td>\n",
       "      <td>Transportation</td>\n",
       "      <td>Pakistan</td>\n",
       "      <td>11.0</td>\n",
       "      <td>irregular</td>\n",
       "      <td>2014-01-01</td>\n",
       "      <td>F</td>\n",
       "    </tr>\n",
       "    <tr>\n",
       "      <th>2</th>\n",
       "      <td>653068</td>\n",
       "      <td>150.0</td>\n",
       "      <td>Transportation</td>\n",
       "      <td>India</td>\n",
       "      <td>43.0</td>\n",
       "      <td>daily</td>\n",
       "      <td>2014-01-01</td>\n",
       "      <td>F</td>\n",
       "    </tr>\n",
       "    <tr>\n",
       "      <th>3</th>\n",
       "      <td>653063</td>\n",
       "      <td>200.0</td>\n",
       "      <td>Arts</td>\n",
       "      <td>Pakistan</td>\n",
       "      <td>11.0</td>\n",
       "      <td>irregular</td>\n",
       "      <td>2014-01-01</td>\n",
       "      <td>F</td>\n",
       "    </tr>\n",
       "    <tr>\n",
       "      <th>4</th>\n",
       "      <td>653084</td>\n",
       "      <td>400.0</td>\n",
       "      <td>Agriculture</td>\n",
       "      <td>Pakistan</td>\n",
       "      <td>14.0</td>\n",
       "      <td>monthly</td>\n",
       "      <td>2014-01-01</td>\n",
       "      <td>F</td>\n",
       "    </tr>\n",
       "  </tbody>\n",
       "</table>\n",
       "</div>"
      ],
      "text/plain": [
       "       id  loan_amount          sector   country  term_in_months  \\\n",
       "0  653051        300.0     Agriculture  Pakistan            12.0   \n",
       "1  653053        575.0  Transportation  Pakistan            11.0   \n",
       "2  653068        150.0  Transportation     India            43.0   \n",
       "3  653063        200.0            Arts  Pakistan            11.0   \n",
       "4  653084        400.0     Agriculture  Pakistan            14.0   \n",
       "\n",
       "  repayment_interval       date gender  \n",
       "0          irregular 2014-01-01      F  \n",
       "1          irregular 2014-01-01      F  \n",
       "2              daily 2014-01-01      F  \n",
       "3          irregular 2014-01-01      F  \n",
       "4            monthly 2014-01-01      F  "
      ]
     },
     "execution_count": 95,
     "metadata": {},
     "output_type": "execute_result"
    }
   ],
   "source": [
    "female_data = data[data['gender'] == 'F']\n",
    "male_data = data[data['gender'] == 'M']\n",
    "female_data.head(5)\n",
    "#male_data.sample(10)"
   ]
  },
  {
   "cell_type": "code",
   "execution_count": 96,
   "metadata": {},
   "outputs": [
    {
     "data": {
      "text/plain": [
       "Agriculture       250078\n",
       "Retail            109244\n",
       "Services           34512\n",
       "Clothing           29752\n",
       "Personal Use       27580\n",
       "Housing            25177\n",
       "Education          19008\n",
       "Arts               10758\n",
       "Transportation      8521\n",
       "Health              6203\n",
       "Manufacturing       3799\n",
       "Construction        3047\n",
       "Entertainment        424\n",
       "Wholesale            358\n",
       "Name: sector, dtype: int64"
      ]
     },
     "execution_count": 96,
     "metadata": {},
     "output_type": "execute_result"
    }
   ],
   "source": [
    "female_data['sector'].value_counts()"
   ]
  },
  {
   "cell_type": "markdown",
   "metadata": {},
   "source": [
    "Most female borrowers are in the Agriculture sector."
   ]
  },
  {
   "cell_type": "code",
   "execution_count": 97,
   "metadata": {},
   "outputs": [
    {
     "name": "stdout",
     "output_type": "stream",
     "text": [
      "The sector with the most amount of loan borrowed: Agriculture\n",
      "The highest loan amount borrowed per sector:264674025\n"
     ]
    }
   ],
   "source": [
    "print('The sector with the most amount of loan borrowed:', data.groupby('sector')['loan_amount'].sum().idxmax())\n",
    "print('The highest loan amount borrowed per sector:{:.0f}'.format(data.groupby('sector')['loan_amount'].sum().max()))"
   ]
  },
  {
   "cell_type": "code",
   "execution_count": 98,
   "metadata": {},
   "outputs": [
    {
     "data": {
      "text/plain": [
       "Agriculture       66881\n",
       "Retail            15250\n",
       "Education         12005\n",
       "Services          10628\n",
       "Personal Use       8805\n",
       "Housing            8554\n",
       "Transportation     6997\n",
       "Construction       3221\n",
       "Health             3020\n",
       "Clothing           2990\n",
       "Manufacturing      2409\n",
       "Arts               1302\n",
       "Entertainment       406\n",
       "Wholesale           276\n",
       "Name: sector, dtype: int64"
      ]
     },
     "execution_count": 98,
     "metadata": {},
     "output_type": "execute_result"
    }
   ],
   "source": [
    "male_data['sector'].value_counts()"
   ]
  },
  {
   "cell_type": "markdown",
   "metadata": {},
   "source": [
    "Most male borrowers are also in the Agriculture sector."
   ]
  },
  {
   "cell_type": "markdown",
   "metadata": {},
   "source": [
    "##### Both male and female borrowers are in the agricultural sector."
   ]
  },
  {
   "cell_type": "markdown",
   "metadata": {},
   "source": [
    "#### 3. In which country do most borrowers come from?"
   ]
  },
  {
   "cell_type": "markdown",
   "metadata": {},
   "source": [
    "I will use the groupby() method to group my data by country,  and the agg() method to find the value counts in the female column."
   ]
  },
  {
   "cell_type": "code",
   "execution_count": 99,
   "metadata": {},
   "outputs": [
    {
     "data": {
      "text/html": [
       "<div>\n",
       "<style scoped>\n",
       "    .dataframe tbody tr th:only-of-type {\n",
       "        vertical-align: middle;\n",
       "    }\n",
       "\n",
       "    .dataframe tbody tr th {\n",
       "        vertical-align: top;\n",
       "    }\n",
       "\n",
       "    .dataframe thead tr th {\n",
       "        text-align: left;\n",
       "    }\n",
       "\n",
       "    .dataframe thead tr:last-of-type th {\n",
       "        text-align: right;\n",
       "    }\n",
       "</style>\n",
       "<table border=\"1\" class=\"dataframe\">\n",
       "  <thead>\n",
       "    <tr>\n",
       "      <th></th>\n",
       "      <th></th>\n",
       "      <th>gender</th>\n",
       "    </tr>\n",
       "    <tr>\n",
       "      <th></th>\n",
       "      <th></th>\n",
       "      <th>value_counts</th>\n",
       "    </tr>\n",
       "    <tr>\n",
       "      <th>country</th>\n",
       "      <th>gender</th>\n",
       "      <th></th>\n",
       "    </tr>\n",
       "  </thead>\n",
       "  <tbody>\n",
       "    <tr>\n",
       "      <th>Afghanistan</th>\n",
       "      <th>F</th>\n",
       "      <td>2</td>\n",
       "    </tr>\n",
       "    <tr>\n",
       "      <th rowspan=\"2\" valign=\"top\">Albania</th>\n",
       "      <th>F</th>\n",
       "      <td>1018</td>\n",
       "    </tr>\n",
       "    <tr>\n",
       "      <th>M</th>\n",
       "      <td>916</td>\n",
       "    </tr>\n",
       "    <tr>\n",
       "      <th rowspan=\"2\" valign=\"top\">Armenia</th>\n",
       "      <th>F</th>\n",
       "      <td>5383</td>\n",
       "    </tr>\n",
       "    <tr>\n",
       "      <th>M</th>\n",
       "      <td>3248</td>\n",
       "    </tr>\n",
       "  </tbody>\n",
       "</table>\n",
       "</div>"
      ],
      "text/plain": [
       "                         gender\n",
       "                   value_counts\n",
       "country     gender             \n",
       "Afghanistan F                 2\n",
       "Albania     F              1018\n",
       "            M               916\n",
       "Armenia     F              5383\n",
       "            M              3248"
      ]
     },
     "execution_count": 99,
     "metadata": {},
     "output_type": "execute_result"
    }
   ],
   "source": [
    "country_grouped = data.groupby('country').agg({'gender': ['value_counts']})\n",
    "country_grouped.head(5)"
   ]
  },
  {
   "cell_type": "code",
   "execution_count": 100,
   "metadata": {},
   "outputs": [
    {
     "data": {
      "text/plain": [
       "pandas.core.frame.DataFrame"
      ]
     },
     "execution_count": 100,
     "metadata": {},
     "output_type": "execute_result"
    }
   ],
   "source": [
    "type(country_grouped)"
   ]
  },
  {
   "cell_type": "code",
   "execution_count": 101,
   "metadata": {},
   "outputs": [
    {
     "name": "stdout",
     "output_type": "stream",
     "text": [
      "value_counts    (Bhutan, F)\n",
      "dtype: object value_counts    1\n",
      "dtype: int64\n"
     ]
    }
   ],
   "source": [
    "print(country_grouped['gender'].idxmin(), country_grouped['gender'].min())"
   ]
  },
  {
   "cell_type": "code",
   "execution_count": 102,
   "metadata": {},
   "outputs": [
    {
     "name": "stdout",
     "output_type": "stream",
     "text": [
      "value_counts    (Philippines, F)\n",
      "dtype: object value_counts    151984\n",
      "dtype: int64\n"
     ]
    }
   ],
   "source": [
    "print(country_grouped['gender'].idxmax(), country_grouped['gender'].max())"
   ]
  },
  {
   "cell_type": "markdown",
   "metadata": {},
   "source": [
    "##### The highest country borrrower is Phillipines. In Phillippines, the female gender borrows the most.\n",
    "##### The lowest country borrower is Bhutan. With one female borrower.\n",
    "\n",
    "Why Phillipines? Is Kiva a Phillipines' company? Have more financial campaigns been done in Phillipines?"
   ]
  },
  {
   "cell_type": "markdown",
   "metadata": {},
   "source": [
    "#### 4. How long have they borrowed?\n",
    "Which is the longest borrowing gender?\n",
    "Which is the longest borrowing country?"
   ]
  },
  {
   "cell_type": "code",
   "execution_count": 103,
   "metadata": {},
   "outputs": [
    {
     "data": {
      "text/plain": [
       "count    671205.000000\n",
       "mean         13.739022\n",
       "std           8.598919\n",
       "min           1.000000\n",
       "25%           8.000000\n",
       "50%          13.000000\n",
       "75%          14.000000\n",
       "max         158.000000\n",
       "Name: term_in_months, dtype: float64"
      ]
     },
     "execution_count": 103,
     "metadata": {},
     "output_type": "execute_result"
    }
   ],
   "source": [
    "data.term_in_months.sample(5)\n",
    "data.term_in_months.describe()"
   ]
  },
  {
   "cell_type": "markdown",
   "metadata": {},
   "source": [
    "The mean and the median are the same, so there are no outliers affecting the mean.\n",
    "\n",
    "Although the standard deviation is too high, this means that some values are too far from the mean."
   ]
  },
  {
   "cell_type": "markdown",
   "metadata": {},
   "source": [
    "I'll group by gender to find the maximum term in months for each gender."
   ]
  },
  {
   "cell_type": "code",
   "execution_count": 104,
   "metadata": {},
   "outputs": [
    {
     "name": "stdout",
     "output_type": "stream",
     "text": [
      "gender\n",
      "F    158.0\n",
      "M    154.0\n",
      "Name: term_in_months, dtype: float64\n"
     ]
    }
   ],
   "source": [
    "term_gender = data.groupby('gender')['term_in_months'].max()\n",
    "print(term_gender)"
   ]
  },
  {
   "cell_type": "markdown",
   "metadata": {},
   "source": [
    "Grouping by country and then sorting in descending order to find which country has the longest borrower."
   ]
  },
  {
   "cell_type": "code",
   "execution_count": 105,
   "metadata": {},
   "outputs": [
    {
     "name": "stdout",
     "output_type": "stream",
     "text": [
      "country\n",
      "Dominican Republic    158.0\n",
      "Mexico                144.0\n",
      "South Africa          141.0\n",
      "Kenya                 122.0\n",
      "Cambodia              120.0\n",
      "                      ...  \n",
      "Lesotho                12.0\n",
      "Cote D'Ivoire          10.0\n",
      "Congo                   8.0\n",
      "Afghanistan             8.0\n",
      "Namibia                 7.0\n",
      "Name: term_in_months, Length: 87, dtype: float64\n"
     ]
    }
   ],
   "source": [
    "term_country = data.groupby('country')['term_in_months'].max()\n",
    "print(term_country.sort_values(ascending=False))"
   ]
  },
  {
   "cell_type": "markdown",
   "metadata": {},
   "source": [
    "I will access the row with full details of the borrower with the longest and shortest term, using the .loc() access method"
   ]
  },
  {
   "cell_type": "code",
   "execution_count": 106,
   "metadata": {},
   "outputs": [
    {
     "data": {
      "text/html": [
       "<div>\n",
       "<style scoped>\n",
       "    .dataframe tbody tr th:only-of-type {\n",
       "        vertical-align: middle;\n",
       "    }\n",
       "\n",
       "    .dataframe tbody tr th {\n",
       "        vertical-align: top;\n",
       "    }\n",
       "\n",
       "    .dataframe thead th {\n",
       "        text-align: right;\n",
       "    }\n",
       "</style>\n",
       "<table border=\"1\" class=\"dataframe\">\n",
       "  <thead>\n",
       "    <tr style=\"text-align: right;\">\n",
       "      <th></th>\n",
       "      <th>id</th>\n",
       "      <th>loan_amount</th>\n",
       "      <th>sector</th>\n",
       "      <th>country</th>\n",
       "      <th>term_in_months</th>\n",
       "      <th>repayment_interval</th>\n",
       "      <th>date</th>\n",
       "      <th>gender</th>\n",
       "    </tr>\n",
       "  </thead>\n",
       "  <tbody>\n",
       "    <tr>\n",
       "      <th>215863</th>\n",
       "      <td>863993</td>\n",
       "      <td>6725.0</td>\n",
       "      <td>Education</td>\n",
       "      <td>Dominican Republic</td>\n",
       "      <td>158.0</td>\n",
       "      <td>irregular</td>\n",
       "      <td>2015-03-30</td>\n",
       "      <td>F</td>\n",
       "    </tr>\n",
       "  </tbody>\n",
       "</table>\n",
       "</div>"
      ],
      "text/plain": [
       "            id  loan_amount     sector             country  term_in_months  \\\n",
       "215863  863993       6725.0  Education  Dominican Republic           158.0   \n",
       "\n",
       "       repayment_interval       date gender  \n",
       "215863          irregular 2015-03-30      F  "
      ]
     },
     "execution_count": 106,
     "metadata": {},
     "output_type": "execute_result"
    }
   ],
   "source": [
    "(data.loc[data['term_in_months'] == 158])"
   ]
  },
  {
   "cell_type": "code",
   "execution_count": 107,
   "metadata": {
    "scrolled": true
   },
   "outputs": [
    {
     "data": {
      "text/html": [
       "<div>\n",
       "<style scoped>\n",
       "    .dataframe tbody tr th:only-of-type {\n",
       "        vertical-align: middle;\n",
       "    }\n",
       "\n",
       "    .dataframe tbody tr th {\n",
       "        vertical-align: top;\n",
       "    }\n",
       "\n",
       "    .dataframe thead th {\n",
       "        text-align: right;\n",
       "    }\n",
       "</style>\n",
       "<table border=\"1\" class=\"dataframe\">\n",
       "  <thead>\n",
       "    <tr style=\"text-align: right;\">\n",
       "      <th></th>\n",
       "      <th>id</th>\n",
       "      <th>loan_amount</th>\n",
       "      <th>sector</th>\n",
       "      <th>country</th>\n",
       "      <th>term_in_months</th>\n",
       "      <th>repayment_interval</th>\n",
       "      <th>date</th>\n",
       "      <th>gender</th>\n",
       "    </tr>\n",
       "  </thead>\n",
       "  <tbody>\n",
       "    <tr>\n",
       "      <th>1877</th>\n",
       "      <td>1080189</td>\n",
       "      <td>125.0</td>\n",
       "      <td>Services</td>\n",
       "      <td>Kenya</td>\n",
       "      <td>1.0</td>\n",
       "      <td>irregular</td>\n",
       "      <td>2014-01-08</td>\n",
       "      <td>M</td>\n",
       "    </tr>\n",
       "    <tr>\n",
       "      <th>2915</th>\n",
       "      <td>1080219</td>\n",
       "      <td>250.0</td>\n",
       "      <td>Clothing</td>\n",
       "      <td>Kenya</td>\n",
       "      <td>1.0</td>\n",
       "      <td>irregular</td>\n",
       "      <td>2014-01-10</td>\n",
       "      <td>F</td>\n",
       "    </tr>\n",
       "    <tr>\n",
       "      <th>4277</th>\n",
       "      <td>1080268</td>\n",
       "      <td>125.0</td>\n",
       "      <td>Agriculture</td>\n",
       "      <td>Kenya</td>\n",
       "      <td>1.0</td>\n",
       "      <td>irregular</td>\n",
       "      <td>2014-01-15</td>\n",
       "      <td>M</td>\n",
       "    </tr>\n",
       "    <tr>\n",
       "      <th>6772</th>\n",
       "      <td>1080311</td>\n",
       "      <td>125.0</td>\n",
       "      <td>Clothing</td>\n",
       "      <td>Kenya</td>\n",
       "      <td>1.0</td>\n",
       "      <td>irregular</td>\n",
       "      <td>2014-01-21</td>\n",
       "      <td>F</td>\n",
       "    </tr>\n",
       "    <tr>\n",
       "      <th>7851</th>\n",
       "      <td>1080328</td>\n",
       "      <td>125.0</td>\n",
       "      <td>Services</td>\n",
       "      <td>Kenya</td>\n",
       "      <td>1.0</td>\n",
       "      <td>weekly</td>\n",
       "      <td>2014-01-23</td>\n",
       "      <td>M</td>\n",
       "    </tr>\n",
       "    <tr>\n",
       "      <th>10478</th>\n",
       "      <td>1080374</td>\n",
       "      <td>125.0</td>\n",
       "      <td>Clothing</td>\n",
       "      <td>Kenya</td>\n",
       "      <td>1.0</td>\n",
       "      <td>irregular</td>\n",
       "      <td>2014-01-29</td>\n",
       "      <td>F</td>\n",
       "    </tr>\n",
       "    <tr>\n",
       "      <th>11319</th>\n",
       "      <td>1080391</td>\n",
       "      <td>250.0</td>\n",
       "      <td>Transportation</td>\n",
       "      <td>Kenya</td>\n",
       "      <td>1.0</td>\n",
       "      <td>irregular</td>\n",
       "      <td>2014-01-31</td>\n",
       "      <td>F</td>\n",
       "    </tr>\n",
       "    <tr>\n",
       "      <th>11410</th>\n",
       "      <td>1080393</td>\n",
       "      <td>250.0</td>\n",
       "      <td>Retail</td>\n",
       "      <td>Kenya</td>\n",
       "      <td>1.0</td>\n",
       "      <td>irregular</td>\n",
       "      <td>2014-01-31</td>\n",
       "      <td>F</td>\n",
       "    </tr>\n",
       "    <tr>\n",
       "      <th>11488</th>\n",
       "      <td>1080392</td>\n",
       "      <td>250.0</td>\n",
       "      <td>Agriculture</td>\n",
       "      <td>Kenya</td>\n",
       "      <td>1.0</td>\n",
       "      <td>irregular</td>\n",
       "      <td>2014-01-31</td>\n",
       "      <td>F</td>\n",
       "    </tr>\n",
       "    <tr>\n",
       "      <th>11599</th>\n",
       "      <td>1080394</td>\n",
       "      <td>250.0</td>\n",
       "      <td>Agriculture</td>\n",
       "      <td>Kenya</td>\n",
       "      <td>1.0</td>\n",
       "      <td>irregular</td>\n",
       "      <td>2014-01-31</td>\n",
       "      <td>F</td>\n",
       "    </tr>\n",
       "    <tr>\n",
       "      <th>11617</th>\n",
       "      <td>1080388</td>\n",
       "      <td>250.0</td>\n",
       "      <td>Services</td>\n",
       "      <td>Kenya</td>\n",
       "      <td>1.0</td>\n",
       "      <td>irregular</td>\n",
       "      <td>2014-01-31</td>\n",
       "      <td>M</td>\n",
       "    </tr>\n",
       "    <tr>\n",
       "      <th>11800</th>\n",
       "      <td>1080405</td>\n",
       "      <td>250.0</td>\n",
       "      <td>Services</td>\n",
       "      <td>Kenya</td>\n",
       "      <td>1.0</td>\n",
       "      <td>irregular</td>\n",
       "      <td>2014-02-02</td>\n",
       "      <td>F</td>\n",
       "    </tr>\n",
       "    <tr>\n",
       "      <th>11803</th>\n",
       "      <td>1080404</td>\n",
       "      <td>250.0</td>\n",
       "      <td>Retail</td>\n",
       "      <td>Kenya</td>\n",
       "      <td>1.0</td>\n",
       "      <td>irregular</td>\n",
       "      <td>2014-02-02</td>\n",
       "      <td>F</td>\n",
       "    </tr>\n",
       "    <tr>\n",
       "      <th>12178</th>\n",
       "      <td>1080420</td>\n",
       "      <td>250.0</td>\n",
       "      <td>Retail</td>\n",
       "      <td>Kenya</td>\n",
       "      <td>1.0</td>\n",
       "      <td>irregular</td>\n",
       "      <td>2014-02-03</td>\n",
       "      <td>F</td>\n",
       "    </tr>\n",
       "    <tr>\n",
       "      <th>12453</th>\n",
       "      <td>1080434</td>\n",
       "      <td>250.0</td>\n",
       "      <td>Clothing</td>\n",
       "      <td>Kenya</td>\n",
       "      <td>1.0</td>\n",
       "      <td>irregular</td>\n",
       "      <td>2014-02-04</td>\n",
       "      <td>F</td>\n",
       "    </tr>\n",
       "    <tr>\n",
       "      <th>14310</th>\n",
       "      <td>1080473</td>\n",
       "      <td>125.0</td>\n",
       "      <td>Retail</td>\n",
       "      <td>Kenya</td>\n",
       "      <td>1.0</td>\n",
       "      <td>irregular</td>\n",
       "      <td>2014-02-09</td>\n",
       "      <td>F</td>\n",
       "    </tr>\n",
       "    <tr>\n",
       "      <th>15542</th>\n",
       "      <td>1080489</td>\n",
       "      <td>125.0</td>\n",
       "      <td>Clothing</td>\n",
       "      <td>Kenya</td>\n",
       "      <td>1.0</td>\n",
       "      <td>irregular</td>\n",
       "      <td>2014-02-11</td>\n",
       "      <td>F</td>\n",
       "    </tr>\n",
       "    <tr>\n",
       "      <th>29016</th>\n",
       "      <td>1080675</td>\n",
       "      <td>250.0</td>\n",
       "      <td>Retail</td>\n",
       "      <td>Kenya</td>\n",
       "      <td>1.0</td>\n",
       "      <td>irregular</td>\n",
       "      <td>2014-03-11</td>\n",
       "      <td>F</td>\n",
       "    </tr>\n",
       "    <tr>\n",
       "      <th>29789</th>\n",
       "      <td>1080683</td>\n",
       "      <td>250.0</td>\n",
       "      <td>Clothing</td>\n",
       "      <td>Kenya</td>\n",
       "      <td>1.0</td>\n",
       "      <td>irregular</td>\n",
       "      <td>2014-03-12</td>\n",
       "      <td>F</td>\n",
       "    </tr>\n",
       "    <tr>\n",
       "      <th>39694</th>\n",
       "      <td>1080894</td>\n",
       "      <td>250.0</td>\n",
       "      <td>Construction</td>\n",
       "      <td>Kenya</td>\n",
       "      <td>1.0</td>\n",
       "      <td>irregular</td>\n",
       "      <td>2014-04-02</td>\n",
       "      <td>F</td>\n",
       "    </tr>\n",
       "    <tr>\n",
       "      <th>45830</th>\n",
       "      <td>1081076</td>\n",
       "      <td>125.0</td>\n",
       "      <td>Clothing</td>\n",
       "      <td>Kenya</td>\n",
       "      <td>1.0</td>\n",
       "      <td>irregular</td>\n",
       "      <td>2014-04-16</td>\n",
       "      <td>F</td>\n",
       "    </tr>\n",
       "    <tr>\n",
       "      <th>45986</th>\n",
       "      <td>1081078</td>\n",
       "      <td>125.0</td>\n",
       "      <td>Retail</td>\n",
       "      <td>Kenya</td>\n",
       "      <td>1.0</td>\n",
       "      <td>irregular</td>\n",
       "      <td>2014-04-16</td>\n",
       "      <td>F</td>\n",
       "    </tr>\n",
       "    <tr>\n",
       "      <th>48474</th>\n",
       "      <td>1081137</td>\n",
       "      <td>250.0</td>\n",
       "      <td>Agriculture</td>\n",
       "      <td>Kenya</td>\n",
       "      <td>1.0</td>\n",
       "      <td>irregular</td>\n",
       "      <td>2014-04-23</td>\n",
       "      <td>M</td>\n",
       "    </tr>\n",
       "    <tr>\n",
       "      <th>49396</th>\n",
       "      <td>1081156</td>\n",
       "      <td>250.0</td>\n",
       "      <td>Clothing</td>\n",
       "      <td>Kenya</td>\n",
       "      <td>1.0</td>\n",
       "      <td>irregular</td>\n",
       "      <td>2014-04-24</td>\n",
       "      <td>F</td>\n",
       "    </tr>\n",
       "    <tr>\n",
       "      <th>53098</th>\n",
       "      <td>1081263</td>\n",
       "      <td>125.0</td>\n",
       "      <td>Agriculture</td>\n",
       "      <td>Kenya</td>\n",
       "      <td>1.0</td>\n",
       "      <td>weekly</td>\n",
       "      <td>2014-05-03</td>\n",
       "      <td>F</td>\n",
       "    </tr>\n",
       "    <tr>\n",
       "      <th>81739</th>\n",
       "      <td>1082038</td>\n",
       "      <td>250.0</td>\n",
       "      <td>Transportation</td>\n",
       "      <td>Kenya</td>\n",
       "      <td>1.0</td>\n",
       "      <td>irregular</td>\n",
       "      <td>2014-07-02</td>\n",
       "      <td>F</td>\n",
       "    </tr>\n",
       "    <tr>\n",
       "      <th>82547</th>\n",
       "      <td>1082049</td>\n",
       "      <td>250.0</td>\n",
       "      <td>Agriculture</td>\n",
       "      <td>Kenya</td>\n",
       "      <td>1.0</td>\n",
       "      <td>irregular</td>\n",
       "      <td>2014-07-03</td>\n",
       "      <td>F</td>\n",
       "    </tr>\n",
       "    <tr>\n",
       "      <th>121850</th>\n",
       "      <td>1083671</td>\n",
       "      <td>100.0</td>\n",
       "      <td>Agriculture</td>\n",
       "      <td>Kenya</td>\n",
       "      <td>1.0</td>\n",
       "      <td>irregular</td>\n",
       "      <td>2014-09-22</td>\n",
       "      <td>F</td>\n",
       "    </tr>\n",
       "    <tr>\n",
       "      <th>196159</th>\n",
       "      <td>1087579</td>\n",
       "      <td>75.0</td>\n",
       "      <td>Agriculture</td>\n",
       "      <td>Kenya</td>\n",
       "      <td>1.0</td>\n",
       "      <td>irregular</td>\n",
       "      <td>2015-02-20</td>\n",
       "      <td>F</td>\n",
       "    </tr>\n",
       "    <tr>\n",
       "      <th>199098</th>\n",
       "      <td>1087727</td>\n",
       "      <td>75.0</td>\n",
       "      <td>Agriculture</td>\n",
       "      <td>Kenya</td>\n",
       "      <td>1.0</td>\n",
       "      <td>irregular</td>\n",
       "      <td>2015-02-26</td>\n",
       "      <td>F</td>\n",
       "    </tr>\n",
       "    <tr>\n",
       "      <th>208871</th>\n",
       "      <td>1088074</td>\n",
       "      <td>75.0</td>\n",
       "      <td>Agriculture</td>\n",
       "      <td>Kenya</td>\n",
       "      <td>1.0</td>\n",
       "      <td>irregular</td>\n",
       "      <td>2015-03-17</td>\n",
       "      <td>F</td>\n",
       "    </tr>\n",
       "  </tbody>\n",
       "</table>\n",
       "</div>"
      ],
      "text/plain": [
       "             id  loan_amount          sector country  term_in_months  \\\n",
       "1877    1080189        125.0        Services   Kenya             1.0   \n",
       "2915    1080219        250.0        Clothing   Kenya             1.0   \n",
       "4277    1080268        125.0     Agriculture   Kenya             1.0   \n",
       "6772    1080311        125.0        Clothing   Kenya             1.0   \n",
       "7851    1080328        125.0        Services   Kenya             1.0   \n",
       "10478   1080374        125.0        Clothing   Kenya             1.0   \n",
       "11319   1080391        250.0  Transportation   Kenya             1.0   \n",
       "11410   1080393        250.0          Retail   Kenya             1.0   \n",
       "11488   1080392        250.0     Agriculture   Kenya             1.0   \n",
       "11599   1080394        250.0     Agriculture   Kenya             1.0   \n",
       "11617   1080388        250.0        Services   Kenya             1.0   \n",
       "11800   1080405        250.0        Services   Kenya             1.0   \n",
       "11803   1080404        250.0          Retail   Kenya             1.0   \n",
       "12178   1080420        250.0          Retail   Kenya             1.0   \n",
       "12453   1080434        250.0        Clothing   Kenya             1.0   \n",
       "14310   1080473        125.0          Retail   Kenya             1.0   \n",
       "15542   1080489        125.0        Clothing   Kenya             1.0   \n",
       "29016   1080675        250.0          Retail   Kenya             1.0   \n",
       "29789   1080683        250.0        Clothing   Kenya             1.0   \n",
       "39694   1080894        250.0    Construction   Kenya             1.0   \n",
       "45830   1081076        125.0        Clothing   Kenya             1.0   \n",
       "45986   1081078        125.0          Retail   Kenya             1.0   \n",
       "48474   1081137        250.0     Agriculture   Kenya             1.0   \n",
       "49396   1081156        250.0        Clothing   Kenya             1.0   \n",
       "53098   1081263        125.0     Agriculture   Kenya             1.0   \n",
       "81739   1082038        250.0  Transportation   Kenya             1.0   \n",
       "82547   1082049        250.0     Agriculture   Kenya             1.0   \n",
       "121850  1083671        100.0     Agriculture   Kenya             1.0   \n",
       "196159  1087579         75.0     Agriculture   Kenya             1.0   \n",
       "199098  1087727         75.0     Agriculture   Kenya             1.0   \n",
       "208871  1088074         75.0     Agriculture   Kenya             1.0   \n",
       "\n",
       "       repayment_interval       date gender  \n",
       "1877            irregular 2014-01-08      M  \n",
       "2915            irregular 2014-01-10      F  \n",
       "4277            irregular 2014-01-15      M  \n",
       "6772            irregular 2014-01-21      F  \n",
       "7851               weekly 2014-01-23      M  \n",
       "10478           irregular 2014-01-29      F  \n",
       "11319           irregular 2014-01-31      F  \n",
       "11410           irregular 2014-01-31      F  \n",
       "11488           irregular 2014-01-31      F  \n",
       "11599           irregular 2014-01-31      F  \n",
       "11617           irregular 2014-01-31      M  \n",
       "11800           irregular 2014-02-02      F  \n",
       "11803           irregular 2014-02-02      F  \n",
       "12178           irregular 2014-02-03      F  \n",
       "12453           irregular 2014-02-04      F  \n",
       "14310           irregular 2014-02-09      F  \n",
       "15542           irregular 2014-02-11      F  \n",
       "29016           irregular 2014-03-11      F  \n",
       "29789           irregular 2014-03-12      F  \n",
       "39694           irregular 2014-04-02      F  \n",
       "45830           irregular 2014-04-16      F  \n",
       "45986           irregular 2014-04-16      F  \n",
       "48474           irregular 2014-04-23      M  \n",
       "49396           irregular 2014-04-24      F  \n",
       "53098              weekly 2014-05-03      F  \n",
       "81739           irregular 2014-07-02      F  \n",
       "82547           irregular 2014-07-03      F  \n",
       "121850          irregular 2014-09-22      F  \n",
       "196159          irregular 2015-02-20      F  \n",
       "199098          irregular 2015-02-26      F  \n",
       "208871          irregular 2015-03-17      F  "
      ]
     },
     "execution_count": 107,
     "metadata": {},
     "output_type": "execute_result"
    }
   ],
   "source": [
    "data.loc[data['term_in_months']== 1]"
   ]
  },
  {
   "cell_type": "markdown",
   "metadata": {},
   "source": [
    "###### I have discovered that the Dominican Republic hosts the longest borrower, while Kenya hosts the shortest borrowers!\n",
    "\n",
    "###### This could be most likely that Kiva started its operations earlier in Dominican Republic than in Kenya.\n",
    "\n",
    "Or that the borrower with the longest term is an outlier. Let's find out."
   ]
  },
  {
   "cell_type": "markdown",
   "metadata": {},
   "source": [
    "I'll slice my data set to find out how many customers have been borrowers for more than 5 years i.e 60 months."
   ]
  },
  {
   "cell_type": "code",
   "execution_count": 108,
   "metadata": {},
   "outputs": [
    {
     "name": "stdout",
     "output_type": "stream",
     "text": [
      "3382\n"
     ]
    }
   ],
   "source": [
    "long = data[data['term_in_months'] >60]\n",
    "print(long['term_in_months'].count())"
   ]
  },
  {
   "cell_type": "markdown",
   "metadata": {},
   "source": [
    "Well, only 3000 out of 660000 customers have borrowed for more than 5 years. Seems insignificant enough that i might do away with them...\n",
    "\n",
    "I'll visulaize first to see how they affect histograms and other distribution curves."
   ]
  },
  {
   "cell_type": "markdown",
   "metadata": {},
   "source": [
    "#### 5. At what intervals do they pay?\n",
    "    How do they pay? Poverty levels? -repayment intervals"
   ]
  },
  {
   "cell_type": "code",
   "execution_count": 109,
   "metadata": {},
   "outputs": [
    {
     "data": {
      "text/plain": [
       "monthly      342717\n",
       "irregular    257158\n",
       "daily         70728\n",
       "weekly          602\n",
       "Name: repayment_interval, dtype: int64"
      ]
     },
     "execution_count": 109,
     "metadata": {},
     "output_type": "execute_result"
    }
   ],
   "source": [
    "data['repayment_interval'].value_counts()"
   ]
  },
  {
   "cell_type": "code",
   "execution_count": 110,
   "metadata": {},
   "outputs": [
    {
     "name": "stdout",
     "output_type": "stream",
     "text": [
      "monthly 342717\n"
     ]
    }
   ],
   "source": [
    "print(data['repayment_interval'].value_counts().idxmax(), data['repayment_interval'].value_counts().max())"
   ]
  },
  {
   "cell_type": "markdown",
   "metadata": {},
   "source": [
    "Monthly repayments are the highest, closely followed by irregular payments."
   ]
  },
  {
   "cell_type": "markdown",
   "metadata": {},
   "source": [
    "Create a pivot table to find the count of repayment intervals by grouping by sector, using the loan amount values."
   ]
  },
  {
   "cell_type": "code",
   "execution_count": 111,
   "metadata": {},
   "outputs": [
    {
     "data": {
      "text/html": [
       "<div>\n",
       "<style scoped>\n",
       "    .dataframe tbody tr th:only-of-type {\n",
       "        vertical-align: middle;\n",
       "    }\n",
       "\n",
       "    .dataframe tbody tr th {\n",
       "        vertical-align: top;\n",
       "    }\n",
       "\n",
       "    .dataframe thead th {\n",
       "        text-align: right;\n",
       "    }\n",
       "</style>\n",
       "<table border=\"1\" class=\"dataframe\">\n",
       "  <thead>\n",
       "    <tr style=\"text-align: right;\">\n",
       "      <th></th>\n",
       "      <th>daily</th>\n",
       "      <th>irregular</th>\n",
       "      <th>monthly</th>\n",
       "      <th>weekly</th>\n",
       "    </tr>\n",
       "    <tr>\n",
       "      <th>sector</th>\n",
       "      <th></th>\n",
       "      <th></th>\n",
       "      <th></th>\n",
       "      <th></th>\n",
       "    </tr>\n",
       "  </thead>\n",
       "  <tbody>\n",
       "    <tr>\n",
       "      <th>Agriculture</th>\n",
       "      <td>48570.0</td>\n",
       "      <td>123438.0</td>\n",
       "      <td>144815.0</td>\n",
       "      <td>136.0</td>\n",
       "    </tr>\n",
       "    <tr>\n",
       "      <th>Retail</th>\n",
       "      <td>4940.0</td>\n",
       "      <td>73646.0</td>\n",
       "      <td>45784.0</td>\n",
       "      <td>124.0</td>\n",
       "    </tr>\n",
       "    <tr>\n",
       "      <th>Personal Use</th>\n",
       "      <td>4791.0</td>\n",
       "      <td>4083.0</td>\n",
       "      <td>27511.0</td>\n",
       "      <td>0.0</td>\n",
       "    </tr>\n",
       "    <tr>\n",
       "      <th>Services</th>\n",
       "      <td>5083.0</td>\n",
       "      <td>12552.0</td>\n",
       "      <td>27352.0</td>\n",
       "      <td>153.0</td>\n",
       "    </tr>\n",
       "    <tr>\n",
       "      <th>Housing</th>\n",
       "      <td>880.0</td>\n",
       "      <td>8451.0</td>\n",
       "      <td>24400.0</td>\n",
       "      <td>0.0</td>\n",
       "    </tr>\n",
       "    <tr>\n",
       "      <th>Education</th>\n",
       "      <td>2437.0</td>\n",
       "      <td>4351.0</td>\n",
       "      <td>24225.0</td>\n",
       "      <td>0.0</td>\n",
       "    </tr>\n",
       "    <tr>\n",
       "      <th>Clothing</th>\n",
       "      <td>1048.0</td>\n",
       "      <td>13559.0</td>\n",
       "      <td>17997.0</td>\n",
       "      <td>138.0</td>\n",
       "    </tr>\n",
       "    <tr>\n",
       "      <th>Transportation</th>\n",
       "      <td>410.0</td>\n",
       "      <td>6405.0</td>\n",
       "      <td>8691.0</td>\n",
       "      <td>12.0</td>\n",
       "    </tr>\n",
       "    <tr>\n",
       "      <th>Health</th>\n",
       "      <td>138.0</td>\n",
       "      <td>1659.0</td>\n",
       "      <td>7413.0</td>\n",
       "      <td>13.0</td>\n",
       "    </tr>\n",
       "    <tr>\n",
       "      <th>Arts</th>\n",
       "      <td>1475.0</td>\n",
       "      <td>4636.0</td>\n",
       "      <td>5934.0</td>\n",
       "      <td>15.0</td>\n",
       "    </tr>\n",
       "    <tr>\n",
       "      <th>Construction</th>\n",
       "      <td>294.0</td>\n",
       "      <td>1549.0</td>\n",
       "      <td>4414.0</td>\n",
       "      <td>11.0</td>\n",
       "    </tr>\n",
       "    <tr>\n",
       "      <th>Manufacturing</th>\n",
       "      <td>451.0</td>\n",
       "      <td>2439.0</td>\n",
       "      <td>3318.0</td>\n",
       "      <td>0.0</td>\n",
       "    </tr>\n",
       "    <tr>\n",
       "      <th>Entertainment</th>\n",
       "      <td>155.0</td>\n",
       "      <td>226.0</td>\n",
       "      <td>449.0</td>\n",
       "      <td>0.0</td>\n",
       "    </tr>\n",
       "    <tr>\n",
       "      <th>Wholesale</th>\n",
       "      <td>56.0</td>\n",
       "      <td>164.0</td>\n",
       "      <td>414.0</td>\n",
       "      <td>0.0</td>\n",
       "    </tr>\n",
       "  </tbody>\n",
       "</table>\n",
       "</div>"
      ],
      "text/plain": [
       "                  daily  irregular   monthly  weekly\n",
       "sector                                              \n",
       "Agriculture     48570.0   123438.0  144815.0   136.0\n",
       "Retail           4940.0    73646.0   45784.0   124.0\n",
       "Personal Use     4791.0     4083.0   27511.0     0.0\n",
       "Services         5083.0    12552.0   27352.0   153.0\n",
       "Housing           880.0     8451.0   24400.0     0.0\n",
       "Education        2437.0     4351.0   24225.0     0.0\n",
       "Clothing         1048.0    13559.0   17997.0   138.0\n",
       "Transportation    410.0     6405.0    8691.0    12.0\n",
       "Health            138.0     1659.0    7413.0    13.0\n",
       "Arts             1475.0     4636.0    5934.0    15.0\n",
       "Construction      294.0     1549.0    4414.0    11.0\n",
       "Manufacturing     451.0     2439.0    3318.0     0.0\n",
       "Entertainment     155.0      226.0     449.0     0.0\n",
       "Wholesale          56.0      164.0     414.0     0.0"
      ]
     },
     "execution_count": 111,
     "metadata": {},
     "output_type": "execute_result"
    }
   ],
   "source": [
    "repayment_sector = data.pivot_table(index='sector', values='loan_amount',columns='repayment_interval', aggfunc=['count'])\n",
    "\n",
    "repayment_sector.columns = ['daily', 'irregular', 'monthly', 'weekly']\n",
    "repayment_sector.fillna(value=0, inplace=True)\n",
    "repayment_sector.sort_values(by='monthly', ascending=False)"
   ]
  },
  {
   "cell_type": "markdown",
   "metadata": {},
   "source": [
    "Since most repayment intervals in general are done monthly, I have decided to sort the values by the monthly column.\n",
    "I can deduce that Agriculture, Retail and Personal Use are the top three sectors in the monthly repayment interval.\n",
    "This could mean that these sectors have a return period of a month."
   ]
  },
  {
   "cell_type": "code",
   "execution_count": 112,
   "metadata": {},
   "outputs": [
    {
     "data": {
      "text/plain": [
       "('Philippines', 'irregular')"
      ]
     },
     "execution_count": 112,
     "metadata": {},
     "output_type": "execute_result"
    }
   ],
   "source": [
    "data.groupby('country')['repayment_interval'].value_counts().idxmax()"
   ]
  },
  {
   "cell_type": "code",
   "execution_count": 113,
   "metadata": {},
   "outputs": [
    {
     "data": {
      "text/html": [
       "<div>\n",
       "<style scoped>\n",
       "    .dataframe tbody tr th:only-of-type {\n",
       "        vertical-align: middle;\n",
       "    }\n",
       "\n",
       "    .dataframe tbody tr th {\n",
       "        vertical-align: top;\n",
       "    }\n",
       "\n",
       "    .dataframe thead th {\n",
       "        text-align: right;\n",
       "    }\n",
       "</style>\n",
       "<table border=\"1\" class=\"dataframe\">\n",
       "  <thead>\n",
       "    <tr style=\"text-align: right;\">\n",
       "      <th></th>\n",
       "      <th>daily</th>\n",
       "      <th>irregular</th>\n",
       "      <th>monthly</th>\n",
       "      <th>weekly</th>\n",
       "    </tr>\n",
       "    <tr>\n",
       "      <th>country</th>\n",
       "      <th></th>\n",
       "      <th></th>\n",
       "      <th></th>\n",
       "      <th></th>\n",
       "    </tr>\n",
       "  </thead>\n",
       "  <tbody>\n",
       "    <tr>\n",
       "      <th>Afghanistan</th>\n",
       "      <td>2.0</td>\n",
       "      <td>0.0</td>\n",
       "      <td>0.0</td>\n",
       "      <td>0.0</td>\n",
       "    </tr>\n",
       "    <tr>\n",
       "      <th>Albania</th>\n",
       "      <td>23.0</td>\n",
       "      <td>26.0</td>\n",
       "      <td>1885.0</td>\n",
       "      <td>0.0</td>\n",
       "    </tr>\n",
       "    <tr>\n",
       "      <th>Armenia</th>\n",
       "      <td>43.0</td>\n",
       "      <td>170.0</td>\n",
       "      <td>8418.0</td>\n",
       "      <td>0.0</td>\n",
       "    </tr>\n",
       "    <tr>\n",
       "      <th>Azerbaijan</th>\n",
       "      <td>0.0</td>\n",
       "      <td>12.0</td>\n",
       "      <td>1933.0</td>\n",
       "      <td>0.0</td>\n",
       "    </tr>\n",
       "    <tr>\n",
       "      <th>Belize</th>\n",
       "      <td>0.0</td>\n",
       "      <td>0.0</td>\n",
       "      <td>125.0</td>\n",
       "      <td>0.0</td>\n",
       "    </tr>\n",
       "  </tbody>\n",
       "</table>\n",
       "</div>"
      ],
      "text/plain": [
       "             daily  irregular  monthly  weekly\n",
       "country                                       \n",
       "Afghanistan    2.0        0.0      0.0     0.0\n",
       "Albania       23.0       26.0   1885.0     0.0\n",
       "Armenia       43.0      170.0   8418.0     0.0\n",
       "Azerbaijan     0.0       12.0   1933.0     0.0\n",
       "Belize         0.0        0.0    125.0     0.0"
      ]
     },
     "execution_count": 113,
     "metadata": {},
     "output_type": "execute_result"
    }
   ],
   "source": [
    "repayment_country = data.pivot_table(index='country', values='loan_amount',columns='repayment_interval', aggfunc=['count'])\n",
    "repayment_country[repayment_country.index == 'Philippines']\n",
    "repayment_country.columns = ['daily', 'irregular', 'monthly', 'weekly']\n",
    "repayment_country.fillna(value=0, inplace=True)\n",
    "repayment_country.head()"
   ]
  },
  {
   "cell_type": "markdown",
   "metadata": {},
   "source": [
    "Let's look at each sorted repayment_interval category, and identify countries that are in the top5."
   ]
  },
  {
   "cell_type": "code",
   "execution_count": 114,
   "metadata": {
    "scrolled": true
   },
   "outputs": [
    {
     "name": "stdout",
     "output_type": "stream",
     "text": [
      "country\n",
      "Colombia       13785.0\n",
      "Nigeria        10135.0\n",
      "Kenya           9567.0\n",
      "El Salvador     8185.0\n",
      "India           6575.0\n",
      "Name: daily, dtype: float64\n"
     ]
    }
   ],
   "source": [
    "print(repayment_country['daily'].sort_values(ascending=False).head())"
   ]
  },
  {
   "cell_type": "code",
   "execution_count": 115,
   "metadata": {},
   "outputs": [
    {
     "data": {
      "text/plain": [
       "country\n",
       "Kenya       602.0\n",
       "Zimbabwe      0.0\n",
       "Iraq          0.0\n",
       "Georgia       0.0\n",
       "Ghana         0.0\n",
       "Name: weekly, dtype: float64"
      ]
     },
     "execution_count": 115,
     "metadata": {},
     "output_type": "execute_result"
    }
   ],
   "source": [
    "repayment_country['weekly'].sort_values(ascending=False).head()"
   ]
  },
  {
   "cell_type": "code",
   "execution_count": 116,
   "metadata": {},
   "outputs": [
    {
     "data": {
      "text/plain": [
       "country\n",
       "Kenya          46230.0\n",
       "Cambodia       34406.0\n",
       "El Salvador    29764.0\n",
       "Pakistan       20556.0\n",
       "Tajikistan     19417.0\n",
       "Name: monthly, dtype: float64"
      ]
     },
     "execution_count": 116,
     "metadata": {},
     "output_type": "execute_result"
    }
   ],
   "source": [
    "repayment_country['monthly'].sort_values(ascending=False).head()"
   ]
  },
  {
   "cell_type": "code",
   "execution_count": 117,
   "metadata": {},
   "outputs": [
    {
     "data": {
      "text/plain": [
       "country\n",
       "Philippines    144954.0\n",
       "Kenya           19426.0\n",
       "Peru             7455.0\n",
       "Samoa            7388.0\n",
       "Uganda           7260.0\n",
       "Name: irregular, dtype: float64"
      ]
     },
     "execution_count": 117,
     "metadata": {},
     "output_type": "execute_result"
    }
   ],
   "source": [
    "repayment_country['irregular'].sort_values(ascending=False).head()"
   ]
  },
  {
   "cell_type": "markdown",
   "metadata": {},
   "source": [
    "###### Philippines has the highest counts of repayments in general, and it is also leading in irregular repayments by a very big margin.\n",
    "\n",
    "###### Kenya has the highest weekly and monthly repayments.\n",
    "\n",
    "###### Colombia has the highest daily repayments.\n",
    "\n",
    "##### Kenya appears top3 in every repayment interval category. This means that irrespective of time, most Kenyans repay their loans."
   ]
  },
  {
   "cell_type": "code",
   "execution_count": 118,
   "metadata": {},
   "outputs": [
    {
     "data": {
      "text/html": [
       "<div>\n",
       "<style scoped>\n",
       "    .dataframe tbody tr th:only-of-type {\n",
       "        vertical-align: middle;\n",
       "    }\n",
       "\n",
       "    .dataframe tbody tr th {\n",
       "        vertical-align: top;\n",
       "    }\n",
       "\n",
       "    .dataframe thead th {\n",
       "        text-align: right;\n",
       "    }\n",
       "</style>\n",
       "<table border=\"1\" class=\"dataframe\">\n",
       "  <thead>\n",
       "    <tr style=\"text-align: right;\">\n",
       "      <th>gender</th>\n",
       "      <th>F</th>\n",
       "      <th>M</th>\n",
       "    </tr>\n",
       "    <tr>\n",
       "      <th>repayment_interval</th>\n",
       "      <th></th>\n",
       "      <th></th>\n",
       "    </tr>\n",
       "  </thead>\n",
       "  <tbody>\n",
       "    <tr>\n",
       "      <th>monthly</th>\n",
       "      <td>250967</td>\n",
       "      <td>91750</td>\n",
       "    </tr>\n",
       "    <tr>\n",
       "      <th>irregular</th>\n",
       "      <td>237896</td>\n",
       "      <td>19262</td>\n",
       "    </tr>\n",
       "    <tr>\n",
       "      <th>daily</th>\n",
       "      <td>39027</td>\n",
       "      <td>31701</td>\n",
       "    </tr>\n",
       "    <tr>\n",
       "      <th>weekly</th>\n",
       "      <td>571</td>\n",
       "      <td>31</td>\n",
       "    </tr>\n",
       "  </tbody>\n",
       "</table>\n",
       "</div>"
      ],
      "text/plain": [
       "gender                   F      M\n",
       "repayment_interval               \n",
       "monthly             250967  91750\n",
       "irregular           237896  19262\n",
       "daily                39027  31701\n",
       "weekly                 571     31"
      ]
     },
     "execution_count": 118,
     "metadata": {},
     "output_type": "execute_result"
    }
   ],
   "source": [
    "repayment_gender = data.pivot_table(index='repayment_interval', values='loan_amount', columns='gender', aggfunc='count')\n",
    "repayment_gender.sort_values(by='F', ascending=False)"
   ]
  },
  {
   "cell_type": "markdown",
   "metadata": {},
   "source": [
    "Female customers have the highest repaymnet intervals in all categories, compared to male customers.\n",
    "\n",
    "Monthly repayment intervals are highly done by both male and female.\n",
    "This could mean that most sector activities customers are involved in are able to provide a returns on a monthly basis."
   ]
  },
  {
   "cell_type": "markdown",
   "metadata": {},
   "source": [
    "A temporary conclusion(some questions still unanswered):\n",
    "Most Kiva borrowers are female.\n",
    "Most borrowers(male and female) come from the Phillipines.\n",
    "Phillipines is also the country with the highest total loan amount borrowed.\n",
    "Phillipines is also the country that repaid the most loans, irregularly.\n",
    "I think it's safe to say that Phillipines is an outlier.\n",
    "The agriculture sector contibutes highly to most loans borrowed and repaid.\n",
    "Most loan repaymnet intervals are monthly, followed closely by irregularly.\n",
    "Therefore, poverty levels of Kiva borrowers are low since most people borrow loans to sustain the most basic and largest economic activity- Agriculture."
   ]
  },
  {
   "cell_type": "markdown",
   "metadata": {},
   "source": [
    "##### 6. In which date, month and year were most/least loans taken?\n",
    "\n",
    "The date column represents the date each borrower took their respective loan amount."
   ]
  },
  {
   "cell_type": "code",
   "execution_count": 126,
   "metadata": {},
   "outputs": [],
   "source": [
    "data['day'] = data['date'].dt.day\n",
    "data['month'] = data['date'].dt.month\n",
    "data['year'] = data['date'].dt.year"
   ]
  },
  {
   "cell_type": "code",
   "execution_count": 129,
   "metadata": {},
   "outputs": [
    {
     "data": {
      "text/html": [
       "<div>\n",
       "<style scoped>\n",
       "    .dataframe tbody tr th:only-of-type {\n",
       "        vertical-align: middle;\n",
       "    }\n",
       "\n",
       "    .dataframe tbody tr th {\n",
       "        vertical-align: top;\n",
       "    }\n",
       "\n",
       "    .dataframe thead th {\n",
       "        text-align: right;\n",
       "    }\n",
       "</style>\n",
       "<table border=\"1\" class=\"dataframe\">\n",
       "  <thead>\n",
       "    <tr style=\"text-align: right;\">\n",
       "      <th></th>\n",
       "      <th>date</th>\n",
       "      <th>day</th>\n",
       "      <th>month</th>\n",
       "      <th>year</th>\n",
       "    </tr>\n",
       "  </thead>\n",
       "  <tbody>\n",
       "    <tr>\n",
       "      <th>257058</th>\n",
       "      <td>2015-06-19</td>\n",
       "      <td>19</td>\n",
       "      <td>6</td>\n",
       "      <td>2015</td>\n",
       "    </tr>\n",
       "    <tr>\n",
       "      <th>592268</th>\n",
       "      <td>2017-03-09</td>\n",
       "      <td>9</td>\n",
       "      <td>3</td>\n",
       "      <td>2017</td>\n",
       "    </tr>\n",
       "    <tr>\n",
       "      <th>516550</th>\n",
       "      <td>2016-10-28</td>\n",
       "      <td>28</td>\n",
       "      <td>10</td>\n",
       "      <td>2016</td>\n",
       "    </tr>\n",
       "    <tr>\n",
       "      <th>276872</th>\n",
       "      <td>2015-07-27</td>\n",
       "      <td>27</td>\n",
       "      <td>7</td>\n",
       "      <td>2015</td>\n",
       "    </tr>\n",
       "    <tr>\n",
       "      <th>184276</th>\n",
       "      <td>2015-01-26</td>\n",
       "      <td>26</td>\n",
       "      <td>1</td>\n",
       "      <td>2015</td>\n",
       "    </tr>\n",
       "    <tr>\n",
       "      <th>579508</th>\n",
       "      <td>2017-02-17</td>\n",
       "      <td>17</td>\n",
       "      <td>2</td>\n",
       "      <td>2017</td>\n",
       "    </tr>\n",
       "    <tr>\n",
       "      <th>557554</th>\n",
       "      <td>2017-01-10</td>\n",
       "      <td>10</td>\n",
       "      <td>1</td>\n",
       "      <td>2017</td>\n",
       "    </tr>\n",
       "    <tr>\n",
       "      <th>487359</th>\n",
       "      <td>2016-09-08</td>\n",
       "      <td>8</td>\n",
       "      <td>9</td>\n",
       "      <td>2016</td>\n",
       "    </tr>\n",
       "    <tr>\n",
       "      <th>428099</th>\n",
       "      <td>2016-05-24</td>\n",
       "      <td>24</td>\n",
       "      <td>5</td>\n",
       "      <td>2016</td>\n",
       "    </tr>\n",
       "    <tr>\n",
       "      <th>370848</th>\n",
       "      <td>2016-02-03</td>\n",
       "      <td>3</td>\n",
       "      <td>2</td>\n",
       "      <td>2016</td>\n",
       "    </tr>\n",
       "  </tbody>\n",
       "</table>\n",
       "</div>"
      ],
      "text/plain": [
       "             date  day  month  year\n",
       "257058 2015-06-19   19      6  2015\n",
       "592268 2017-03-09    9      3  2017\n",
       "516550 2016-10-28   28     10  2016\n",
       "276872 2015-07-27   27      7  2015\n",
       "184276 2015-01-26   26      1  2015\n",
       "579508 2017-02-17   17      2  2017\n",
       "557554 2017-01-10   10      1  2017\n",
       "487359 2016-09-08    8      9  2016\n",
       "428099 2016-05-24   24      5  2016\n",
       "370848 2016-02-03    3      2  2016"
      ]
     },
     "execution_count": 129,
     "metadata": {},
     "output_type": "execute_result"
    }
   ],
   "source": [
    "data[['date', 'day', 'month', 'year']].sample(10)"
   ]
  },
  {
   "cell_type": "code",
   "execution_count": 133,
   "metadata": {},
   "outputs": [
    {
     "data": {
      "text/plain": [
       "2016    197236\n",
       "2015    181833\n",
       "2014    174234\n",
       "2017    117902\n",
       "Name: year, dtype: int64"
      ]
     },
     "execution_count": 133,
     "metadata": {},
     "output_type": "execute_result"
    }
   ],
   "source": [
    "data['year'].value_counts()"
   ]
  },
  {
   "cell_type": "code",
   "execution_count": 135,
   "metadata": {},
   "outputs": [
    {
     "name": "stdout",
     "output_type": "stream",
     "text": [
      "<class 'pandas.core.frame.DataFrame'>\n",
      "RangeIndex: 671205 entries, 0 to 671204\n",
      "Data columns (total 11 columns):\n",
      " #   Column              Non-Null Count   Dtype         \n",
      "---  ------              --------------   -----         \n",
      " 0   id                  671205 non-null  int64         \n",
      " 1   loan_amount         671205 non-null  float64       \n",
      " 2   sector              671205 non-null  object        \n",
      " 3   country             671205 non-null  object        \n",
      " 4   term_in_months      671205 non-null  float64       \n",
      " 5   repayment_interval  671205 non-null  category      \n",
      " 6   date                671205 non-null  datetime64[ns]\n",
      " 7   gender              671205 non-null  category      \n",
      " 8   day                 671205 non-null  int64         \n",
      " 9   month               671205 non-null  int64         \n",
      " 10  year                671205 non-null  int64         \n",
      "dtypes: category(2), datetime64[ns](1), float64(2), int64(4), object(2)\n",
      "memory usage: 47.4+ MB\n"
     ]
    }
   ],
   "source": [
    "data.info()"
   ]
  },
  {
   "cell_type": "code",
   "execution_count": 155,
   "metadata": {},
   "outputs": [
    {
     "name": "stdout",
     "output_type": "stream",
     "text": [
      "            F_sum       M_sum\n",
      "month                        \n",
      "3      44287500.0  13801525.0\n",
      "5      42201750.0  12781625.0\n",
      "6      41695525.0  12470925.0\n",
      "            F_sum      M_sum\n",
      "month                       \n",
      "10     31285300.0  9708900.0\n",
      "9      30621375.0  9708725.0\n",
      "8      29768300.0  9208775.0\n"
     ]
    }
   ],
   "source": [
    "#loans by month, by gender\n",
    "month_loans = data.pivot_table(index='month', values='loan_amount',columns='gender', aggfunc=['sum'])\n",
    "month_loans.columns = ['F_sum', 'M_sum']\n",
    "month_loans_sorted = month_loans.sort_values(by='F_sum', ascending=False) \n",
    "# most loans by gender\n",
    "print(month_loans_sorted.head(3))\n",
    "#least loans by gender\n",
    "print(month_loans_sorted.tail(3))"
   ]
  },
  {
   "cell_type": "markdown",
   "metadata": {},
   "source": [
    "We can see high amount of loans being taken in the second quarter of the year, and least loans in the third quarter of the year."
   ]
  },
  {
   "cell_type": "code",
   "execution_count": 158,
   "metadata": {},
   "outputs": [
    {
     "name": "stdout",
     "output_type": "stream",
     "text": [
      "            F_sum       M_sum\n",
      "year                         \n",
      "2016  127184725.0  37250025.0\n",
      "2015  119552325.0  38070600.0\n",
      "2014  114390700.0  38533850.0\n",
      "2017   72416400.0  18022525.0\n",
      "\n",
      "            F_sum       M_sum\n",
      "year                         \n",
      "2016  127184725.0  37250025.0\n",
      "\n",
      "           F_sum       M_sum\n",
      "year                        \n",
      "2017  72416400.0  18022525.0\n"
     ]
    }
   ],
   "source": [
    "#loans by year,by gender\n",
    "year_loans = data.pivot_table(index='year', values='loan_amount', columns='gender', aggfunc=['sum'])\n",
    "year_loans.columns = ['F_sum', 'M_sum']\n",
    "year_loans_sorted = year_loans.sort_values(by='F_sum', ascending=False)\n",
    "print(year_loans_sorted)\n",
    "print()\n",
    "print(year_loans_sorted.head(1))\n",
    "print()\n",
    "print(year_loans_sorted.tail(1))"
   ]
  },
  {
   "cell_type": "markdown",
   "metadata": {},
   "source": [
    "For both male and female borrowers; 2016 was a good year for Kiva, since it has the most borrowed loans, whereas loans decreased sharply in 2017."
   ]
  },
  {
   "cell_type": "markdown",
   "metadata": {},
   "source": [
    "### Kenya's analysis.\n",
    "\n",
    "*I have developed an interest in Kenya, since it popped up as the country with the least term in months.*\n",
    "\n",
    "I will look at which sector, loan amount and gender in Kenya."
   ]
  },
  {
   "cell_type": "markdown",
   "metadata": {},
   "source": [
    "I will slice data from the main dataset that only belongs to Kenya, using the query() method."
   ]
  },
  {
   "cell_type": "code",
   "execution_count": 159,
   "metadata": {},
   "outputs": [],
   "source": [
    "kenya_data = data.query('country == \"Kenya\"')"
   ]
  },
  {
   "cell_type": "code",
   "execution_count": 162,
   "metadata": {
    "scrolled": true
   },
   "outputs": [
    {
     "name": "stdout",
     "output_type": "stream",
     "text": [
      "<class 'pandas.core.frame.DataFrame'>\n",
      "Int64Index: 75825 entries, 5 to 671204\n",
      "Data columns (total 11 columns):\n",
      " #   Column              Non-Null Count  Dtype         \n",
      "---  ------              --------------  -----         \n",
      " 0   id                  75825 non-null  int64         \n",
      " 1   loan_amount         75825 non-null  float64       \n",
      " 2   sector              75825 non-null  object        \n",
      " 3   country             75825 non-null  object        \n",
      " 4   term_in_months      75825 non-null  float64       \n",
      " 5   repayment_interval  75825 non-null  category      \n",
      " 6   date                75825 non-null  datetime64[ns]\n",
      " 7   gender              75825 non-null  category      \n",
      " 8   day                 75825 non-null  int64         \n",
      " 9   month               75825 non-null  int64         \n",
      " 10  year                75825 non-null  int64         \n",
      "dtypes: category(2), datetime64[ns](1), float64(2), int64(4), object(2)\n",
      "memory usage: 5.9+ MB\n"
     ]
    },
    {
     "data": {
      "text/plain": [
       "1"
      ]
     },
     "execution_count": 162,
     "metadata": {},
     "output_type": "execute_result"
    }
   ],
   "source": [
    "kenya_data.info()\n",
    "kenya_data['country'].unique() #check country is only Kenya"
   ]
  },
  {
   "cell_type": "code",
   "execution_count": 163,
   "metadata": {},
   "outputs": [
    {
     "data": {
      "text/plain": [
       "Agriculture       47716\n",
       "Retail            10185\n",
       "Services           5460\n",
       "Clothing           4753\n",
       "Personal Use       2130\n",
       "Transportation     1843\n",
       "Education          1329\n",
       "Construction        797\n",
       "Health              631\n",
       "Arts                347\n",
       "Manufacturing       295\n",
       "Housing             286\n",
       "Entertainment        32\n",
       "Wholesale            21\n",
       "Name: sector, dtype: int64"
      ]
     },
     "execution_count": 163,
     "metadata": {},
     "output_type": "execute_result"
    }
   ],
   "source": [
    "kenya_data.sector.value_counts()"
   ]
  },
  {
   "cell_type": "code",
   "execution_count": 164,
   "metadata": {},
   "outputs": [
    {
     "data": {
      "text/plain": [
       "34534300.0"
      ]
     },
     "execution_count": 164,
     "metadata": {},
     "output_type": "execute_result"
    }
   ],
   "source": [
    "kenya_data.loan_amount.sum()"
   ]
  },
  {
   "cell_type": "code",
   "execution_count": 165,
   "metadata": {},
   "outputs": [
    {
     "data": {
      "text/plain": [
       "F    60093\n",
       "M    15732\n",
       "Name: gender, dtype: int64"
      ]
     },
     "execution_count": 165,
     "metadata": {},
     "output_type": "execute_result"
    }
   ],
   "source": [
    "kenya_data.gender.value_counts()"
   ]
  },
  {
   "cell_type": "code",
   "execution_count": 166,
   "metadata": {},
   "outputs": [
    {
     "data": {
      "text/plain": [
       "2015    21923\n",
       "2016    20604\n",
       "2014    20196\n",
       "2017    13102\n",
       "Name: year, dtype: int64"
      ]
     },
     "execution_count": 166,
     "metadata": {},
     "output_type": "execute_result"
    }
   ],
   "source": [
    "kenya_data.year.value_counts()"
   ]
  },
  {
   "cell_type": "markdown",
   "metadata": {},
   "source": [
    "#### A brief conclusion of Kenya. \n",
    "In Kenya, just like all other countries, Agriculture sector is leading with most loans taken.\n",
    "\n",
    "Female borrowers are also more than male borrowers.\n",
    "\n",
    "There was a sharp decrease in loans taken in 2017."
   ]
  },
  {
   "cell_type": "code",
   "execution_count": null,
   "metadata": {},
   "outputs": [],
   "source": []
  }
 ],
 "metadata": {
  "kernelspec": {
   "display_name": "Python 3",
   "language": "python",
   "name": "python3"
  },
  "language_info": {
   "codemirror_mode": {
    "name": "ipython",
    "version": 3
   },
   "file_extension": ".py",
   "mimetype": "text/x-python",
   "name": "python",
   "nbconvert_exporter": "python",
   "pygments_lexer": "ipython3",
   "version": "3.7.6"
  }
 },
 "nbformat": 4,
 "nbformat_minor": 4
}
