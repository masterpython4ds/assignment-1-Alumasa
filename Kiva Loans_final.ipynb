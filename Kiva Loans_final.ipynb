{
 "cells": [
  {
   "cell_type": "code",
   "execution_count": 2,
   "metadata": {},
   "outputs": [],
   "source": [
    "import pandas as pd\n",
    "import numpy as np"
   ]
  },
  {
   "cell_type": "code",
   "execution_count": 3,
   "metadata": {},
   "outputs": [
    {
     "data": {
      "text/html": [
       "<div>\n",
       "<style scoped>\n",
       "    .dataframe tbody tr th:only-of-type {\n",
       "        vertical-align: middle;\n",
       "    }\n",
       "\n",
       "    .dataframe tbody tr th {\n",
       "        vertical-align: top;\n",
       "    }\n",
       "\n",
       "    .dataframe thead th {\n",
       "        text-align: right;\n",
       "    }\n",
       "</style>\n",
       "<table border=\"1\" class=\"dataframe\">\n",
       "  <thead>\n",
       "    <tr style=\"text-align: right;\">\n",
       "      <th></th>\n",
       "      <th>id</th>\n",
       "      <th>funded_amount</th>\n",
       "      <th>loan_amount</th>\n",
       "      <th>activity</th>\n",
       "      <th>sector</th>\n",
       "      <th>use</th>\n",
       "      <th>country_code</th>\n",
       "      <th>country</th>\n",
       "      <th>region</th>\n",
       "      <th>currency</th>\n",
       "      <th>partner_id</th>\n",
       "      <th>posted_time</th>\n",
       "      <th>disbursed_time</th>\n",
       "      <th>funded_time</th>\n",
       "      <th>term_in_months</th>\n",
       "      <th>lender_count</th>\n",
       "      <th>tags</th>\n",
       "      <th>borrower_genders</th>\n",
       "      <th>repayment_interval</th>\n",
       "      <th>date</th>\n",
       "    </tr>\n",
       "  </thead>\n",
       "  <tbody>\n",
       "    <tr>\n",
       "      <th>0</th>\n",
       "      <td>653051</td>\n",
       "      <td>300.0</td>\n",
       "      <td>300.0</td>\n",
       "      <td>Fruits &amp; Vegetables</td>\n",
       "      <td>Food</td>\n",
       "      <td>To buy seasonal, fresh fruits to sell.</td>\n",
       "      <td>PK</td>\n",
       "      <td>Pakistan</td>\n",
       "      <td>Lahore</td>\n",
       "      <td>PKR</td>\n",
       "      <td>247.0</td>\n",
       "      <td>2014-01-01 06:12:39+00:00</td>\n",
       "      <td>2013-12-17 08:00:00+00:00</td>\n",
       "      <td>2014-01-02 10:06:32+00:00</td>\n",
       "      <td>12.0</td>\n",
       "      <td>12</td>\n",
       "      <td>NaN</td>\n",
       "      <td>female</td>\n",
       "      <td>irregular</td>\n",
       "      <td>2014-01-01</td>\n",
       "    </tr>\n",
       "    <tr>\n",
       "      <th>1</th>\n",
       "      <td>653053</td>\n",
       "      <td>575.0</td>\n",
       "      <td>575.0</td>\n",
       "      <td>Rickshaw</td>\n",
       "      <td>Transportation</td>\n",
       "      <td>to repair and maintain the auto rickshaw used ...</td>\n",
       "      <td>PK</td>\n",
       "      <td>Pakistan</td>\n",
       "      <td>Lahore</td>\n",
       "      <td>PKR</td>\n",
       "      <td>247.0</td>\n",
       "      <td>2014-01-01 06:51:08+00:00</td>\n",
       "      <td>2013-12-17 08:00:00+00:00</td>\n",
       "      <td>2014-01-02 09:17:23+00:00</td>\n",
       "      <td>11.0</td>\n",
       "      <td>14</td>\n",
       "      <td>NaN</td>\n",
       "      <td>female, female</td>\n",
       "      <td>irregular</td>\n",
       "      <td>2014-01-01</td>\n",
       "    </tr>\n",
       "    <tr>\n",
       "      <th>2</th>\n",
       "      <td>653068</td>\n",
       "      <td>150.0</td>\n",
       "      <td>150.0</td>\n",
       "      <td>Transportation</td>\n",
       "      <td>Transportation</td>\n",
       "      <td>To repair their old cycle-van and buy another ...</td>\n",
       "      <td>IN</td>\n",
       "      <td>India</td>\n",
       "      <td>Maynaguri</td>\n",
       "      <td>INR</td>\n",
       "      <td>334.0</td>\n",
       "      <td>2014-01-01 09:58:07+00:00</td>\n",
       "      <td>2013-12-17 08:00:00+00:00</td>\n",
       "      <td>2014-01-01 16:01:36+00:00</td>\n",
       "      <td>43.0</td>\n",
       "      <td>6</td>\n",
       "      <td>user_favorite, user_favorite</td>\n",
       "      <td>female</td>\n",
       "      <td>bullet</td>\n",
       "      <td>2014-01-01</td>\n",
       "    </tr>\n",
       "    <tr>\n",
       "      <th>3</th>\n",
       "      <td>653063</td>\n",
       "      <td>200.0</td>\n",
       "      <td>200.0</td>\n",
       "      <td>Embroidery</td>\n",
       "      <td>Arts</td>\n",
       "      <td>to purchase an embroidery machine and a variet...</td>\n",
       "      <td>PK</td>\n",
       "      <td>Pakistan</td>\n",
       "      <td>Lahore</td>\n",
       "      <td>PKR</td>\n",
       "      <td>247.0</td>\n",
       "      <td>2014-01-01 08:03:11+00:00</td>\n",
       "      <td>2013-12-24 08:00:00+00:00</td>\n",
       "      <td>2014-01-01 13:00:00+00:00</td>\n",
       "      <td>11.0</td>\n",
       "      <td>8</td>\n",
       "      <td>NaN</td>\n",
       "      <td>female</td>\n",
       "      <td>irregular</td>\n",
       "      <td>2014-01-01</td>\n",
       "    </tr>\n",
       "    <tr>\n",
       "      <th>4</th>\n",
       "      <td>653084</td>\n",
       "      <td>400.0</td>\n",
       "      <td>400.0</td>\n",
       "      <td>Milk Sales</td>\n",
       "      <td>Food</td>\n",
       "      <td>to purchase one buffalo.</td>\n",
       "      <td>PK</td>\n",
       "      <td>Pakistan</td>\n",
       "      <td>Abdul Hakeem</td>\n",
       "      <td>PKR</td>\n",
       "      <td>245.0</td>\n",
       "      <td>2014-01-01 11:53:19+00:00</td>\n",
       "      <td>2013-12-17 08:00:00+00:00</td>\n",
       "      <td>2014-01-01 19:18:51+00:00</td>\n",
       "      <td>14.0</td>\n",
       "      <td>16</td>\n",
       "      <td>NaN</td>\n",
       "      <td>female</td>\n",
       "      <td>monthly</td>\n",
       "      <td>2014-01-01</td>\n",
       "    </tr>\n",
       "  </tbody>\n",
       "</table>\n",
       "</div>"
      ],
      "text/plain": [
       "       id  funded_amount  loan_amount             activity          sector  \\\n",
       "0  653051          300.0        300.0  Fruits & Vegetables            Food   \n",
       "1  653053          575.0        575.0             Rickshaw  Transportation   \n",
       "2  653068          150.0        150.0       Transportation  Transportation   \n",
       "3  653063          200.0        200.0           Embroidery            Arts   \n",
       "4  653084          400.0        400.0           Milk Sales            Food   \n",
       "\n",
       "                                                 use country_code   country  \\\n",
       "0            To buy seasonal, fresh fruits to sell.            PK  Pakistan   \n",
       "1  to repair and maintain the auto rickshaw used ...           PK  Pakistan   \n",
       "2  To repair their old cycle-van and buy another ...           IN     India   \n",
       "3  to purchase an embroidery machine and a variet...           PK  Pakistan   \n",
       "4                           to purchase one buffalo.           PK  Pakistan   \n",
       "\n",
       "         region currency  partner_id                posted_time  \\\n",
       "0        Lahore      PKR       247.0  2014-01-01 06:12:39+00:00   \n",
       "1        Lahore      PKR       247.0  2014-01-01 06:51:08+00:00   \n",
       "2     Maynaguri      INR       334.0  2014-01-01 09:58:07+00:00   \n",
       "3        Lahore      PKR       247.0  2014-01-01 08:03:11+00:00   \n",
       "4  Abdul Hakeem      PKR       245.0  2014-01-01 11:53:19+00:00   \n",
       "\n",
       "              disbursed_time                funded_time  term_in_months  \\\n",
       "0  2013-12-17 08:00:00+00:00  2014-01-02 10:06:32+00:00            12.0   \n",
       "1  2013-12-17 08:00:00+00:00  2014-01-02 09:17:23+00:00            11.0   \n",
       "2  2013-12-17 08:00:00+00:00  2014-01-01 16:01:36+00:00            43.0   \n",
       "3  2013-12-24 08:00:00+00:00  2014-01-01 13:00:00+00:00            11.0   \n",
       "4  2013-12-17 08:00:00+00:00  2014-01-01 19:18:51+00:00            14.0   \n",
       "\n",
       "   lender_count                          tags borrower_genders  \\\n",
       "0            12                           NaN           female   \n",
       "1            14                           NaN   female, female   \n",
       "2             6  user_favorite, user_favorite           female   \n",
       "3             8                           NaN           female   \n",
       "4            16                           NaN           female   \n",
       "\n",
       "  repayment_interval        date  \n",
       "0          irregular  2014-01-01  \n",
       "1          irregular  2014-01-01  \n",
       "2             bullet  2014-01-01  \n",
       "3          irregular  2014-01-01  \n",
       "4            monthly  2014-01-01  "
      ]
     },
     "execution_count": 3,
     "metadata": {},
     "output_type": "execute_result"
    }
   ],
   "source": [
    "data = pd.read_csv('kiva_loans.csv')\n",
    "data.head()"
   ]
  },
  {
   "cell_type": "code",
   "execution_count": 4,
   "metadata": {},
   "outputs": [
    {
     "name": "stdout",
     "output_type": "stream",
     "text": [
      "<class 'pandas.core.frame.DataFrame'>\n",
      "RangeIndex: 671205 entries, 0 to 671204\n",
      "Data columns (total 20 columns):\n",
      " #   Column              Non-Null Count   Dtype  \n",
      "---  ------              --------------   -----  \n",
      " 0   id                  671205 non-null  int64  \n",
      " 1   funded_amount       671205 non-null  float64\n",
      " 2   loan_amount         671205 non-null  float64\n",
      " 3   activity            671205 non-null  object \n",
      " 4   sector              671205 non-null  object \n",
      " 5   use                 666973 non-null  object \n",
      " 6   country_code        671197 non-null  object \n",
      " 7   country             671205 non-null  object \n",
      " 8   region              614405 non-null  object \n",
      " 9   currency            671205 non-null  object \n",
      " 10  partner_id          657698 non-null  float64\n",
      " 11  posted_time         671205 non-null  object \n",
      " 12  disbursed_time      668809 non-null  object \n",
      " 13  funded_time         622874 non-null  object \n",
      " 14  term_in_months      671205 non-null  float64\n",
      " 15  lender_count        671205 non-null  int64  \n",
      " 16  tags                499789 non-null  object \n",
      " 17  borrower_genders    666984 non-null  object \n",
      " 18  repayment_interval  671205 non-null  object \n",
      " 19  date                671205 non-null  object \n",
      "dtypes: float64(4), int64(2), object(14)\n",
      "memory usage: 102.4+ MB\n"
     ]
    }
   ],
   "source": [
    "data.info()"
   ]
  },
  {
   "cell_type": "code",
   "execution_count": 5,
   "metadata": {},
   "outputs": [],
   "source": [
    "data.drop(['funded_amount', 'activity', 'use', 'country_code', 'region', 'currency', 'partner_id', 'posted_time', 'disbursed_time', 'funded_time', 'lender_count', 'tags'], axis=1, inplace=True)"
   ]
  },
  {
   "cell_type": "code",
   "execution_count": 6,
   "metadata": {},
   "outputs": [
    {
     "name": "stdout",
     "output_type": "stream",
     "text": [
      "<class 'pandas.core.frame.DataFrame'>\n",
      "RangeIndex: 671205 entries, 0 to 671204\n",
      "Data columns (total 8 columns):\n",
      " #   Column              Non-Null Count   Dtype  \n",
      "---  ------              --------------   -----  \n",
      " 0   id                  671205 non-null  int64  \n",
      " 1   loan_amount         671205 non-null  float64\n",
      " 2   sector              671205 non-null  object \n",
      " 3   country             671205 non-null  object \n",
      " 4   term_in_months      671205 non-null  float64\n",
      " 5   borrower_genders    666984 non-null  object \n",
      " 6   repayment_interval  671205 non-null  object \n",
      " 7   date                671205 non-null  object \n",
      "dtypes: float64(2), int64(1), object(5)\n",
      "memory usage: 41.0+ MB\n"
     ]
    }
   ],
   "source": [
    "data.info()"
   ]
  },
  {
   "cell_type": "code",
   "execution_count": 7,
   "metadata": {},
   "outputs": [
    {
     "data": {
      "text/html": [
       "<div>\n",
       "<style scoped>\n",
       "    .dataframe tbody tr th:only-of-type {\n",
       "        vertical-align: middle;\n",
       "    }\n",
       "\n",
       "    .dataframe tbody tr th {\n",
       "        vertical-align: top;\n",
       "    }\n",
       "\n",
       "    .dataframe thead th {\n",
       "        text-align: right;\n",
       "    }\n",
       "</style>\n",
       "<table border=\"1\" class=\"dataframe\">\n",
       "  <thead>\n",
       "    <tr style=\"text-align: right;\">\n",
       "      <th></th>\n",
       "      <th>id</th>\n",
       "      <th>loan_amount</th>\n",
       "      <th>sector</th>\n",
       "      <th>country</th>\n",
       "      <th>term_in_months</th>\n",
       "      <th>borrower_genders</th>\n",
       "      <th>repayment_interval</th>\n",
       "      <th>date</th>\n",
       "    </tr>\n",
       "  </thead>\n",
       "  <tbody>\n",
       "    <tr>\n",
       "      <th>317722</th>\n",
       "      <td>964518</td>\n",
       "      <td>525.0</td>\n",
       "      <td>Personal Use</td>\n",
       "      <td>Nigeria</td>\n",
       "      <td>14.0</td>\n",
       "      <td>male</td>\n",
       "      <td>bullet</td>\n",
       "      <td>2015-10-17</td>\n",
       "    </tr>\n",
       "    <tr>\n",
       "      <th>501823</th>\n",
       "      <td>1162757</td>\n",
       "      <td>1200.0</td>\n",
       "      <td>Agriculture</td>\n",
       "      <td>Peru</td>\n",
       "      <td>14.0</td>\n",
       "      <td>male</td>\n",
       "      <td>bullet</td>\n",
       "      <td>2016-10-04</td>\n",
       "    </tr>\n",
       "    <tr>\n",
       "      <th>658726</th>\n",
       "      <td>1321046</td>\n",
       "      <td>200.0</td>\n",
       "      <td>Education</td>\n",
       "      <td>Kenya</td>\n",
       "      <td>14.0</td>\n",
       "      <td>female</td>\n",
       "      <td>monthly</td>\n",
       "      <td>2017-06-16</td>\n",
       "    </tr>\n",
       "    <tr>\n",
       "      <th>412562</th>\n",
       "      <td>1058965</td>\n",
       "      <td>550.0</td>\n",
       "      <td>Retail</td>\n",
       "      <td>Lebanon</td>\n",
       "      <td>12.0</td>\n",
       "      <td>female</td>\n",
       "      <td>monthly</td>\n",
       "      <td>2016-04-22</td>\n",
       "    </tr>\n",
       "    <tr>\n",
       "      <th>451606</th>\n",
       "      <td>1111582</td>\n",
       "      <td>1275.0</td>\n",
       "      <td>Food</td>\n",
       "      <td>Cambodia</td>\n",
       "      <td>14.0</td>\n",
       "      <td>female, female, male</td>\n",
       "      <td>monthly</td>\n",
       "      <td>2016-07-05</td>\n",
       "    </tr>\n",
       "    <tr>\n",
       "      <th>177436</th>\n",
       "      <td>825737</td>\n",
       "      <td>200.0</td>\n",
       "      <td>Food</td>\n",
       "      <td>Philippines</td>\n",
       "      <td>9.0</td>\n",
       "      <td>female</td>\n",
       "      <td>irregular</td>\n",
       "      <td>2015-01-09</td>\n",
       "    </tr>\n",
       "    <tr>\n",
       "      <th>479085</th>\n",
       "      <td>1139100</td>\n",
       "      <td>6250.0</td>\n",
       "      <td>Food</td>\n",
       "      <td>Bolivia</td>\n",
       "      <td>10.0</td>\n",
       "      <td>female, female, female, male, female, female, ...</td>\n",
       "      <td>monthly</td>\n",
       "      <td>2016-08-24</td>\n",
       "    </tr>\n",
       "    <tr>\n",
       "      <th>20245</th>\n",
       "      <td>672988</td>\n",
       "      <td>2300.0</td>\n",
       "      <td>Food</td>\n",
       "      <td>Peru</td>\n",
       "      <td>6.0</td>\n",
       "      <td>female, female, female, female, female, female...</td>\n",
       "      <td>irregular</td>\n",
       "      <td>2014-02-19</td>\n",
       "    </tr>\n",
       "    <tr>\n",
       "      <th>606829</th>\n",
       "      <td>1268176</td>\n",
       "      <td>250.0</td>\n",
       "      <td>Food</td>\n",
       "      <td>Kenya</td>\n",
       "      <td>8.0</td>\n",
       "      <td>female</td>\n",
       "      <td>irregular</td>\n",
       "      <td>2017-03-28</td>\n",
       "    </tr>\n",
       "    <tr>\n",
       "      <th>242860</th>\n",
       "      <td>889902</td>\n",
       "      <td>450.0</td>\n",
       "      <td>Food</td>\n",
       "      <td>Philippines</td>\n",
       "      <td>11.0</td>\n",
       "      <td>female</td>\n",
       "      <td>irregular</td>\n",
       "      <td>2015-05-22</td>\n",
       "    </tr>\n",
       "  </tbody>\n",
       "</table>\n",
       "</div>"
      ],
      "text/plain": [
       "             id  loan_amount        sector      country  term_in_months  \\\n",
       "317722   964518        525.0  Personal Use      Nigeria            14.0   \n",
       "501823  1162757       1200.0   Agriculture         Peru            14.0   \n",
       "658726  1321046        200.0     Education        Kenya            14.0   \n",
       "412562  1058965        550.0        Retail      Lebanon            12.0   \n",
       "451606  1111582       1275.0          Food     Cambodia            14.0   \n",
       "177436   825737        200.0          Food  Philippines             9.0   \n",
       "479085  1139100       6250.0          Food      Bolivia            10.0   \n",
       "20245    672988       2300.0          Food         Peru             6.0   \n",
       "606829  1268176        250.0          Food        Kenya             8.0   \n",
       "242860   889902        450.0          Food  Philippines            11.0   \n",
       "\n",
       "                                         borrower_genders repayment_interval  \\\n",
       "317722                                               male             bullet   \n",
       "501823                                               male             bullet   \n",
       "658726                                             female            monthly   \n",
       "412562                                             female            monthly   \n",
       "451606                               female, female, male            monthly   \n",
       "177436                                             female          irregular   \n",
       "479085  female, female, female, male, female, female, ...            monthly   \n",
       "20245   female, female, female, female, female, female...          irregular   \n",
       "606829                                             female          irregular   \n",
       "242860                                             female          irregular   \n",
       "\n",
       "              date  \n",
       "317722  2015-10-17  \n",
       "501823  2016-10-04  \n",
       "658726  2017-06-16  \n",
       "412562  2016-04-22  \n",
       "451606  2016-07-05  \n",
       "177436  2015-01-09  \n",
       "479085  2016-08-24  \n",
       "20245   2014-02-19  \n",
       "606829  2017-03-28  \n",
       "242860  2015-05-22  "
      ]
     },
     "execution_count": 7,
     "metadata": {},
     "output_type": "execute_result"
    }
   ],
   "source": [
    "data.sample(10)"
   ]
  },
  {
   "cell_type": "code",
   "execution_count": 8,
   "metadata": {},
   "outputs": [],
   "source": [
    "#change data column to datetime\n",
    "data['date'] = pd.to_datetime(data['date'], format='%Y-%m-%d')\n"
   ]
  },
  {
   "cell_type": "code",
   "execution_count": 9,
   "metadata": {},
   "outputs": [],
   "source": [
    "#drop any row with a missing value\n",
    "data.dropna(axis=0, how='any', inplace=True)"
   ]
  },
  {
   "cell_type": "code",
   "execution_count": 10,
   "metadata": {},
   "outputs": [
    {
     "data": {
      "text/plain": [
       "(666984, 8)"
      ]
     },
     "execution_count": 10,
     "metadata": {},
     "output_type": "execute_result"
    }
   ],
   "source": [
    "data.shape"
   ]
  },
  {
   "cell_type": "code",
   "execution_count": 11,
   "metadata": {},
   "outputs": [
    {
     "data": {
      "text/plain": [
       "499875                                               female\n",
       "303494                                               female\n",
       "413552    female, male, female, female, female, female, ...\n",
       "85179                                                  male\n",
       "638154                                                 male\n",
       "96583                                                female\n",
       "447377                                                 male\n",
       "32289                                                female\n",
       "335762                                               female\n",
       "79267                                                  male\n",
       "Name: borrower_genders, dtype: object"
      ]
     },
     "execution_count": 11,
     "metadata": {},
     "output_type": "execute_result"
    }
   ],
   "source": [
    "#Let's look at the gender column, and clean it up\n",
    "data['borrower_genders'].sample(10)"
   ]
  },
  {
   "cell_type": "code",
   "execution_count": 12,
   "metadata": {},
   "outputs": [],
   "source": [
    "data['female_gender'] = data['borrower_genders'].str.contains('female')"
   ]
  },
  {
   "cell_type": "code",
   "execution_count": 13,
   "metadata": {},
   "outputs": [],
   "source": [
    "#create a gender column and encode in 'F' and 'M'\n",
    "data.loc[data['female_gender'] == True, 'gender'] = 'F'\n",
    "data.loc[data['female_gender'] == False, 'gender'] ='M'"
   ]
  },
  {
   "cell_type": "code",
   "execution_count": 14,
   "metadata": {},
   "outputs": [],
   "source": [
    "data.drop(['borrower_genders', 'female_gender'], axis=1, inplace=True)"
   ]
  },
  {
   "cell_type": "code",
   "execution_count": 15,
   "metadata": {},
   "outputs": [
    {
     "name": "stdout",
     "output_type": "stream",
     "text": [
      "F    528461\n",
      "M    138523\n",
      "Name: gender, dtype: int64\n"
     ]
    }
   ],
   "source": [
    "print(data['gender'].value_counts())"
   ]
  },
  {
   "cell_type": "code",
   "execution_count": 16,
   "metadata": {},
   "outputs": [
    {
     "name": "stdout",
     "output_type": "stream",
     "text": [
      "531578    M\n",
      "431934    F\n",
      "454649    F\n",
      "161684    F\n",
      "31963     F\n",
      "Name: gender, dtype: category\n",
      "Categories (2, object): [F < M]\n"
     ]
    }
   ],
   "source": [
    "#change the gender column to a category\n",
    "category = ['F', 'M']\n",
    "cat_dtype = pd.api.types.CategoricalDtype(categories=category, ordered=True)\n",
    "data['gender'] = data['gender'].astype(cat_dtype)\n",
    "\n",
    "print(data.gender.sample(5))"
   ]
  },
  {
   "cell_type": "code",
   "execution_count": 17,
   "metadata": {},
   "outputs": [
    {
     "name": "stdout",
     "output_type": "stream",
     "text": [
      "monthly      340171\n",
      "irregular    256573\n",
      "bullet        69638\n",
      "weekly          602\n",
      "Name: repayment_interval, dtype: int64\n"
     ]
    }
   ],
   "source": [
    "#data.loc[data['repayment_interval'] == 'bullet'] = 'daily'\n",
    "print(data['repayment_interval'].value_counts())"
   ]
  },
  {
   "cell_type": "code",
   "execution_count": 18,
   "metadata": {},
   "outputs": [
    {
     "name": "stdout",
     "output_type": "stream",
     "text": [
      "category\n",
      "monthly      340171\n",
      "irregular    256573\n",
      "bullet        69638\n",
      "weekly          602\n",
      "Name: repayment_interval, dtype: int64\n"
     ]
    }
   ],
   "source": [
    "#Change the repayment_interval column to a category too.\n",
    "#Directly: .astype()\n",
    "data['repayment_interval'] = data['repayment_interval'].astype('category')\n",
    "print(data['repayment_interval'].dtype)\n",
    "print(data.repayment_interval.value_counts())"
   ]
  },
  {
   "cell_type": "code",
   "execution_count": 19,
   "metadata": {},
   "outputs": [
    {
     "name": "stdout",
     "output_type": "stream",
     "text": [
      "297094    irregular\n",
      "415332    irregular\n",
      "238429      monthly\n",
      "303523    irregular\n",
      "499187      monthly\n",
      "Name: repayment_interval, dtype: category\n",
      "Categories (4, object): [bullet, irregular, monthly, weekly]\n"
     ]
    }
   ],
   "source": [
    "print(data.repayment_interval.sample(5))"
   ]
  },
  {
   "cell_type": "code",
   "execution_count": 20,
   "metadata": {},
   "outputs": [
    {
     "data": {
      "text/plain": [
       "0    Pakistan\n",
       "1    Pakistan\n",
       "2       India\n",
       "3    Pakistan\n",
       "4    Pakistan\n",
       "Name: country, dtype: object"
      ]
     },
     "execution_count": 20,
     "metadata": {},
     "output_type": "execute_result"
    }
   ],
   "source": [
    "#Look at the country column:\n",
    "data.country.head()"
   ]
  },
  {
   "cell_type": "code",
   "execution_count": 21,
   "metadata": {},
   "outputs": [],
   "source": [
    "#There's an error where instead of India, it's daily.\n",
    "#What caused this error, I don't know. Yet.\n",
    "#print(data.country[data['country'] == 'daily'].count())"
   ]
  },
  {
   "cell_type": "code",
   "execution_count": 22,
   "metadata": {},
   "outputs": [],
   "source": [
    "#Change 'daily' to 'India' in the country column\n",
    "#data.loc[data['country'] == 'daily'] = 'India'"
   ]
  },
  {
   "cell_type": "code",
   "execution_count": 23,
   "metadata": {},
   "outputs": [
    {
     "name": "stdout",
     "output_type": "stream",
     "text": [
      "['Pakistan' 'India' 'Kenya' 'Nicaragua' 'El Salvador' 'Tanzania'\n",
      " 'Philippines' 'Peru' 'Senegal' 'Cambodia' 'Liberia' 'Vietnam' 'Iraq'\n",
      " 'Honduras' 'Palestine' 'Mongolia' 'United States' 'Mali' 'Colombia'\n",
      " 'Tajikistan' 'Guatemala' 'Ecuador' 'Bolivia' 'Yemen' 'Ghana'\n",
      " 'Sierra Leone' 'Haiti' 'Chile' 'Jordan' 'Uganda' 'Burundi' 'Burkina Faso'\n",
      " 'Timor-Leste' 'Indonesia' 'Georgia' 'Ukraine' 'Kosovo' 'Albania'\n",
      " 'The Democratic Republic of the Congo' 'Costa Rica' 'Somalia' 'Zimbabwe'\n",
      " 'Cameroon' 'Turkey' 'Azerbaijan' 'Dominican Republic' 'Brazil' 'Mexico'\n",
      " 'Kyrgyzstan' 'Armenia' 'Paraguay' 'Lebanon' 'Samoa' 'Israel' 'Rwanda'\n",
      " 'Zambia' 'Nepal' 'Congo' 'Mozambique' 'South Africa' 'Togo' 'Benin'\n",
      " 'Belize' 'Suriname' 'Thailand' 'Nigeria' 'Mauritania' 'Vanuatu' 'Panama'\n",
      " 'Virgin Islands' 'Saint Vincent and the Grenadines'\n",
      " \"Lao People's Democratic Republic\" 'Myanmar (Burma)' 'Malawi' 'Moldova'\n",
      " 'South Sudan' 'Solomon Islands' 'China' 'Egypt' 'Guam' 'Afghanistan'\n",
      " 'Madagascar' 'Namibia' 'Puerto Rico' 'Lesotho' \"Cote D'Ivoire\" 'Bhutan']\n",
      "87\n"
     ]
    }
   ],
   "source": [
    "#print(data.country[data['country'] == 'India'].count())\n",
    "print(data.country.unique())\n",
    "print(data.country.nunique())"
   ]
  },
  {
   "cell_type": "code",
   "execution_count": 24,
   "metadata": {},
   "outputs": [
    {
     "name": "stdout",
     "output_type": "stream",
     "text": [
      "['Food' 'Transportation' 'Arts' 'Services' 'Agriculture' 'Manufacturing'\n",
      " 'Wholesale' 'Retail' 'Clothing' 'Construction' 'Health' 'Education'\n",
      " 'Personal Use' 'Housing' 'Entertainment']\n",
      "15\n"
     ]
    }
   ],
   "source": [
    "print(data.sector.unique())\n",
    "print(data.sector.nunique())"
   ]
  },
  {
   "cell_type": "code",
   "execution_count": 25,
   "metadata": {},
   "outputs": [
    {
     "data": {
      "text/plain": [
       "array(['Agriculture', 'Transportation', 'Arts', 'Services',\n",
       "       'Manufacturing', 'Wholesale', 'Retail', 'Clothing', 'Construction',\n",
       "       'Health', 'Education', 'Personal Use', 'Housing', 'Entertainment'],\n",
       "      dtype=object)"
      ]
     },
     "execution_count": 25,
     "metadata": {},
     "output_type": "execute_result"
    }
   ],
   "source": [
    "#Because Food and Agriculture are directly related, I have changed them to one: Agriculture\n",
    "data.loc[data['sector'] == 'Food', 'sector'] = 'Agriculture'\n",
    "data.sector.unique()"
   ]
  },
  {
   "cell_type": "markdown",
   "metadata": {},
   "source": [
    "#Testing hypothesis towards finding out about the borrowers in Kiva.\n",
    "1.Who are they?-Gender.\n",
    "2.What do they do?-Sector\n",
    "3.Where do they come from?-Country\n",
    "4.How long have they borrowed?-term in months\n",
    "5.How do they pay? Poverty levels? -repayment intervals\n",
    "6.Which country borrows the most or the least? & In which sector?\n"
   ]
  },
  {
   "cell_type": "markdown",
   "metadata": {},
   "source": [
    "1.What is the gender of most borrowers in Kiva? "
   ]
  },
  {
   "cell_type": "markdown",
   "metadata": {},
   "source": [
    "My hypothesis is that most borrowers in Kiva are female."
   ]
  },
  {
   "cell_type": "code",
   "execution_count": 26,
   "metadata": {},
   "outputs": [
    {
     "name": "stdout",
     "output_type": "stream",
     "text": [
      "F    528461\n",
      "M    138523\n",
      "Name: gender, dtype: int64\n"
     ]
    }
   ],
   "source": [
    "borrower_genders = data['gender'].value_counts()\n",
    "print(borrower_genders)"
   ]
  },
  {
   "cell_type": "code",
   "execution_count": 27,
   "metadata": {},
   "outputs": [
    {
     "name": "stdout",
     "output_type": "stream",
     "text": [
      "The female borrowers are: 79%\n",
      "The male borrowers are: 21%\n"
     ]
    }
   ],
   "source": [
    "female_borrowers = int(528461)\n",
    "male_borrowers = int(138523)\n",
    "total_borrowers = female_borrowers + male_borrowers\n",
    "print('The female borrowers are: {:.0%}'.format(female_borrowers /total_borrowers))\n",
    "print('The male borrowers are: {:.0%}'.format(male_borrowers /total_borrowers))"
   ]
  },
  {
   "cell_type": "markdown",
   "metadata": {},
   "source": [
    "2.In which sector are the female and male genders involved in respectively?"
   ]
  },
  {
   "cell_type": "markdown",
   "metadata": {},
   "source": [
    "My hypothesis is that most female are in the Agriculture sector, and male in the Transportation sector."
   ]
  },
  {
   "cell_type": "code",
   "execution_count": 28,
   "metadata": {},
   "outputs": [
    {
     "data": {
      "text/html": [
       "<div>\n",
       "<style scoped>\n",
       "    .dataframe tbody tr th:only-of-type {\n",
       "        vertical-align: middle;\n",
       "    }\n",
       "\n",
       "    .dataframe tbody tr th {\n",
       "        vertical-align: top;\n",
       "    }\n",
       "\n",
       "    .dataframe thead th {\n",
       "        text-align: right;\n",
       "    }\n",
       "</style>\n",
       "<table border=\"1\" class=\"dataframe\">\n",
       "  <thead>\n",
       "    <tr style=\"text-align: right;\">\n",
       "      <th></th>\n",
       "      <th>id</th>\n",
       "      <th>loan_amount</th>\n",
       "      <th>sector</th>\n",
       "      <th>country</th>\n",
       "      <th>term_in_months</th>\n",
       "      <th>repayment_interval</th>\n",
       "      <th>date</th>\n",
       "      <th>gender</th>\n",
       "    </tr>\n",
       "  </thead>\n",
       "  <tbody>\n",
       "    <tr>\n",
       "      <th>0</th>\n",
       "      <td>653051</td>\n",
       "      <td>300.0</td>\n",
       "      <td>Agriculture</td>\n",
       "      <td>Pakistan</td>\n",
       "      <td>12.0</td>\n",
       "      <td>irregular</td>\n",
       "      <td>2014-01-01</td>\n",
       "      <td>F</td>\n",
       "    </tr>\n",
       "    <tr>\n",
       "      <th>1</th>\n",
       "      <td>653053</td>\n",
       "      <td>575.0</td>\n",
       "      <td>Transportation</td>\n",
       "      <td>Pakistan</td>\n",
       "      <td>11.0</td>\n",
       "      <td>irregular</td>\n",
       "      <td>2014-01-01</td>\n",
       "      <td>F</td>\n",
       "    </tr>\n",
       "    <tr>\n",
       "      <th>2</th>\n",
       "      <td>653068</td>\n",
       "      <td>150.0</td>\n",
       "      <td>Transportation</td>\n",
       "      <td>India</td>\n",
       "      <td>43.0</td>\n",
       "      <td>bullet</td>\n",
       "      <td>2014-01-01</td>\n",
       "      <td>F</td>\n",
       "    </tr>\n",
       "    <tr>\n",
       "      <th>3</th>\n",
       "      <td>653063</td>\n",
       "      <td>200.0</td>\n",
       "      <td>Arts</td>\n",
       "      <td>Pakistan</td>\n",
       "      <td>11.0</td>\n",
       "      <td>irregular</td>\n",
       "      <td>2014-01-01</td>\n",
       "      <td>F</td>\n",
       "    </tr>\n",
       "    <tr>\n",
       "      <th>4</th>\n",
       "      <td>653084</td>\n",
       "      <td>400.0</td>\n",
       "      <td>Agriculture</td>\n",
       "      <td>Pakistan</td>\n",
       "      <td>14.0</td>\n",
       "      <td>monthly</td>\n",
       "      <td>2014-01-01</td>\n",
       "      <td>F</td>\n",
       "    </tr>\n",
       "  </tbody>\n",
       "</table>\n",
       "</div>"
      ],
      "text/plain": [
       "       id  loan_amount          sector   country  term_in_months  \\\n",
       "0  653051        300.0     Agriculture  Pakistan            12.0   \n",
       "1  653053        575.0  Transportation  Pakistan            11.0   \n",
       "2  653068        150.0  Transportation     India            43.0   \n",
       "3  653063        200.0            Arts  Pakistan            11.0   \n",
       "4  653084        400.0     Agriculture  Pakistan            14.0   \n",
       "\n",
       "  repayment_interval       date gender  \n",
       "0          irregular 2014-01-01      F  \n",
       "1          irregular 2014-01-01      F  \n",
       "2             bullet 2014-01-01      F  \n",
       "3          irregular 2014-01-01      F  \n",
       "4            monthly 2014-01-01      F  "
      ]
     },
     "execution_count": 28,
     "metadata": {},
     "output_type": "execute_result"
    }
   ],
   "source": [
    "female_data = data[data['gender'] == 'F']\n",
    "male_data = data[data['gender'] == 'M']\n",
    "female_data.head(5)\n",
    "#male_data.sample(10)"
   ]
  },
  {
   "cell_type": "code",
   "execution_count": 29,
   "metadata": {},
   "outputs": [
    {
     "data": {
      "text/plain": [
       "Agriculture       250078\n",
       "Retail            109244\n",
       "Services           34512\n",
       "Clothing           29752\n",
       "Personal Use       27580\n",
       "Housing            25177\n",
       "Education          19008\n",
       "Arts               10758\n",
       "Transportation      8521\n",
       "Health              6203\n",
       "Manufacturing       3799\n",
       "Construction        3047\n",
       "Entertainment        424\n",
       "Wholesale            358\n",
       "Name: sector, dtype: int64"
      ]
     },
     "execution_count": 29,
     "metadata": {},
     "output_type": "execute_result"
    }
   ],
   "source": [
    "female_data['sector'].value_counts()"
   ]
  },
  {
   "cell_type": "markdown",
   "metadata": {},
   "source": [
    "Most female borrowers are in the Agriculture sector."
   ]
  },
  {
   "cell_type": "code",
   "execution_count": 30,
   "metadata": {},
   "outputs": [
    {
     "name": "stdout",
     "output_type": "stream",
     "text": [
      "The sector with the most amount of loan borrowed: Agriculture\n",
      "The highest loan amount borrowed per sector:262627050\n"
     ]
    }
   ],
   "source": [
    "print('The sector with the most amount of loan borrowed:', data.groupby('sector')['loan_amount'].sum().idxmax())\n",
    "print('The highest loan amount borrowed per sector:{:.0f}'.format(data.groupby('sector')['loan_amount'].sum().max()))"
   ]
  },
  {
   "cell_type": "code",
   "execution_count": 31,
   "metadata": {},
   "outputs": [
    {
     "data": {
      "text/plain": [
       "Agriculture       64895\n",
       "Retail            14514\n",
       "Education         11829\n",
       "Services          10187\n",
       "Personal Use       8667\n",
       "Housing            8394\n",
       "Transportation     6934\n",
       "Construction       3147\n",
       "Health             2969\n",
       "Clothing           2728\n",
       "Manufacturing      2359\n",
       "Arts               1236\n",
       "Entertainment       396\n",
       "Wholesale           268\n",
       "Name: sector, dtype: int64"
      ]
     },
     "execution_count": 31,
     "metadata": {},
     "output_type": "execute_result"
    }
   ],
   "source": [
    "male_data['sector'].value_counts()"
   ]
  },
  {
   "cell_type": "markdown",
   "metadata": {},
   "source": [
    "Most male borrowers are also in the Agriculture sector."
   ]
  },
  {
   "cell_type": "markdown",
   "metadata": {},
   "source": [
    "3. In which country do most borrowers come from?"
   ]
  },
  {
   "cell_type": "code",
   "execution_count": 39,
   "metadata": {},
   "outputs": [
    {
     "data": {
      "text/html": [
       "<div>\n",
       "<style scoped>\n",
       "    .dataframe tbody tr th:only-of-type {\n",
       "        vertical-align: middle;\n",
       "    }\n",
       "\n",
       "    .dataframe tbody tr th {\n",
       "        vertical-align: top;\n",
       "    }\n",
       "\n",
       "    .dataframe thead tr th {\n",
       "        text-align: left;\n",
       "    }\n",
       "\n",
       "    .dataframe thead tr:last-of-type th {\n",
       "        text-align: right;\n",
       "    }\n",
       "</style>\n",
       "<table border=\"1\" class=\"dataframe\">\n",
       "  <thead>\n",
       "    <tr>\n",
       "      <th></th>\n",
       "      <th></th>\n",
       "      <th>gender</th>\n",
       "    </tr>\n",
       "    <tr>\n",
       "      <th></th>\n",
       "      <th></th>\n",
       "      <th>value_counts</th>\n",
       "    </tr>\n",
       "    <tr>\n",
       "      <th>country</th>\n",
       "      <th>gender</th>\n",
       "      <th></th>\n",
       "    </tr>\n",
       "  </thead>\n",
       "  <tbody>\n",
       "    <tr>\n",
       "      <th>Afghanistan</th>\n",
       "      <th>F</th>\n",
       "      <td>2</td>\n",
       "    </tr>\n",
       "    <tr>\n",
       "      <th rowspan=\"2\" valign=\"top\">Albania</th>\n",
       "      <th>F</th>\n",
       "      <td>1018</td>\n",
       "    </tr>\n",
       "    <tr>\n",
       "      <th>M</th>\n",
       "      <td>899</td>\n",
       "    </tr>\n",
       "    <tr>\n",
       "      <th rowspan=\"2\" valign=\"top\">Armenia</th>\n",
       "      <th>F</th>\n",
       "      <td>5383</td>\n",
       "    </tr>\n",
       "    <tr>\n",
       "      <th>M</th>\n",
       "      <td>3245</td>\n",
       "    </tr>\n",
       "  </tbody>\n",
       "</table>\n",
       "</div>"
      ],
      "text/plain": [
       "                         gender\n",
       "                   value_counts\n",
       "country     gender             \n",
       "Afghanistan F                 2\n",
       "Albania     F              1018\n",
       "            M               899\n",
       "Armenia     F              5383\n",
       "            M              3245"
      ]
     },
     "execution_count": 39,
     "metadata": {},
     "output_type": "execute_result"
    }
   ],
   "source": [
    "country_grouped = data.groupby('country').agg({'gender': ['value_counts']})\n",
    "country_grouped.head(5)"
   ]
  },
  {
   "cell_type": "code",
   "execution_count": 56,
   "metadata": {},
   "outputs": [
    {
     "name": "stdout",
     "output_type": "stream",
     "text": [
      "value_counts    (Bhutan, F)\n",
      "dtype: object value_counts    1\n",
      "dtype: int64\n"
     ]
    }
   ],
   "source": [
    "print(country_grouped['gender'].idxmin(), country_grouped['gender'].min())"
   ]
  },
  {
   "cell_type": "code",
   "execution_count": 57,
   "metadata": {},
   "outputs": [
    {
     "name": "stdout",
     "output_type": "stream",
     "text": [
      "value_counts    (Philippines, F)\n",
      "dtype: object value_counts    151984\n",
      "dtype: int64\n"
     ]
    }
   ],
   "source": [
    "print(country_grouped['gender'].idxmax(), country_grouped['gender'].max())"
   ]
  },
  {
   "cell_type": "markdown",
   "metadata": {},
   "source": [
    "The highest country borrrower is Phillipines. In Phillippines, the female gender borrows the most.\n",
    "The lowest country borrower is Bhutan. With one female borrower.\n",
    "\n",
    "Why Phillipines? Is Kiva a Phillipines' company? Have more financial campaigns been done in Phillipines?"
   ]
  },
  {
   "cell_type": "markdown",
   "metadata": {},
   "source": [
    "4. How long have they borrowed?\n",
    "Which is the longest borrowing gender?\n",
    "Which is the longest borrowing country?"
   ]
  },
  {
   "cell_type": "code",
   "execution_count": null,
   "metadata": {},
   "outputs": [],
   "source": []
  }
 ],
 "metadata": {
  "kernelspec": {
   "display_name": "Python 3",
   "language": "python",
   "name": "python3"
  },
  "language_info": {
   "codemirror_mode": {
    "name": "ipython",
    "version": 3
   },
   "file_extension": ".py",
   "mimetype": "text/x-python",
   "name": "python",
   "nbconvert_exporter": "python",
   "pygments_lexer": "ipython3",
   "version": "3.7.6"
  }
 },
 "nbformat": 4,
 "nbformat_minor": 4
}
