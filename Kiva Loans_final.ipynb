{
 "cells": [
  {
   "cell_type": "markdown",
   "metadata": {},
   "source": [
    "Import python libraries."
   ]
  },
  {
   "cell_type": "code",
   "execution_count": 1,
   "metadata": {},
   "outputs": [],
   "source": [
    "import pandas as pd\n",
    "import numpy as np"
   ]
  },
  {
   "cell_type": "markdown",
   "metadata": {},
   "source": [
    "Read and preview the data."
   ]
  },
  {
   "cell_type": "code",
   "execution_count": 2,
   "metadata": {},
   "outputs": [
    {
     "data": {
      "text/html": [
       "<div>\n",
       "<style scoped>\n",
       "    .dataframe tbody tr th:only-of-type {\n",
       "        vertical-align: middle;\n",
       "    }\n",
       "\n",
       "    .dataframe tbody tr th {\n",
       "        vertical-align: top;\n",
       "    }\n",
       "\n",
       "    .dataframe thead th {\n",
       "        text-align: right;\n",
       "    }\n",
       "</style>\n",
       "<table border=\"1\" class=\"dataframe\">\n",
       "  <thead>\n",
       "    <tr style=\"text-align: right;\">\n",
       "      <th></th>\n",
       "      <th>id</th>\n",
       "      <th>funded_amount</th>\n",
       "      <th>loan_amount</th>\n",
       "      <th>activity</th>\n",
       "      <th>sector</th>\n",
       "      <th>use</th>\n",
       "      <th>country_code</th>\n",
       "      <th>country</th>\n",
       "      <th>region</th>\n",
       "      <th>currency</th>\n",
       "      <th>partner_id</th>\n",
       "      <th>posted_time</th>\n",
       "      <th>disbursed_time</th>\n",
       "      <th>funded_time</th>\n",
       "      <th>term_in_months</th>\n",
       "      <th>lender_count</th>\n",
       "      <th>tags</th>\n",
       "      <th>borrower_genders</th>\n",
       "      <th>repayment_interval</th>\n",
       "      <th>date</th>\n",
       "    </tr>\n",
       "  </thead>\n",
       "  <tbody>\n",
       "    <tr>\n",
       "      <th>0</th>\n",
       "      <td>653051</td>\n",
       "      <td>300.0</td>\n",
       "      <td>300.0</td>\n",
       "      <td>Fruits &amp; Vegetables</td>\n",
       "      <td>Food</td>\n",
       "      <td>To buy seasonal, fresh fruits to sell.</td>\n",
       "      <td>PK</td>\n",
       "      <td>Pakistan</td>\n",
       "      <td>Lahore</td>\n",
       "      <td>PKR</td>\n",
       "      <td>247.0</td>\n",
       "      <td>2014-01-01 06:12:39+00:00</td>\n",
       "      <td>2013-12-17 08:00:00+00:00</td>\n",
       "      <td>2014-01-02 10:06:32+00:00</td>\n",
       "      <td>12.0</td>\n",
       "      <td>12</td>\n",
       "      <td>NaN</td>\n",
       "      <td>female</td>\n",
       "      <td>irregular</td>\n",
       "      <td>2014-01-01</td>\n",
       "    </tr>\n",
       "    <tr>\n",
       "      <th>1</th>\n",
       "      <td>653053</td>\n",
       "      <td>575.0</td>\n",
       "      <td>575.0</td>\n",
       "      <td>Rickshaw</td>\n",
       "      <td>Transportation</td>\n",
       "      <td>to repair and maintain the auto rickshaw used ...</td>\n",
       "      <td>PK</td>\n",
       "      <td>Pakistan</td>\n",
       "      <td>Lahore</td>\n",
       "      <td>PKR</td>\n",
       "      <td>247.0</td>\n",
       "      <td>2014-01-01 06:51:08+00:00</td>\n",
       "      <td>2013-12-17 08:00:00+00:00</td>\n",
       "      <td>2014-01-02 09:17:23+00:00</td>\n",
       "      <td>11.0</td>\n",
       "      <td>14</td>\n",
       "      <td>NaN</td>\n",
       "      <td>female, female</td>\n",
       "      <td>irregular</td>\n",
       "      <td>2014-01-01</td>\n",
       "    </tr>\n",
       "    <tr>\n",
       "      <th>2</th>\n",
       "      <td>653068</td>\n",
       "      <td>150.0</td>\n",
       "      <td>150.0</td>\n",
       "      <td>Transportation</td>\n",
       "      <td>Transportation</td>\n",
       "      <td>To repair their old cycle-van and buy another ...</td>\n",
       "      <td>IN</td>\n",
       "      <td>India</td>\n",
       "      <td>Maynaguri</td>\n",
       "      <td>INR</td>\n",
       "      <td>334.0</td>\n",
       "      <td>2014-01-01 09:58:07+00:00</td>\n",
       "      <td>2013-12-17 08:00:00+00:00</td>\n",
       "      <td>2014-01-01 16:01:36+00:00</td>\n",
       "      <td>43.0</td>\n",
       "      <td>6</td>\n",
       "      <td>user_favorite, user_favorite</td>\n",
       "      <td>female</td>\n",
       "      <td>bullet</td>\n",
       "      <td>2014-01-01</td>\n",
       "    </tr>\n",
       "    <tr>\n",
       "      <th>3</th>\n",
       "      <td>653063</td>\n",
       "      <td>200.0</td>\n",
       "      <td>200.0</td>\n",
       "      <td>Embroidery</td>\n",
       "      <td>Arts</td>\n",
       "      <td>to purchase an embroidery machine and a variet...</td>\n",
       "      <td>PK</td>\n",
       "      <td>Pakistan</td>\n",
       "      <td>Lahore</td>\n",
       "      <td>PKR</td>\n",
       "      <td>247.0</td>\n",
       "      <td>2014-01-01 08:03:11+00:00</td>\n",
       "      <td>2013-12-24 08:00:00+00:00</td>\n",
       "      <td>2014-01-01 13:00:00+00:00</td>\n",
       "      <td>11.0</td>\n",
       "      <td>8</td>\n",
       "      <td>NaN</td>\n",
       "      <td>female</td>\n",
       "      <td>irregular</td>\n",
       "      <td>2014-01-01</td>\n",
       "    </tr>\n",
       "    <tr>\n",
       "      <th>4</th>\n",
       "      <td>653084</td>\n",
       "      <td>400.0</td>\n",
       "      <td>400.0</td>\n",
       "      <td>Milk Sales</td>\n",
       "      <td>Food</td>\n",
       "      <td>to purchase one buffalo.</td>\n",
       "      <td>PK</td>\n",
       "      <td>Pakistan</td>\n",
       "      <td>Abdul Hakeem</td>\n",
       "      <td>PKR</td>\n",
       "      <td>245.0</td>\n",
       "      <td>2014-01-01 11:53:19+00:00</td>\n",
       "      <td>2013-12-17 08:00:00+00:00</td>\n",
       "      <td>2014-01-01 19:18:51+00:00</td>\n",
       "      <td>14.0</td>\n",
       "      <td>16</td>\n",
       "      <td>NaN</td>\n",
       "      <td>female</td>\n",
       "      <td>monthly</td>\n",
       "      <td>2014-01-01</td>\n",
       "    </tr>\n",
       "  </tbody>\n",
       "</table>\n",
       "</div>"
      ],
      "text/plain": [
       "       id  funded_amount  loan_amount             activity          sector  \\\n",
       "0  653051          300.0        300.0  Fruits & Vegetables            Food   \n",
       "1  653053          575.0        575.0             Rickshaw  Transportation   \n",
       "2  653068          150.0        150.0       Transportation  Transportation   \n",
       "3  653063          200.0        200.0           Embroidery            Arts   \n",
       "4  653084          400.0        400.0           Milk Sales            Food   \n",
       "\n",
       "                                                 use country_code   country  \\\n",
       "0            To buy seasonal, fresh fruits to sell.            PK  Pakistan   \n",
       "1  to repair and maintain the auto rickshaw used ...           PK  Pakistan   \n",
       "2  To repair their old cycle-van and buy another ...           IN     India   \n",
       "3  to purchase an embroidery machine and a variet...           PK  Pakistan   \n",
       "4                           to purchase one buffalo.           PK  Pakistan   \n",
       "\n",
       "         region currency  partner_id                posted_time  \\\n",
       "0        Lahore      PKR       247.0  2014-01-01 06:12:39+00:00   \n",
       "1        Lahore      PKR       247.0  2014-01-01 06:51:08+00:00   \n",
       "2     Maynaguri      INR       334.0  2014-01-01 09:58:07+00:00   \n",
       "3        Lahore      PKR       247.0  2014-01-01 08:03:11+00:00   \n",
       "4  Abdul Hakeem      PKR       245.0  2014-01-01 11:53:19+00:00   \n",
       "\n",
       "              disbursed_time                funded_time  term_in_months  \\\n",
       "0  2013-12-17 08:00:00+00:00  2014-01-02 10:06:32+00:00            12.0   \n",
       "1  2013-12-17 08:00:00+00:00  2014-01-02 09:17:23+00:00            11.0   \n",
       "2  2013-12-17 08:00:00+00:00  2014-01-01 16:01:36+00:00            43.0   \n",
       "3  2013-12-24 08:00:00+00:00  2014-01-01 13:00:00+00:00            11.0   \n",
       "4  2013-12-17 08:00:00+00:00  2014-01-01 19:18:51+00:00            14.0   \n",
       "\n",
       "   lender_count                          tags borrower_genders  \\\n",
       "0            12                           NaN           female   \n",
       "1            14                           NaN   female, female   \n",
       "2             6  user_favorite, user_favorite           female   \n",
       "3             8                           NaN           female   \n",
       "4            16                           NaN           female   \n",
       "\n",
       "  repayment_interval        date  \n",
       "0          irregular  2014-01-01  \n",
       "1          irregular  2014-01-01  \n",
       "2             bullet  2014-01-01  \n",
       "3          irregular  2014-01-01  \n",
       "4            monthly  2014-01-01  "
      ]
     },
     "execution_count": 2,
     "metadata": {},
     "output_type": "execute_result"
    }
   ],
   "source": [
    "data = pd.read_csv('kiva_loans.csv')\n",
    "data.head()"
   ]
  },
  {
   "cell_type": "markdown",
   "metadata": {},
   "source": [
    "Look at data columns, null values and data types."
   ]
  },
  {
   "cell_type": "code",
   "execution_count": 3,
   "metadata": {},
   "outputs": [
    {
     "name": "stdout",
     "output_type": "stream",
     "text": [
      "<class 'pandas.core.frame.DataFrame'>\n",
      "RangeIndex: 671205 entries, 0 to 671204\n",
      "Data columns (total 20 columns):\n",
      " #   Column              Non-Null Count   Dtype  \n",
      "---  ------              --------------   -----  \n",
      " 0   id                  671205 non-null  int64  \n",
      " 1   funded_amount       671205 non-null  float64\n",
      " 2   loan_amount         671205 non-null  float64\n",
      " 3   activity            671205 non-null  object \n",
      " 4   sector              671205 non-null  object \n",
      " 5   use                 666973 non-null  object \n",
      " 6   country_code        671197 non-null  object \n",
      " 7   country             671205 non-null  object \n",
      " 8   region              614405 non-null  object \n",
      " 9   currency            671205 non-null  object \n",
      " 10  partner_id          657698 non-null  float64\n",
      " 11  posted_time         671205 non-null  object \n",
      " 12  disbursed_time      668809 non-null  object \n",
      " 13  funded_time         622874 non-null  object \n",
      " 14  term_in_months      671205 non-null  float64\n",
      " 15  lender_count        671205 non-null  int64  \n",
      " 16  tags                499789 non-null  object \n",
      " 17  borrower_genders    666984 non-null  object \n",
      " 18  repayment_interval  671205 non-null  object \n",
      " 19  date                671205 non-null  object \n",
      "dtypes: float64(4), int64(2), object(14)\n",
      "memory usage: 102.4+ MB\n"
     ]
    }
   ],
   "source": [
    "data.info()"
   ]
  },
  {
   "cell_type": "markdown",
   "metadata": {},
   "source": [
    "I will drop the following columns because they do not any information that will help in the analysis of Kiva borrowers."
   ]
  },
  {
   "cell_type": "code",
   "execution_count": 4,
   "metadata": {},
   "outputs": [],
   "source": [
    "#drop the following columns because they do not have a direct relationship with the borrowers of Kiva.\n",
    "data.drop(['funded_amount', 'activity', 'use', 'country_code', 'region', 'currency', 'partner_id', 'posted_time', 'disbursed_time', 'funded_time', 'lender_count', 'tags'], axis=1, inplace=True)"
   ]
  },
  {
   "cell_type": "code",
   "execution_count": 5,
   "metadata": {},
   "outputs": [
    {
     "name": "stdout",
     "output_type": "stream",
     "text": [
      "<class 'pandas.core.frame.DataFrame'>\n",
      "RangeIndex: 671205 entries, 0 to 671204\n",
      "Data columns (total 8 columns):\n",
      " #   Column              Non-Null Count   Dtype  \n",
      "---  ------              --------------   -----  \n",
      " 0   id                  671205 non-null  int64  \n",
      " 1   loan_amount         671205 non-null  float64\n",
      " 2   sector              671205 non-null  object \n",
      " 3   country             671205 non-null  object \n",
      " 4   term_in_months      671205 non-null  float64\n",
      " 5   borrower_genders    666984 non-null  object \n",
      " 6   repayment_interval  671205 non-null  object \n",
      " 7   date                671205 non-null  object \n",
      "dtypes: float64(2), int64(1), object(5)\n",
      "memory usage: 41.0+ MB\n"
     ]
    }
   ],
   "source": [
    "data.info()"
   ]
  },
  {
   "cell_type": "code",
   "execution_count": 6,
   "metadata": {},
   "outputs": [
    {
     "data": {
      "text/html": [
       "<div>\n",
       "<style scoped>\n",
       "    .dataframe tbody tr th:only-of-type {\n",
       "        vertical-align: middle;\n",
       "    }\n",
       "\n",
       "    .dataframe tbody tr th {\n",
       "        vertical-align: top;\n",
       "    }\n",
       "\n",
       "    .dataframe thead th {\n",
       "        text-align: right;\n",
       "    }\n",
       "</style>\n",
       "<table border=\"1\" class=\"dataframe\">\n",
       "  <thead>\n",
       "    <tr style=\"text-align: right;\">\n",
       "      <th></th>\n",
       "      <th>id</th>\n",
       "      <th>loan_amount</th>\n",
       "      <th>sector</th>\n",
       "      <th>country</th>\n",
       "      <th>term_in_months</th>\n",
       "      <th>borrower_genders</th>\n",
       "      <th>repayment_interval</th>\n",
       "      <th>date</th>\n",
       "    </tr>\n",
       "  </thead>\n",
       "  <tbody>\n",
       "    <tr>\n",
       "      <th>523561</th>\n",
       "      <td>1183424</td>\n",
       "      <td>1200.0</td>\n",
       "      <td>Agriculture</td>\n",
       "      <td>Cambodia</td>\n",
       "      <td>19.0</td>\n",
       "      <td>female</td>\n",
       "      <td>monthly</td>\n",
       "      <td>2016-11-11</td>\n",
       "    </tr>\n",
       "    <tr>\n",
       "      <th>247004</th>\n",
       "      <td>894357</td>\n",
       "      <td>400.0</td>\n",
       "      <td>Food</td>\n",
       "      <td>Colombia</td>\n",
       "      <td>15.0</td>\n",
       "      <td>female</td>\n",
       "      <td>bullet</td>\n",
       "      <td>2015-05-29</td>\n",
       "    </tr>\n",
       "    <tr>\n",
       "      <th>235056</th>\n",
       "      <td>882940</td>\n",
       "      <td>1000.0</td>\n",
       "      <td>Clothing</td>\n",
       "      <td>Georgia</td>\n",
       "      <td>14.0</td>\n",
       "      <td>female</td>\n",
       "      <td>monthly</td>\n",
       "      <td>2015-05-11</td>\n",
       "    </tr>\n",
       "    <tr>\n",
       "      <th>436448</th>\n",
       "      <td>1095803</td>\n",
       "      <td>2200.0</td>\n",
       "      <td>Housing</td>\n",
       "      <td>Vietnam</td>\n",
       "      <td>14.0</td>\n",
       "      <td>female, female, female, female, female, female...</td>\n",
       "      <td>irregular</td>\n",
       "      <td>2016-06-07</td>\n",
       "    </tr>\n",
       "    <tr>\n",
       "      <th>567836</th>\n",
       "      <td>1228678</td>\n",
       "      <td>925.0</td>\n",
       "      <td>Agriculture</td>\n",
       "      <td>Myanmar (Burma)</td>\n",
       "      <td>9.0</td>\n",
       "      <td>male, male, male, male, male</td>\n",
       "      <td>bullet</td>\n",
       "      <td>2017-01-29</td>\n",
       "    </tr>\n",
       "    <tr>\n",
       "      <th>413787</th>\n",
       "      <td>1060225</td>\n",
       "      <td>925.0</td>\n",
       "      <td>Food</td>\n",
       "      <td>Peru</td>\n",
       "      <td>6.0</td>\n",
       "      <td>female</td>\n",
       "      <td>irregular</td>\n",
       "      <td>2016-04-25</td>\n",
       "    </tr>\n",
       "    <tr>\n",
       "      <th>20801</th>\n",
       "      <td>673805</td>\n",
       "      <td>400.0</td>\n",
       "      <td>Retail</td>\n",
       "      <td>Haiti</td>\n",
       "      <td>2.0</td>\n",
       "      <td>male</td>\n",
       "      <td>bullet</td>\n",
       "      <td>2014-02-20</td>\n",
       "    </tr>\n",
       "    <tr>\n",
       "      <th>631984</th>\n",
       "      <td>1294072</td>\n",
       "      <td>350.0</td>\n",
       "      <td>Food</td>\n",
       "      <td>Philippines</td>\n",
       "      <td>11.0</td>\n",
       "      <td>female</td>\n",
       "      <td>irregular</td>\n",
       "      <td>2017-05-08</td>\n",
       "    </tr>\n",
       "    <tr>\n",
       "      <th>206314</th>\n",
       "      <td>854108</td>\n",
       "      <td>575.0</td>\n",
       "      <td>Food</td>\n",
       "      <td>Philippines</td>\n",
       "      <td>11.0</td>\n",
       "      <td>female</td>\n",
       "      <td>irregular</td>\n",
       "      <td>2015-03-12</td>\n",
       "    </tr>\n",
       "    <tr>\n",
       "      <th>64682</th>\n",
       "      <td>716758</td>\n",
       "      <td>225.0</td>\n",
       "      <td>Food</td>\n",
       "      <td>Colombia</td>\n",
       "      <td>15.0</td>\n",
       "      <td>female</td>\n",
       "      <td>monthly</td>\n",
       "      <td>2014-05-27</td>\n",
       "    </tr>\n",
       "  </tbody>\n",
       "</table>\n",
       "</div>"
      ],
      "text/plain": [
       "             id  loan_amount       sector          country  term_in_months  \\\n",
       "523561  1183424       1200.0  Agriculture         Cambodia            19.0   \n",
       "247004   894357        400.0         Food         Colombia            15.0   \n",
       "235056   882940       1000.0     Clothing          Georgia            14.0   \n",
       "436448  1095803       2200.0      Housing          Vietnam            14.0   \n",
       "567836  1228678        925.0  Agriculture  Myanmar (Burma)             9.0   \n",
       "413787  1060225        925.0         Food             Peru             6.0   \n",
       "20801    673805        400.0       Retail            Haiti             2.0   \n",
       "631984  1294072        350.0         Food      Philippines            11.0   \n",
       "206314   854108        575.0         Food      Philippines            11.0   \n",
       "64682    716758        225.0         Food         Colombia            15.0   \n",
       "\n",
       "                                         borrower_genders repayment_interval  \\\n",
       "523561                                             female            monthly   \n",
       "247004                                             female             bullet   \n",
       "235056                                             female            monthly   \n",
       "436448  female, female, female, female, female, female...          irregular   \n",
       "567836                       male, male, male, male, male             bullet   \n",
       "413787                                             female          irregular   \n",
       "20801                                                male             bullet   \n",
       "631984                                             female          irregular   \n",
       "206314                                             female          irregular   \n",
       "64682                                              female            monthly   \n",
       "\n",
       "              date  \n",
       "523561  2016-11-11  \n",
       "247004  2015-05-29  \n",
       "235056  2015-05-11  \n",
       "436448  2016-06-07  \n",
       "567836  2017-01-29  \n",
       "413787  2016-04-25  \n",
       "20801   2014-02-20  \n",
       "631984  2017-05-08  \n",
       "206314  2015-03-12  \n",
       "64682   2014-05-27  "
      ]
     },
     "execution_count": 6,
     "metadata": {},
     "output_type": "execute_result"
    }
   ],
   "source": [
    "data.sample(10)"
   ]
  },
  {
   "cell_type": "markdown",
   "metadata": {},
   "source": [
    "I'll change the date column to a datetime data type for easy time analysis."
   ]
  },
  {
   "cell_type": "code",
   "execution_count": 7,
   "metadata": {},
   "outputs": [],
   "source": [
    "data['date'] = pd.to_datetime(data['date'], format='%Y-%m-%d')"
   ]
  },
  {
   "cell_type": "markdown",
   "metadata": {},
   "source": [
    "I'll use isnull() method and chain it with sum() to find the total number of nulls in each column in the DataFrame"
   ]
  },
  {
   "cell_type": "code",
   "execution_count": 8,
   "metadata": {},
   "outputs": [
    {
     "data": {
      "text/plain": [
       "id                       0\n",
       "loan_amount              0\n",
       "sector                   0\n",
       "country                  0\n",
       "term_in_months           0\n",
       "borrower_genders      4221\n",
       "repayment_interval       0\n",
       "date                     0\n",
       "dtype: int64"
      ]
     },
     "execution_count": 8,
     "metadata": {},
     "output_type": "execute_result"
    }
   ],
   "source": [
    "data.isnull().sum()"
   ]
  },
  {
   "cell_type": "code",
   "execution_count": 9,
   "metadata": {},
   "outputs": [
    {
     "data": {
      "text/plain": [
       "(671205, 8)"
      ]
     },
     "execution_count": 9,
     "metadata": {},
     "output_type": "execute_result"
    }
   ],
   "source": [
    "data.shape"
   ]
  },
  {
   "cell_type": "markdown",
   "metadata": {},
   "source": [
    "I'll drop the rows with missing values, since 4221 is not such a significant number to do away with in my DataFrame."
   ]
  },
  {
   "cell_type": "code",
   "execution_count": 10,
   "metadata": {},
   "outputs": [],
   "source": [
    "#drop any row with a missing value\n",
    "data.dropna(axis=0, how='any', inplace=True)"
   ]
  },
  {
   "cell_type": "code",
   "execution_count": 11,
   "metadata": {},
   "outputs": [
    {
     "data": {
      "text/plain": [
       "(666984, 8)"
      ]
     },
     "execution_count": 11,
     "metadata": {},
     "output_type": "execute_result"
    }
   ],
   "source": [
    "data.shape"
   ]
  },
  {
   "cell_type": "markdown",
   "metadata": {},
   "source": [
    "I have noticed some anomalies in the gender column that could have occurred during data collection, so I'll clean it up."
   ]
  },
  {
   "cell_type": "code",
   "execution_count": 12,
   "metadata": {},
   "outputs": [
    {
     "data": {
      "text/plain": [
       "3548        male\n",
       "402934      male\n",
       "530843    female\n",
       "443506    female\n",
       "376028    female\n",
       "344767    female\n",
       "29255     female\n",
       "437195    female\n",
       "93495     female\n",
       "150573    female\n",
       "Name: borrower_genders, dtype: object"
      ]
     },
     "execution_count": 12,
     "metadata": {},
     "output_type": "execute_result"
    }
   ],
   "source": [
    "data['borrower_genders'].sample(10)"
   ]
  },
  {
   "cell_type": "markdown",
   "metadata": {},
   "source": [
    "I'll create a new column, of boolean type, to contain strings that contains female. True contains female, and False will hence contain male."
   ]
  },
  {
   "cell_type": "code",
   "execution_count": 13,
   "metadata": {},
   "outputs": [],
   "source": [
    "data['female_gender'] = data['borrower_genders'].str.contains('female')"
   ]
  },
  {
   "cell_type": "markdown",
   "metadata": {},
   "source": [
    "I'll create a gender column that encodes the above classification into 'F' and 'M'."
   ]
  },
  {
   "cell_type": "code",
   "execution_count": 14,
   "metadata": {},
   "outputs": [],
   "source": [
    "data.loc[data['female_gender'] == True, 'gender'] = 'F'\n",
    "data.loc[data['female_gender'] == False, 'gender'] ='M'"
   ]
  },
  {
   "cell_type": "markdown",
   "metadata": {},
   "source": [
    "I will drop the following columns since I now have a clean gender column. Using the drop() method, with axis and inplace arguments."
   ]
  },
  {
   "cell_type": "code",
   "execution_count": 15,
   "metadata": {},
   "outputs": [],
   "source": [
    "data.drop(['borrower_genders', 'female_gender'], axis=1, inplace=True)"
   ]
  },
  {
   "cell_type": "markdown",
   "metadata": {},
   "source": [
    "Now let's look at unique values and their counts in the gender column, using value_counts() method."
   ]
  },
  {
   "cell_type": "code",
   "execution_count": 16,
   "metadata": {},
   "outputs": [
    {
     "name": "stdout",
     "output_type": "stream",
     "text": [
      "F    528461\n",
      "M    138523\n",
      "Name: gender, dtype: int64\n"
     ]
    }
   ],
   "source": [
    "print(data['gender'].value_counts())"
   ]
  },
  {
   "cell_type": "markdown",
   "metadata": {},
   "source": [
    "I will convert the gender column into a category."
   ]
  },
  {
   "cell_type": "code",
   "execution_count": 17,
   "metadata": {},
   "outputs": [
    {
     "name": "stdout",
     "output_type": "stream",
     "text": [
      "95205     M\n",
      "504652    M\n",
      "613836    F\n",
      "81214     F\n",
      "77        M\n",
      "Name: gender, dtype: category\n",
      "Categories (2, object): [F < M]\n"
     ]
    }
   ],
   "source": [
    "category = ['F', 'M']\n",
    "cat_dtype = pd.api.types.CategoricalDtype(categories=category, ordered=True)\n",
    "data['gender'] = data['gender'].astype(cat_dtype)\n",
    "\n",
    "print(data.gender.sample(5))"
   ]
  },
  {
   "cell_type": "markdown",
   "metadata": {},
   "source": [
    "Let's look at the repayment_interval column.\n",
    "Use value_counts() to find counts of unique values in the column."
   ]
  },
  {
   "cell_type": "code",
   "execution_count": 18,
   "metadata": {},
   "outputs": [
    {
     "name": "stdout",
     "output_type": "stream",
     "text": [
      "monthly      340171\n",
      "irregular    256573\n",
      "bullet        69638\n",
      "weekly          602\n",
      "Name: repayment_interval, dtype: int64\n"
     ]
    }
   ],
   "source": [
    "print(data['repayment_interval'].value_counts())"
   ]
  },
  {
   "cell_type": "markdown",
   "metadata": {},
   "source": [
    "bullet could mean daily, so I'll change it."
   ]
  },
  {
   "cell_type": "code",
   "execution_count": 19,
   "metadata": {},
   "outputs": [],
   "source": [
    "data.loc[data['repayment_interval'] == 'bullet', 'repayment_interval'] = 'daily'"
   ]
  },
  {
   "cell_type": "markdown",
   "metadata": {},
   "source": [
    "I'll change the repayment_interval column to a category too. Directly, using astype() method, with category as an argument."
   ]
  },
  {
   "cell_type": "code",
   "execution_count": 20,
   "metadata": {},
   "outputs": [
    {
     "name": "stdout",
     "output_type": "stream",
     "text": [
      "category\n",
      "monthly      340171\n",
      "irregular    256573\n",
      "daily         69638\n",
      "weekly          602\n",
      "Name: repayment_interval, dtype: int64\n"
     ]
    }
   ],
   "source": [
    "data['repayment_interval'] = data['repayment_interval'].astype('category')\n",
    "print(data['repayment_interval'].dtype)\n",
    "print(data.repayment_interval.value_counts())"
   ]
  },
  {
   "cell_type": "markdown",
   "metadata": {},
   "source": [
    "Let's look at the country column"
   ]
  },
  {
   "cell_type": "code",
   "execution_count": 21,
   "metadata": {},
   "outputs": [
    {
     "data": {
      "text/plain": [
       "0    Pakistan\n",
       "1    Pakistan\n",
       "2       India\n",
       "3    Pakistan\n",
       "4    Pakistan\n",
       "Name: country, dtype: object"
      ]
     },
     "execution_count": 21,
     "metadata": {},
     "output_type": "execute_result"
    }
   ],
   "source": [
    "data.country.head()"
   ]
  },
  {
   "cell_type": "code",
   "execution_count": 22,
   "metadata": {},
   "outputs": [
    {
     "name": "stdout",
     "output_type": "stream",
     "text": [
      "['Pakistan' 'India' 'Kenya' 'Nicaragua' 'El Salvador' 'Tanzania'\n",
      " 'Philippines' 'Peru' 'Senegal' 'Cambodia' 'Liberia' 'Vietnam' 'Iraq'\n",
      " 'Honduras' 'Palestine' 'Mongolia' 'United States' 'Mali' 'Colombia'\n",
      " 'Tajikistan' 'Guatemala' 'Ecuador' 'Bolivia' 'Yemen' 'Ghana'\n",
      " 'Sierra Leone' 'Haiti' 'Chile' 'Jordan' 'Uganda' 'Burundi' 'Burkina Faso'\n",
      " 'Timor-Leste' 'Indonesia' 'Georgia' 'Ukraine' 'Kosovo' 'Albania'\n",
      " 'The Democratic Republic of the Congo' 'Costa Rica' 'Somalia' 'Zimbabwe'\n",
      " 'Cameroon' 'Turkey' 'Azerbaijan' 'Dominican Republic' 'Brazil' 'Mexico'\n",
      " 'Kyrgyzstan' 'Armenia' 'Paraguay' 'Lebanon' 'Samoa' 'Israel' 'Rwanda'\n",
      " 'Zambia' 'Nepal' 'Congo' 'Mozambique' 'South Africa' 'Togo' 'Benin'\n",
      " 'Belize' 'Suriname' 'Thailand' 'Nigeria' 'Mauritania' 'Vanuatu' 'Panama'\n",
      " 'Virgin Islands' 'Saint Vincent and the Grenadines'\n",
      " \"Lao People's Democratic Republic\" 'Myanmar (Burma)' 'Malawi' 'Moldova'\n",
      " 'South Sudan' 'Solomon Islands' 'China' 'Egypt' 'Guam' 'Afghanistan'\n",
      " 'Madagascar' 'Namibia' 'Puerto Rico' 'Lesotho' \"Cote D'Ivoire\" 'Bhutan']\n",
      "87\n"
     ]
    }
   ],
   "source": [
    "print(data.country.unique())\n",
    "print(data.country.nunique())"
   ]
  },
  {
   "cell_type": "markdown",
   "metadata": {},
   "source": [
    "Let's also look at the sector column"
   ]
  },
  {
   "cell_type": "code",
   "execution_count": 23,
   "metadata": {},
   "outputs": [
    {
     "name": "stdout",
     "output_type": "stream",
     "text": [
      "['Food' 'Transportation' 'Arts' 'Services' 'Agriculture' 'Manufacturing'\n",
      " 'Wholesale' 'Retail' 'Clothing' 'Construction' 'Health' 'Education'\n",
      " 'Personal Use' 'Housing' 'Entertainment']\n",
      "15\n"
     ]
    },
    {
     "data": {
      "text/plain": [
       "Agriculture       179224\n",
       "Food              135749\n",
       "Retail            123758\n",
       "Services           44699\n",
       "Personal Use       36247\n",
       "Housing            33571\n",
       "Clothing           32480\n",
       "Education          30837\n",
       "Transportation     15455\n",
       "Arts               11994\n",
       "Health              9172\n",
       "Construction        6194\n",
       "Manufacturing       6158\n",
       "Entertainment        820\n",
       "Wholesale            626\n",
       "Name: sector, dtype: int64"
      ]
     },
     "execution_count": 23,
     "metadata": {},
     "output_type": "execute_result"
    }
   ],
   "source": [
    "print(data.sector.unique())\n",
    "print(data.sector.nunique())\n",
    "data.sector.value_counts()"
   ]
  },
  {
   "cell_type": "markdown",
   "metadata": {},
   "source": [
    "Because Food and Agriculture are directly related, I have changed them to one: Agriculture"
   ]
  },
  {
   "cell_type": "code",
   "execution_count": 24,
   "metadata": {},
   "outputs": [
    {
     "data": {
      "text/plain": [
       "array(['Agriculture', 'Transportation', 'Arts', 'Services',\n",
       "       'Manufacturing', 'Wholesale', 'Retail', 'Clothing', 'Construction',\n",
       "       'Health', 'Education', 'Personal Use', 'Housing', 'Entertainment'],\n",
       "      dtype=object)"
      ]
     },
     "execution_count": 24,
     "metadata": {},
     "output_type": "execute_result"
    }
   ],
   "source": [
    "data.loc[data['sector'] == 'Food', 'sector'] = 'Agriculture'\n",
    "data.sector.unique()"
   ]
  },
  {
   "cell_type": "markdown",
   "metadata": {},
   "source": [
    "Check for duplicates in the whole DataFrame using the duplicated() method."
   ]
  },
  {
   "cell_type": "code",
   "execution_count": 25,
   "metadata": {},
   "outputs": [
    {
     "data": {
      "text/plain": [
       "0"
      ]
     },
     "execution_count": 25,
     "metadata": {},
     "output_type": "execute_result"
    }
   ],
   "source": [
    "data.duplicated().sum()"
   ]
  },
  {
   "cell_type": "markdown",
   "metadata": {},
   "source": [
    "### Testing hypothesis towards finding out about the borrowers in Kiva.\n",
    "\n",
    "\n",
    "1.Who are they?-Gender.\n",
    "2.What do they do?-Sector\n",
    "3.Where do they come from?-Country\n",
    "4.How long have they borrowed?-term in months\n",
    "5.How do they pay? Poverty levels? -repayment intervals\n",
    "6.Which country borrows the most or the least? & In which sector?\n"
   ]
  },
  {
   "cell_type": "markdown",
   "metadata": {},
   "source": [
    "#### 1.What is the gender of most borrowers in Kiva? "
   ]
  },
  {
   "cell_type": "markdown",
   "metadata": {},
   "source": [
    "###### My hypothesis is that most borrowers in Kiva are female."
   ]
  },
  {
   "cell_type": "markdown",
   "metadata": {},
   "source": [
    "I will create variables with counts of each gender and use the total to calculate the percentage of each gender."
   ]
  },
  {
   "cell_type": "code",
   "execution_count": 26,
   "metadata": {},
   "outputs": [
    {
     "name": "stdout",
     "output_type": "stream",
     "text": [
      "The female borrowers are: 79%\n",
      "The male borrowers are: 21%\n"
     ]
    }
   ],
   "source": [
    "female_borrowers = data.gender[data['gender'] == 'F'].count()\n",
    "male_borrowers = data.gender[data['gender'] == 'M'].count()\n",
    "total_borrowers = data.shape[0]\n",
    "print('The female borrowers are: {:.0%}'.format(female_borrowers /total_borrowers))\n",
    "print('The male borrowers are: {:.0%}'.format(male_borrowers /total_borrowers))"
   ]
  },
  {
   "cell_type": "markdown",
   "metadata": {},
   "source": [
    "##### Female borrowers, at 79% are more than male borrowers at 21%."
   ]
  },
  {
   "cell_type": "markdown",
   "metadata": {},
   "source": [
    "#### 2.In which sector are the female and male genders involved in respectively?"
   ]
  },
  {
   "cell_type": "markdown",
   "metadata": {},
   "source": [
    "###### My hypothesis is that most female are in the Agriculture sector, and male in the Transportation sector."
   ]
  },
  {
   "cell_type": "code",
   "execution_count": 27,
   "metadata": {},
   "outputs": [
    {
     "data": {
      "text/html": [
       "<div>\n",
       "<style scoped>\n",
       "    .dataframe tbody tr th:only-of-type {\n",
       "        vertical-align: middle;\n",
       "    }\n",
       "\n",
       "    .dataframe tbody tr th {\n",
       "        vertical-align: top;\n",
       "    }\n",
       "\n",
       "    .dataframe thead th {\n",
       "        text-align: right;\n",
       "    }\n",
       "</style>\n",
       "<table border=\"1\" class=\"dataframe\">\n",
       "  <thead>\n",
       "    <tr style=\"text-align: right;\">\n",
       "      <th></th>\n",
       "      <th>id</th>\n",
       "      <th>loan_amount</th>\n",
       "      <th>sector</th>\n",
       "      <th>country</th>\n",
       "      <th>term_in_months</th>\n",
       "      <th>repayment_interval</th>\n",
       "      <th>date</th>\n",
       "      <th>gender</th>\n",
       "    </tr>\n",
       "  </thead>\n",
       "  <tbody>\n",
       "    <tr>\n",
       "      <th>0</th>\n",
       "      <td>653051</td>\n",
       "      <td>300.0</td>\n",
       "      <td>Agriculture</td>\n",
       "      <td>Pakistan</td>\n",
       "      <td>12.0</td>\n",
       "      <td>irregular</td>\n",
       "      <td>2014-01-01</td>\n",
       "      <td>F</td>\n",
       "    </tr>\n",
       "    <tr>\n",
       "      <th>1</th>\n",
       "      <td>653053</td>\n",
       "      <td>575.0</td>\n",
       "      <td>Transportation</td>\n",
       "      <td>Pakistan</td>\n",
       "      <td>11.0</td>\n",
       "      <td>irregular</td>\n",
       "      <td>2014-01-01</td>\n",
       "      <td>F</td>\n",
       "    </tr>\n",
       "    <tr>\n",
       "      <th>2</th>\n",
       "      <td>653068</td>\n",
       "      <td>150.0</td>\n",
       "      <td>Transportation</td>\n",
       "      <td>India</td>\n",
       "      <td>43.0</td>\n",
       "      <td>daily</td>\n",
       "      <td>2014-01-01</td>\n",
       "      <td>F</td>\n",
       "    </tr>\n",
       "    <tr>\n",
       "      <th>3</th>\n",
       "      <td>653063</td>\n",
       "      <td>200.0</td>\n",
       "      <td>Arts</td>\n",
       "      <td>Pakistan</td>\n",
       "      <td>11.0</td>\n",
       "      <td>irregular</td>\n",
       "      <td>2014-01-01</td>\n",
       "      <td>F</td>\n",
       "    </tr>\n",
       "    <tr>\n",
       "      <th>4</th>\n",
       "      <td>653084</td>\n",
       "      <td>400.0</td>\n",
       "      <td>Agriculture</td>\n",
       "      <td>Pakistan</td>\n",
       "      <td>14.0</td>\n",
       "      <td>monthly</td>\n",
       "      <td>2014-01-01</td>\n",
       "      <td>F</td>\n",
       "    </tr>\n",
       "  </tbody>\n",
       "</table>\n",
       "</div>"
      ],
      "text/plain": [
       "       id  loan_amount          sector   country  term_in_months  \\\n",
       "0  653051        300.0     Agriculture  Pakistan            12.0   \n",
       "1  653053        575.0  Transportation  Pakistan            11.0   \n",
       "2  653068        150.0  Transportation     India            43.0   \n",
       "3  653063        200.0            Arts  Pakistan            11.0   \n",
       "4  653084        400.0     Agriculture  Pakistan            14.0   \n",
       "\n",
       "  repayment_interval       date gender  \n",
       "0          irregular 2014-01-01      F  \n",
       "1          irregular 2014-01-01      F  \n",
       "2              daily 2014-01-01      F  \n",
       "3          irregular 2014-01-01      F  \n",
       "4            monthly 2014-01-01      F  "
      ]
     },
     "execution_count": 27,
     "metadata": {},
     "output_type": "execute_result"
    }
   ],
   "source": [
    "female_data = data[data['gender'] == 'F']\n",
    "male_data = data[data['gender'] == 'M']\n",
    "female_data.head(5)\n",
    "#male_data.sample(10)"
   ]
  },
  {
   "cell_type": "code",
   "execution_count": 28,
   "metadata": {},
   "outputs": [
    {
     "data": {
      "text/plain": [
       "Agriculture       250078\n",
       "Retail            109244\n",
       "Services           34512\n",
       "Clothing           29752\n",
       "Personal Use       27580\n",
       "Housing            25177\n",
       "Education          19008\n",
       "Arts               10758\n",
       "Transportation      8521\n",
       "Health              6203\n",
       "Manufacturing       3799\n",
       "Construction        3047\n",
       "Entertainment        424\n",
       "Wholesale            358\n",
       "Name: sector, dtype: int64"
      ]
     },
     "execution_count": 28,
     "metadata": {},
     "output_type": "execute_result"
    }
   ],
   "source": [
    "female_data['sector'].value_counts()"
   ]
  },
  {
   "cell_type": "markdown",
   "metadata": {},
   "source": [
    "Most female borrowers are in the Agriculture sector."
   ]
  },
  {
   "cell_type": "code",
   "execution_count": 29,
   "metadata": {},
   "outputs": [
    {
     "name": "stdout",
     "output_type": "stream",
     "text": [
      "The sector with the most amount of loan borrowed: Agriculture\n",
      "The highest loan amount borrowed per sector:262627050\n"
     ]
    }
   ],
   "source": [
    "print('The sector with the most amount of loan borrowed:', data.groupby('sector')['loan_amount'].sum().idxmax())\n",
    "print('The highest loan amount borrowed per sector:{:.0f}'.format(data.groupby('sector')['loan_amount'].sum().max()))"
   ]
  },
  {
   "cell_type": "code",
   "execution_count": 30,
   "metadata": {},
   "outputs": [
    {
     "data": {
      "text/plain": [
       "Agriculture       64895\n",
       "Retail            14514\n",
       "Education         11829\n",
       "Services          10187\n",
       "Personal Use       8667\n",
       "Housing            8394\n",
       "Transportation     6934\n",
       "Construction       3147\n",
       "Health             2969\n",
       "Clothing           2728\n",
       "Manufacturing      2359\n",
       "Arts               1236\n",
       "Entertainment       396\n",
       "Wholesale           268\n",
       "Name: sector, dtype: int64"
      ]
     },
     "execution_count": 30,
     "metadata": {},
     "output_type": "execute_result"
    }
   ],
   "source": [
    "male_data['sector'].value_counts()"
   ]
  },
  {
   "cell_type": "markdown",
   "metadata": {},
   "source": [
    "Most male borrowers are also in the Agriculture sector."
   ]
  },
  {
   "cell_type": "markdown",
   "metadata": {},
   "source": [
    "##### Both male and female borrowers are in the agricultural sector."
   ]
  },
  {
   "cell_type": "markdown",
   "metadata": {},
   "source": [
    "#### 3. In which country do most borrowers come from?"
   ]
  },
  {
   "cell_type": "code",
   "execution_count": 53,
   "metadata": {},
   "outputs": [
    {
     "data": {
      "text/html": [
       "<div>\n",
       "<style scoped>\n",
       "    .dataframe tbody tr th:only-of-type {\n",
       "        vertical-align: middle;\n",
       "    }\n",
       "\n",
       "    .dataframe tbody tr th {\n",
       "        vertical-align: top;\n",
       "    }\n",
       "\n",
       "    .dataframe thead tr th {\n",
       "        text-align: left;\n",
       "    }\n",
       "\n",
       "    .dataframe thead tr:last-of-type th {\n",
       "        text-align: right;\n",
       "    }\n",
       "</style>\n",
       "<table border=\"1\" class=\"dataframe\">\n",
       "  <thead>\n",
       "    <tr>\n",
       "      <th></th>\n",
       "      <th></th>\n",
       "      <th>gender</th>\n",
       "    </tr>\n",
       "    <tr>\n",
       "      <th></th>\n",
       "      <th></th>\n",
       "      <th>value_counts</th>\n",
       "    </tr>\n",
       "    <tr>\n",
       "      <th>country</th>\n",
       "      <th>gender</th>\n",
       "      <th></th>\n",
       "    </tr>\n",
       "  </thead>\n",
       "  <tbody>\n",
       "    <tr>\n",
       "      <th>Afghanistan</th>\n",
       "      <th>F</th>\n",
       "      <td>2</td>\n",
       "    </tr>\n",
       "    <tr>\n",
       "      <th rowspan=\"2\" valign=\"top\">Albania</th>\n",
       "      <th>F</th>\n",
       "      <td>1018</td>\n",
       "    </tr>\n",
       "    <tr>\n",
       "      <th>M</th>\n",
       "      <td>899</td>\n",
       "    </tr>\n",
       "    <tr>\n",
       "      <th rowspan=\"2\" valign=\"top\">Armenia</th>\n",
       "      <th>F</th>\n",
       "      <td>5383</td>\n",
       "    </tr>\n",
       "    <tr>\n",
       "      <th>M</th>\n",
       "      <td>3245</td>\n",
       "    </tr>\n",
       "  </tbody>\n",
       "</table>\n",
       "</div>"
      ],
      "text/plain": [
       "                         gender\n",
       "                   value_counts\n",
       "country     gender             \n",
       "Afghanistan F                 2\n",
       "Albania     F              1018\n",
       "            M               899\n",
       "Armenia     F              5383\n",
       "            M              3245"
      ]
     },
     "execution_count": 53,
     "metadata": {},
     "output_type": "execute_result"
    }
   ],
   "source": [
    "country_grouped = data.groupby('country').agg({'gender': ['value_counts']})\n",
    "country_grouped.head(5)"
   ]
  },
  {
   "cell_type": "code",
   "execution_count": 60,
   "metadata": {},
   "outputs": [
    {
     "data": {
      "text/plain": [
       "pandas.core.frame.DataFrame"
      ]
     },
     "execution_count": 60,
     "metadata": {},
     "output_type": "execute_result"
    }
   ],
   "source": [
    "type(country_grouped)"
   ]
  },
  {
   "cell_type": "code",
   "execution_count": 52,
   "metadata": {},
   "outputs": [
    {
     "name": "stdout",
     "output_type": "stream",
     "text": [
      "value_counts    (Bhutan, F)\n",
      "dtype: object value_counts    1\n",
      "dtype: int64\n"
     ]
    }
   ],
   "source": [
    "print(country_grouped['gender'].idxmin(), country_grouped['gender'].min())"
   ]
  },
  {
   "cell_type": "code",
   "execution_count": 34,
   "metadata": {},
   "outputs": [
    {
     "name": "stdout",
     "output_type": "stream",
     "text": [
      "value_counts    (Philippines, F)\n",
      "dtype: object value_counts    151984\n",
      "dtype: int64\n"
     ]
    }
   ],
   "source": [
    "print(country_grouped['gender'].idxmax(), country_grouped['gender'].max())"
   ]
  },
  {
   "cell_type": "markdown",
   "metadata": {},
   "source": [
    "##### The highest country borrrower is Phillipines. In Phillippines, the female gender borrows the most.\n",
    "##### The lowest country borrower is Bhutan. With one female borrower.\n",
    "\n",
    "Why Phillipines? Is Kiva a Phillipines' company? Have more financial campaigns been done in Phillipines?"
   ]
  },
  {
   "cell_type": "markdown",
   "metadata": {},
   "source": [
    "#### 4. How long have they borrowed?\n",
    "Which is the longest borrowing gender?\n",
    "Which is the longest borrowing country?"
   ]
  },
  {
   "cell_type": "code",
   "execution_count": 66,
   "metadata": {},
   "outputs": [
    {
     "data": {
      "text/plain": [
       "count    666984.000000\n",
       "mean         13.730235\n",
       "std           8.596158\n",
       "min           1.000000\n",
       "25%           8.000000\n",
       "50%          13.000000\n",
       "75%          14.000000\n",
       "max         158.000000\n",
       "Name: term_in_months, dtype: float64"
      ]
     },
     "execution_count": 66,
     "metadata": {},
     "output_type": "execute_result"
    }
   ],
   "source": [
    "data.term_in_months.sample(5)\n",
    "data.term_in_months.describe()"
   ]
  },
  {
   "cell_type": "code",
   "execution_count": 82,
   "metadata": {},
   "outputs": [
    {
     "data": {
      "text/plain": [
       "gender\n",
       "F    158.0\n",
       "M    154.0\n",
       "Name: term_in_months, dtype: float64"
      ]
     },
     "execution_count": 82,
     "metadata": {},
     "output_type": "execute_result"
    }
   ],
   "source": [
    "term_gender = data.groupby('gender')['term_in_months'].max()\n",
    "term_gender"
   ]
  },
  {
   "cell_type": "code",
   "execution_count": 84,
   "metadata": {},
   "outputs": [
    {
     "data": {
      "text/plain": [
       "country\n",
       "Dominican Republic    158.0\n",
       "Mexico                144.0\n",
       "South Africa          141.0\n",
       "Kenya                 122.0\n",
       "Cambodia              120.0\n",
       "                      ...  \n",
       "Lesotho                12.0\n",
       "Cote D'Ivoire          10.0\n",
       "Congo                   8.0\n",
       "Afghanistan             8.0\n",
       "Namibia                 7.0\n",
       "Name: term_in_months, Length: 87, dtype: float64"
      ]
     },
     "execution_count": 84,
     "metadata": {},
     "output_type": "execute_result"
    }
   ],
   "source": [
    "term_country = data.groupby('country')['term_in_months'].max()\n",
    "term_country.sort_values(ascending=False)"
   ]
  },
  {
   "cell_type": "code",
   "execution_count": 70,
   "metadata": {},
   "outputs": [
    {
     "data": {
      "text/html": [
       "<div>\n",
       "<style scoped>\n",
       "    .dataframe tbody tr th:only-of-type {\n",
       "        vertical-align: middle;\n",
       "    }\n",
       "\n",
       "    .dataframe tbody tr th {\n",
       "        vertical-align: top;\n",
       "    }\n",
       "\n",
       "    .dataframe thead th {\n",
       "        text-align: right;\n",
       "    }\n",
       "</style>\n",
       "<table border=\"1\" class=\"dataframe\">\n",
       "  <thead>\n",
       "    <tr style=\"text-align: right;\">\n",
       "      <th></th>\n",
       "      <th>id</th>\n",
       "      <th>loan_amount</th>\n",
       "      <th>sector</th>\n",
       "      <th>country</th>\n",
       "      <th>term_in_months</th>\n",
       "      <th>repayment_interval</th>\n",
       "      <th>date</th>\n",
       "      <th>gender</th>\n",
       "    </tr>\n",
       "  </thead>\n",
       "  <tbody>\n",
       "    <tr>\n",
       "      <th>215863</th>\n",
       "      <td>863993</td>\n",
       "      <td>6725.0</td>\n",
       "      <td>Education</td>\n",
       "      <td>Dominican Republic</td>\n",
       "      <td>158.0</td>\n",
       "      <td>irregular</td>\n",
       "      <td>2015-03-30</td>\n",
       "      <td>F</td>\n",
       "    </tr>\n",
       "  </tbody>\n",
       "</table>\n",
       "</div>"
      ],
      "text/plain": [
       "            id  loan_amount     sector             country  term_in_months  \\\n",
       "215863  863993       6725.0  Education  Dominican Republic           158.0   \n",
       "\n",
       "       repayment_interval       date gender  \n",
       "215863          irregular 2015-03-30      F  "
      ]
     },
     "execution_count": 70,
     "metadata": {},
     "output_type": "execute_result"
    }
   ],
   "source": [
    "data.loc[data['term_in_months'] == 158]"
   ]
  },
  {
   "cell_type": "markdown",
   "metadata": {},
   "source": [
    "term_sorted = data[['loan_amount', 'sector', 'country', 'term_in_months', 'gender']]\n",
    "term_sorted.drop_duplicates(subset='term_in_months', keep=False)\n",
    "#term_sorted.sort_values(by='term_in_months', axis=1, ascending=False, inplace=True)\n",
    "term_sorted.head(10)"
   ]
  },
  {
   "cell_type": "code",
   "execution_count": 67,
   "metadata": {},
   "outputs": [
    {
     "data": {
      "text/html": [
       "<div>\n",
       "<style scoped>\n",
       "    .dataframe tbody tr th:only-of-type {\n",
       "        vertical-align: middle;\n",
       "    }\n",
       "\n",
       "    .dataframe tbody tr th {\n",
       "        vertical-align: top;\n",
       "    }\n",
       "\n",
       "    .dataframe thead th {\n",
       "        text-align: right;\n",
       "    }\n",
       "</style>\n",
       "<table border=\"1\" class=\"dataframe\">\n",
       "  <thead>\n",
       "    <tr style=\"text-align: right;\">\n",
       "      <th></th>\n",
       "      <th>id</th>\n",
       "      <th>loan_amount</th>\n",
       "      <th>sector</th>\n",
       "      <th>country</th>\n",
       "      <th>term_in_months</th>\n",
       "      <th>repayment_interval</th>\n",
       "      <th>date</th>\n",
       "      <th>gender</th>\n",
       "    </tr>\n",
       "  </thead>\n",
       "  <tbody>\n",
       "    <tr>\n",
       "      <th>671199</th>\n",
       "      <td>1340318</td>\n",
       "      <td>25.0</td>\n",
       "      <td>Agriculture</td>\n",
       "      <td>Paraguay</td>\n",
       "      <td>13.0</td>\n",
       "      <td>monthly</td>\n",
       "      <td>2017-07-25</td>\n",
       "      <td>F</td>\n",
       "    </tr>\n",
       "    <tr>\n",
       "      <th>671200</th>\n",
       "      <td>1340323</td>\n",
       "      <td>25.0</td>\n",
       "      <td>Agriculture</td>\n",
       "      <td>Paraguay</td>\n",
       "      <td>13.0</td>\n",
       "      <td>monthly</td>\n",
       "      <td>2017-07-25</td>\n",
       "      <td>F</td>\n",
       "    </tr>\n",
       "    <tr>\n",
       "      <th>671201</th>\n",
       "      <td>1340316</td>\n",
       "      <td>25.0</td>\n",
       "      <td>Agriculture</td>\n",
       "      <td>Kenya</td>\n",
       "      <td>13.0</td>\n",
       "      <td>monthly</td>\n",
       "      <td>2017-07-25</td>\n",
       "      <td>F</td>\n",
       "    </tr>\n",
       "    <tr>\n",
       "      <th>671203</th>\n",
       "      <td>1340338</td>\n",
       "      <td>25.0</td>\n",
       "      <td>Agriculture</td>\n",
       "      <td>Kenya</td>\n",
       "      <td>13.0</td>\n",
       "      <td>monthly</td>\n",
       "      <td>2017-07-26</td>\n",
       "      <td>F</td>\n",
       "    </tr>\n",
       "    <tr>\n",
       "      <th>671204</th>\n",
       "      <td>1340339</td>\n",
       "      <td>25.0</td>\n",
       "      <td>Agriculture</td>\n",
       "      <td>Kenya</td>\n",
       "      <td>13.0</td>\n",
       "      <td>monthly</td>\n",
       "      <td>2017-07-26</td>\n",
       "      <td>F</td>\n",
       "    </tr>\n",
       "  </tbody>\n",
       "</table>\n",
       "</div>"
      ],
      "text/plain": [
       "             id  loan_amount       sector   country  term_in_months  \\\n",
       "671199  1340318         25.0  Agriculture  Paraguay            13.0   \n",
       "671200  1340323         25.0  Agriculture  Paraguay            13.0   \n",
       "671201  1340316         25.0  Agriculture     Kenya            13.0   \n",
       "671203  1340338         25.0  Agriculture     Kenya            13.0   \n",
       "671204  1340339         25.0  Agriculture     Kenya            13.0   \n",
       "\n",
       "       repayment_interval       date gender  \n",
       "671199            monthly 2017-07-25      F  \n",
       "671200            monthly 2017-07-25      F  \n",
       "671201            monthly 2017-07-25      F  \n",
       "671203            monthly 2017-07-26      F  \n",
       "671204            monthly 2017-07-26      F  "
      ]
     },
     "execution_count": 67,
     "metadata": {},
     "output_type": "execute_result"
    }
   ],
   "source": [
    "data.tail()"
   ]
  },
  {
   "cell_type": "code",
   "execution_count": 72,
   "metadata": {
    "scrolled": true
   },
   "outputs": [
    {
     "data": {
      "text/html": [
       "<div>\n",
       "<style scoped>\n",
       "    .dataframe tbody tr th:only-of-type {\n",
       "        vertical-align: middle;\n",
       "    }\n",
       "\n",
       "    .dataframe tbody tr th {\n",
       "        vertical-align: top;\n",
       "    }\n",
       "\n",
       "    .dataframe thead th {\n",
       "        text-align: right;\n",
       "    }\n",
       "</style>\n",
       "<table border=\"1\" class=\"dataframe\">\n",
       "  <thead>\n",
       "    <tr style=\"text-align: right;\">\n",
       "      <th></th>\n",
       "      <th>id</th>\n",
       "      <th>loan_amount</th>\n",
       "      <th>sector</th>\n",
       "      <th>country</th>\n",
       "      <th>term_in_months</th>\n",
       "      <th>repayment_interval</th>\n",
       "      <th>date</th>\n",
       "      <th>gender</th>\n",
       "    </tr>\n",
       "  </thead>\n",
       "  <tbody>\n",
       "    <tr>\n",
       "      <th>1877</th>\n",
       "      <td>1080189</td>\n",
       "      <td>125.0</td>\n",
       "      <td>Services</td>\n",
       "      <td>Kenya</td>\n",
       "      <td>1.0</td>\n",
       "      <td>irregular</td>\n",
       "      <td>2014-01-08</td>\n",
       "      <td>M</td>\n",
       "    </tr>\n",
       "    <tr>\n",
       "      <th>2915</th>\n",
       "      <td>1080219</td>\n",
       "      <td>250.0</td>\n",
       "      <td>Clothing</td>\n",
       "      <td>Kenya</td>\n",
       "      <td>1.0</td>\n",
       "      <td>irregular</td>\n",
       "      <td>2014-01-10</td>\n",
       "      <td>F</td>\n",
       "    </tr>\n",
       "    <tr>\n",
       "      <th>4277</th>\n",
       "      <td>1080268</td>\n",
       "      <td>125.0</td>\n",
       "      <td>Agriculture</td>\n",
       "      <td>Kenya</td>\n",
       "      <td>1.0</td>\n",
       "      <td>irregular</td>\n",
       "      <td>2014-01-15</td>\n",
       "      <td>M</td>\n",
       "    </tr>\n",
       "    <tr>\n",
       "      <th>6772</th>\n",
       "      <td>1080311</td>\n",
       "      <td>125.0</td>\n",
       "      <td>Clothing</td>\n",
       "      <td>Kenya</td>\n",
       "      <td>1.0</td>\n",
       "      <td>irregular</td>\n",
       "      <td>2014-01-21</td>\n",
       "      <td>F</td>\n",
       "    </tr>\n",
       "    <tr>\n",
       "      <th>7851</th>\n",
       "      <td>1080328</td>\n",
       "      <td>125.0</td>\n",
       "      <td>Services</td>\n",
       "      <td>Kenya</td>\n",
       "      <td>1.0</td>\n",
       "      <td>weekly</td>\n",
       "      <td>2014-01-23</td>\n",
       "      <td>M</td>\n",
       "    </tr>\n",
       "    <tr>\n",
       "      <th>10478</th>\n",
       "      <td>1080374</td>\n",
       "      <td>125.0</td>\n",
       "      <td>Clothing</td>\n",
       "      <td>Kenya</td>\n",
       "      <td>1.0</td>\n",
       "      <td>irregular</td>\n",
       "      <td>2014-01-29</td>\n",
       "      <td>F</td>\n",
       "    </tr>\n",
       "    <tr>\n",
       "      <th>11319</th>\n",
       "      <td>1080391</td>\n",
       "      <td>250.0</td>\n",
       "      <td>Transportation</td>\n",
       "      <td>Kenya</td>\n",
       "      <td>1.0</td>\n",
       "      <td>irregular</td>\n",
       "      <td>2014-01-31</td>\n",
       "      <td>F</td>\n",
       "    </tr>\n",
       "    <tr>\n",
       "      <th>11410</th>\n",
       "      <td>1080393</td>\n",
       "      <td>250.0</td>\n",
       "      <td>Retail</td>\n",
       "      <td>Kenya</td>\n",
       "      <td>1.0</td>\n",
       "      <td>irregular</td>\n",
       "      <td>2014-01-31</td>\n",
       "      <td>F</td>\n",
       "    </tr>\n",
       "    <tr>\n",
       "      <th>11488</th>\n",
       "      <td>1080392</td>\n",
       "      <td>250.0</td>\n",
       "      <td>Agriculture</td>\n",
       "      <td>Kenya</td>\n",
       "      <td>1.0</td>\n",
       "      <td>irregular</td>\n",
       "      <td>2014-01-31</td>\n",
       "      <td>F</td>\n",
       "    </tr>\n",
       "    <tr>\n",
       "      <th>11599</th>\n",
       "      <td>1080394</td>\n",
       "      <td>250.0</td>\n",
       "      <td>Agriculture</td>\n",
       "      <td>Kenya</td>\n",
       "      <td>1.0</td>\n",
       "      <td>irregular</td>\n",
       "      <td>2014-01-31</td>\n",
       "      <td>F</td>\n",
       "    </tr>\n",
       "    <tr>\n",
       "      <th>11617</th>\n",
       "      <td>1080388</td>\n",
       "      <td>250.0</td>\n",
       "      <td>Services</td>\n",
       "      <td>Kenya</td>\n",
       "      <td>1.0</td>\n",
       "      <td>irregular</td>\n",
       "      <td>2014-01-31</td>\n",
       "      <td>M</td>\n",
       "    </tr>\n",
       "    <tr>\n",
       "      <th>11800</th>\n",
       "      <td>1080405</td>\n",
       "      <td>250.0</td>\n",
       "      <td>Services</td>\n",
       "      <td>Kenya</td>\n",
       "      <td>1.0</td>\n",
       "      <td>irregular</td>\n",
       "      <td>2014-02-02</td>\n",
       "      <td>F</td>\n",
       "    </tr>\n",
       "    <tr>\n",
       "      <th>11803</th>\n",
       "      <td>1080404</td>\n",
       "      <td>250.0</td>\n",
       "      <td>Retail</td>\n",
       "      <td>Kenya</td>\n",
       "      <td>1.0</td>\n",
       "      <td>irregular</td>\n",
       "      <td>2014-02-02</td>\n",
       "      <td>F</td>\n",
       "    </tr>\n",
       "    <tr>\n",
       "      <th>12178</th>\n",
       "      <td>1080420</td>\n",
       "      <td>250.0</td>\n",
       "      <td>Retail</td>\n",
       "      <td>Kenya</td>\n",
       "      <td>1.0</td>\n",
       "      <td>irregular</td>\n",
       "      <td>2014-02-03</td>\n",
       "      <td>F</td>\n",
       "    </tr>\n",
       "    <tr>\n",
       "      <th>12453</th>\n",
       "      <td>1080434</td>\n",
       "      <td>250.0</td>\n",
       "      <td>Clothing</td>\n",
       "      <td>Kenya</td>\n",
       "      <td>1.0</td>\n",
       "      <td>irregular</td>\n",
       "      <td>2014-02-04</td>\n",
       "      <td>F</td>\n",
       "    </tr>\n",
       "    <tr>\n",
       "      <th>14310</th>\n",
       "      <td>1080473</td>\n",
       "      <td>125.0</td>\n",
       "      <td>Retail</td>\n",
       "      <td>Kenya</td>\n",
       "      <td>1.0</td>\n",
       "      <td>irregular</td>\n",
       "      <td>2014-02-09</td>\n",
       "      <td>F</td>\n",
       "    </tr>\n",
       "    <tr>\n",
       "      <th>15542</th>\n",
       "      <td>1080489</td>\n",
       "      <td>125.0</td>\n",
       "      <td>Clothing</td>\n",
       "      <td>Kenya</td>\n",
       "      <td>1.0</td>\n",
       "      <td>irregular</td>\n",
       "      <td>2014-02-11</td>\n",
       "      <td>F</td>\n",
       "    </tr>\n",
       "    <tr>\n",
       "      <th>29016</th>\n",
       "      <td>1080675</td>\n",
       "      <td>250.0</td>\n",
       "      <td>Retail</td>\n",
       "      <td>Kenya</td>\n",
       "      <td>1.0</td>\n",
       "      <td>irregular</td>\n",
       "      <td>2014-03-11</td>\n",
       "      <td>F</td>\n",
       "    </tr>\n",
       "    <tr>\n",
       "      <th>29789</th>\n",
       "      <td>1080683</td>\n",
       "      <td>250.0</td>\n",
       "      <td>Clothing</td>\n",
       "      <td>Kenya</td>\n",
       "      <td>1.0</td>\n",
       "      <td>irregular</td>\n",
       "      <td>2014-03-12</td>\n",
       "      <td>F</td>\n",
       "    </tr>\n",
       "    <tr>\n",
       "      <th>39694</th>\n",
       "      <td>1080894</td>\n",
       "      <td>250.0</td>\n",
       "      <td>Construction</td>\n",
       "      <td>Kenya</td>\n",
       "      <td>1.0</td>\n",
       "      <td>irregular</td>\n",
       "      <td>2014-04-02</td>\n",
       "      <td>F</td>\n",
       "    </tr>\n",
       "    <tr>\n",
       "      <th>45830</th>\n",
       "      <td>1081076</td>\n",
       "      <td>125.0</td>\n",
       "      <td>Clothing</td>\n",
       "      <td>Kenya</td>\n",
       "      <td>1.0</td>\n",
       "      <td>irregular</td>\n",
       "      <td>2014-04-16</td>\n",
       "      <td>F</td>\n",
       "    </tr>\n",
       "    <tr>\n",
       "      <th>45986</th>\n",
       "      <td>1081078</td>\n",
       "      <td>125.0</td>\n",
       "      <td>Retail</td>\n",
       "      <td>Kenya</td>\n",
       "      <td>1.0</td>\n",
       "      <td>irregular</td>\n",
       "      <td>2014-04-16</td>\n",
       "      <td>F</td>\n",
       "    </tr>\n",
       "    <tr>\n",
       "      <th>48474</th>\n",
       "      <td>1081137</td>\n",
       "      <td>250.0</td>\n",
       "      <td>Agriculture</td>\n",
       "      <td>Kenya</td>\n",
       "      <td>1.0</td>\n",
       "      <td>irregular</td>\n",
       "      <td>2014-04-23</td>\n",
       "      <td>M</td>\n",
       "    </tr>\n",
       "    <tr>\n",
       "      <th>49396</th>\n",
       "      <td>1081156</td>\n",
       "      <td>250.0</td>\n",
       "      <td>Clothing</td>\n",
       "      <td>Kenya</td>\n",
       "      <td>1.0</td>\n",
       "      <td>irregular</td>\n",
       "      <td>2014-04-24</td>\n",
       "      <td>F</td>\n",
       "    </tr>\n",
       "    <tr>\n",
       "      <th>53098</th>\n",
       "      <td>1081263</td>\n",
       "      <td>125.0</td>\n",
       "      <td>Agriculture</td>\n",
       "      <td>Kenya</td>\n",
       "      <td>1.0</td>\n",
       "      <td>weekly</td>\n",
       "      <td>2014-05-03</td>\n",
       "      <td>F</td>\n",
       "    </tr>\n",
       "    <tr>\n",
       "      <th>81739</th>\n",
       "      <td>1082038</td>\n",
       "      <td>250.0</td>\n",
       "      <td>Transportation</td>\n",
       "      <td>Kenya</td>\n",
       "      <td>1.0</td>\n",
       "      <td>irregular</td>\n",
       "      <td>2014-07-02</td>\n",
       "      <td>F</td>\n",
       "    </tr>\n",
       "    <tr>\n",
       "      <th>82547</th>\n",
       "      <td>1082049</td>\n",
       "      <td>250.0</td>\n",
       "      <td>Agriculture</td>\n",
       "      <td>Kenya</td>\n",
       "      <td>1.0</td>\n",
       "      <td>irregular</td>\n",
       "      <td>2014-07-03</td>\n",
       "      <td>F</td>\n",
       "    </tr>\n",
       "    <tr>\n",
       "      <th>121850</th>\n",
       "      <td>1083671</td>\n",
       "      <td>100.0</td>\n",
       "      <td>Agriculture</td>\n",
       "      <td>Kenya</td>\n",
       "      <td>1.0</td>\n",
       "      <td>irregular</td>\n",
       "      <td>2014-09-22</td>\n",
       "      <td>F</td>\n",
       "    </tr>\n",
       "    <tr>\n",
       "      <th>196159</th>\n",
       "      <td>1087579</td>\n",
       "      <td>75.0</td>\n",
       "      <td>Agriculture</td>\n",
       "      <td>Kenya</td>\n",
       "      <td>1.0</td>\n",
       "      <td>irregular</td>\n",
       "      <td>2015-02-20</td>\n",
       "      <td>F</td>\n",
       "    </tr>\n",
       "    <tr>\n",
       "      <th>199098</th>\n",
       "      <td>1087727</td>\n",
       "      <td>75.0</td>\n",
       "      <td>Agriculture</td>\n",
       "      <td>Kenya</td>\n",
       "      <td>1.0</td>\n",
       "      <td>irregular</td>\n",
       "      <td>2015-02-26</td>\n",
       "      <td>F</td>\n",
       "    </tr>\n",
       "    <tr>\n",
       "      <th>208871</th>\n",
       "      <td>1088074</td>\n",
       "      <td>75.0</td>\n",
       "      <td>Agriculture</td>\n",
       "      <td>Kenya</td>\n",
       "      <td>1.0</td>\n",
       "      <td>irregular</td>\n",
       "      <td>2015-03-17</td>\n",
       "      <td>F</td>\n",
       "    </tr>\n",
       "  </tbody>\n",
       "</table>\n",
       "</div>"
      ],
      "text/plain": [
       "             id  loan_amount          sector country  term_in_months  \\\n",
       "1877    1080189        125.0        Services   Kenya             1.0   \n",
       "2915    1080219        250.0        Clothing   Kenya             1.0   \n",
       "4277    1080268        125.0     Agriculture   Kenya             1.0   \n",
       "6772    1080311        125.0        Clothing   Kenya             1.0   \n",
       "7851    1080328        125.0        Services   Kenya             1.0   \n",
       "10478   1080374        125.0        Clothing   Kenya             1.0   \n",
       "11319   1080391        250.0  Transportation   Kenya             1.0   \n",
       "11410   1080393        250.0          Retail   Kenya             1.0   \n",
       "11488   1080392        250.0     Agriculture   Kenya             1.0   \n",
       "11599   1080394        250.0     Agriculture   Kenya             1.0   \n",
       "11617   1080388        250.0        Services   Kenya             1.0   \n",
       "11800   1080405        250.0        Services   Kenya             1.0   \n",
       "11803   1080404        250.0          Retail   Kenya             1.0   \n",
       "12178   1080420        250.0          Retail   Kenya             1.0   \n",
       "12453   1080434        250.0        Clothing   Kenya             1.0   \n",
       "14310   1080473        125.0          Retail   Kenya             1.0   \n",
       "15542   1080489        125.0        Clothing   Kenya             1.0   \n",
       "29016   1080675        250.0          Retail   Kenya             1.0   \n",
       "29789   1080683        250.0        Clothing   Kenya             1.0   \n",
       "39694   1080894        250.0    Construction   Kenya             1.0   \n",
       "45830   1081076        125.0        Clothing   Kenya             1.0   \n",
       "45986   1081078        125.0          Retail   Kenya             1.0   \n",
       "48474   1081137        250.0     Agriculture   Kenya             1.0   \n",
       "49396   1081156        250.0        Clothing   Kenya             1.0   \n",
       "53098   1081263        125.0     Agriculture   Kenya             1.0   \n",
       "81739   1082038        250.0  Transportation   Kenya             1.0   \n",
       "82547   1082049        250.0     Agriculture   Kenya             1.0   \n",
       "121850  1083671        100.0     Agriculture   Kenya             1.0   \n",
       "196159  1087579         75.0     Agriculture   Kenya             1.0   \n",
       "199098  1087727         75.0     Agriculture   Kenya             1.0   \n",
       "208871  1088074         75.0     Agriculture   Kenya             1.0   \n",
       "\n",
       "       repayment_interval       date gender  \n",
       "1877            irregular 2014-01-08      M  \n",
       "2915            irregular 2014-01-10      F  \n",
       "4277            irregular 2014-01-15      M  \n",
       "6772            irregular 2014-01-21      F  \n",
       "7851               weekly 2014-01-23      M  \n",
       "10478           irregular 2014-01-29      F  \n",
       "11319           irregular 2014-01-31      F  \n",
       "11410           irregular 2014-01-31      F  \n",
       "11488           irregular 2014-01-31      F  \n",
       "11599           irregular 2014-01-31      F  \n",
       "11617           irregular 2014-01-31      M  \n",
       "11800           irregular 2014-02-02      F  \n",
       "11803           irregular 2014-02-02      F  \n",
       "12178           irregular 2014-02-03      F  \n",
       "12453           irregular 2014-02-04      F  \n",
       "14310           irregular 2014-02-09      F  \n",
       "15542           irregular 2014-02-11      F  \n",
       "29016           irregular 2014-03-11      F  \n",
       "29789           irregular 2014-03-12      F  \n",
       "39694           irregular 2014-04-02      F  \n",
       "45830           irregular 2014-04-16      F  \n",
       "45986           irregular 2014-04-16      F  \n",
       "48474           irregular 2014-04-23      M  \n",
       "49396           irregular 2014-04-24      F  \n",
       "53098              weekly 2014-05-03      F  \n",
       "81739           irregular 2014-07-02      F  \n",
       "82547           irregular 2014-07-03      F  \n",
       "121850          irregular 2014-09-22      F  \n",
       "196159          irregular 2015-02-20      F  \n",
       "199098          irregular 2015-02-26      F  \n",
       "208871          irregular 2015-03-17      F  "
      ]
     },
     "execution_count": 72,
     "metadata": {},
     "output_type": "execute_result"
    }
   ],
   "source": [
    "data.loc[data['term_in_months']== 1]"
   ]
  },
  {
   "cell_type": "code",
   "execution_count": 41,
   "metadata": {},
   "outputs": [],
   "source": [
    "#Why is the .max() method giving a different value from the max in the .describe() method?\n",
    "#I can't deduce this hypothesis.\n",
    "#Later"
   ]
  },
  {
   "cell_type": "markdown",
   "metadata": {},
   "source": [
    "6. At what intervals do they pay?"
   ]
  },
  {
   "cell_type": "code",
   "execution_count": 42,
   "metadata": {},
   "outputs": [
    {
     "data": {
      "text/plain": [
       "monthly      340171\n",
       "irregular    256573\n",
       "daily         69638\n",
       "weekly          602\n",
       "Name: repayment_interval, dtype: int64"
      ]
     },
     "execution_count": 42,
     "metadata": {},
     "output_type": "execute_result"
    }
   ],
   "source": [
    "data['repayment_interval'].value_counts()"
   ]
  },
  {
   "cell_type": "code",
   "execution_count": 43,
   "metadata": {
    "collapsed": true
   },
   "outputs": [
    {
     "name": "stdout",
     "output_type": "stream",
     "text": [
      "monthly 340171\n"
     ]
    }
   ],
   "source": [
    "print(data['repayment_interval'].value_counts().idxmax(), data['repayment_interval'].value_counts().max())"
   ]
  },
  {
   "cell_type": "markdown",
   "metadata": {},
   "source": [
    "Monthly repayments are the highest, closely followed by irregular payments."
   ]
  },
  {
   "cell_type": "code",
   "execution_count": 44,
   "metadata": {},
   "outputs": [
    {
     "data": {
      "text/plain": [
       "sector          repayment_interval\n",
       "Agriculture     monthly               143730\n",
       "                irregular             123152\n",
       "                daily                  47955\n",
       "                weekly                   136\n",
       "Arts            monthly                 5898\n",
       "                irregular               4627\n",
       "                daily                   1454\n",
       "                weekly                    15\n",
       "Clothing        monthly                17845\n",
       "                irregular              13521\n",
       "                daily                    976\n",
       "                weekly                   138\n",
       "Construction    monthly                 4358\n",
       "                irregular               1545\n",
       "                daily                    280\n",
       "                weekly                    11\n",
       "Education       monthly                24076\n",
       "                irregular               4331\n",
       "                daily                   2430\n",
       "Entertainment   monthly                  439\n",
       "                irregular                226\n",
       "                daily                    155\n",
       "Health          monthly                 7374\n",
       "                irregular               1654\n",
       "                daily                    131\n",
       "                weekly                    13\n",
       "Housing         monthly                24259\n",
       "                irregular               8442\n",
       "                daily                    870\n",
       "Manufacturing   monthly                 3284\n",
       "                irregular               2433\n",
       "                daily                    441\n",
       "Personal Use    monthly                27409\n",
       "                daily                   4790\n",
       "                irregular               4048\n",
       "Retail          irregular              73519\n",
       "                monthly                45351\n",
       "                daily                   4764\n",
       "                weekly                   124\n",
       "Services        monthly                27088\n",
       "                irregular              12518\n",
       "                daily                   4940\n",
       "                weekly                   153\n",
       "Transportation  monthly                 8651\n",
       "                irregular               6394\n",
       "                daily                    398\n",
       "                weekly                    12\n",
       "Wholesale       monthly                  409\n",
       "                irregular                163\n",
       "                daily                     54\n",
       "Name: repayment_interval, dtype: int64"
      ]
     },
     "execution_count": 44,
     "metadata": {},
     "output_type": "execute_result"
    }
   ],
   "source": [
    "data.groupby('sector')['repayment_interval'].value_counts()"
   ]
  },
  {
   "cell_type": "markdown",
   "metadata": {},
   "source": [
    "Most loan repayments(both monthly and irregular) come from Agriculture, then Retail and Services.\n",
    "This means that most economies are run by these three sectors."
   ]
  },
  {
   "cell_type": "code",
   "execution_count": 45,
   "metadata": {},
   "outputs": [
    {
     "data": {
      "text/plain": [
       "('Philippines', 'irregular')"
      ]
     },
     "execution_count": 45,
     "metadata": {},
     "output_type": "execute_result"
    }
   ],
   "source": [
    "data.groupby('country')['repayment_interval'].value_counts().idxmax()"
   ]
  },
  {
   "cell_type": "code",
   "execution_count": 46,
   "metadata": {},
   "outputs": [
    {
     "data": {
      "text/plain": [
       "count    666984.000000\n",
       "mean        840.300742\n",
       "std        1187.909500\n",
       "min          25.000000\n",
       "25%         275.000000\n",
       "50%         500.000000\n",
       "75%        1000.000000\n",
       "max      100000.000000\n",
       "Name: loan_amount, dtype: float64"
      ]
     },
     "execution_count": 46,
     "metadata": {},
     "output_type": "execute_result"
    }
   ],
   "source": [
    "data['loan_amount'].describe()"
   ]
  },
  {
   "cell_type": "code",
   "execution_count": 47,
   "metadata": {
    "scrolled": true
   },
   "outputs": [
    {
     "data": {
      "text/plain": [
       "repayment_interval\n",
       "daily         62460325.0\n",
       "irregular    176700350.0\n",
       "monthly      321165200.0\n",
       "weekly          141275.0\n",
       "Name: loan_amount, dtype: float64"
      ]
     },
     "execution_count": 47,
     "metadata": {},
     "output_type": "execute_result"
    }
   ],
   "source": [
    "data.groupby('repayment_interval')['loan_amount'].sum()"
   ]
  },
  {
   "cell_type": "markdown",
   "metadata": {},
   "source": [
    "The highest total loan amount has been repaid in monthly intervals, with the lowest being repaid weekly.\n",
    "This means that Kiva borrowers have to wait for a month so as to repay a loan. Clearly the agriculture sector gives returns on a monthly basis."
   ]
  },
  {
   "cell_type": "code",
   "execution_count": 48,
   "metadata": {},
   "outputs": [],
   "source": [
    "#which year,month were most loans taken?\n",
    "#filter by year or month. How?"
   ]
  },
  {
   "cell_type": "markdown",
   "metadata": {},
   "source": [
    "A temporary conclusion(some questions still unanswered):\n",
    "Most Kiva borrowers are female.\n",
    "Most borrowers(male and female) come from the Phillipines.\n",
    "Phillipines is also the country with the highest total loan amount borrowed.\n",
    "Phillipines is also the country that repaid the most loans, irregularly.\n",
    "I think it's safe to say that Phillipines is an outlier.\n",
    "The agriculture sector contibutes highly to most loans borrowed and repaid.\n",
    "Most loan repaymnet intervals are monthly, followed closely by irregularly.\n",
    "Therefore, poverty levels of Kiva borrowers are low since most people borrow loans to sustain the most basic and largest economic activity- Agriculture."
   ]
  }
 ],
 "metadata": {
  "kernelspec": {
   "display_name": "Python 3",
   "language": "python",
   "name": "python3"
  },
  "language_info": {
   "codemirror_mode": {
    "name": "ipython",
    "version": 3
   },
   "file_extension": ".py",
   "mimetype": "text/x-python",
   "name": "python",
   "nbconvert_exporter": "python",
   "pygments_lexer": "ipython3",
   "version": "3.7.6"
  }
 },
 "nbformat": 4,
 "nbformat_minor": 4
}
